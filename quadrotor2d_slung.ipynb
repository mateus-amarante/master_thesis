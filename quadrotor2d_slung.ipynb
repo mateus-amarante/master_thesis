{
 "cells": [
  {
   "cell_type": "code",
   "execution_count": 4,
   "metadata": {},
   "outputs": [],
   "source": [
    "from sympy import *\n",
    "from sympy.physics.mechanics import dynamicsymbols, init_vprinting\n",
    "\n",
    "init_vprinting()\n",
    "\n",
    "t, u1, u2 = symbols('t u_1 u_2')\n",
    "\n",
    "# Pitch and load angles\n",
    "theta, alpha = dynamicsymbols('\\ttheta \\talpha')\n",
    "\n",
    "# Position\n",
    "# x,z = dynamicsymbols('x z')\n",
    "# xL = x - l*sin(alpha)\n",
    "# zL = z - l*cos(alpha)\n",
    "\n",
    "xL,zL = dynamicsymbols('x_L z_L')\n",
    "x = xL + l*sin(alpha)\n",
    "z = zL + l*cos(alpha)\n",
    "\n",
    "# Velocities\n",
    "xdot = diff(x,t)\n",
    "zdot = diff(z,t)\n",
    "\n",
    "xLdot = diff(xL,t)\n",
    "zLdot = diff(zL,t)\n",
    "\n",
    "thetadot = diff(theta,t)\n",
    "alphadot = diff(alpha,t)\n",
    "\n",
    "# Accelerations\n",
    "xddot = diff(xdot,t)\n",
    "zddot = diff(zdot,t)\n",
    "\n",
    "xLddot = diff(xLdot,t)\n",
    "zLddot = diff(zLdot,t)\n",
    "\n",
    "thetaddot = diff(thetadot,t)\n",
    "alphaddot = diff(alphadot,t)\n",
    "\n",
    "# Physical parameters\n",
    "m, M, l, g, I = symbols('m M l g I')\n",
    "\n",
    "# Auxiliary variables\n",
    "#ux = sin(alpha)\n",
    "#uz = cos(alpha)\n",
    "#ualpha = sin(theta-alpha)"
   ]
  },
  {
   "cell_type": "code",
   "execution_count": 7,
   "metadata": {},
   "outputs": [
    {
     "data": {
      "image/png": "[encoded data removed]",
      "text/latex": [
       "$$- M l \\operatorname{sin}\\left(\\alpha\\right) \\dot{\\alpha}^{2} + M l \\operatorname{cos}\\left(\\alpha\\right) \\ddot{\\alpha} - u_{1} \\operatorname{sin}\\left(\\theta\\right) + \\left(M + m\\right) \\ddot{x}_{L}$$"
      ],
      "text/plain": [
       "               2                                           \n",
       "- M⋅l⋅sin(α)⋅α̇  + M⋅l⋅cos(α)⋅α̈ - u₁⋅sin(θ) + (M + m)⋅x_̈L"
      ]
     },
     "execution_count": 7,
     "metadata": {},
     "output_type": "execute_result"
    }
   ],
   "source": [
    "eqX = M*xddot - sin(theta)*u1 + m*xLddot\n",
    "eqX = collect(expand(eqX),xLddot)\n",
    "eqX "
   ]
  },
  {
   "cell_type": "code",
   "execution_count": 51,
   "metadata": {},
   "outputs": [
    {
     "data": {
      "image/png": "[encoded data removed]",
      "text/latex": [
       "$$\\left [ \\pi, \\quad - i \\operatorname{log}\\left(- i e^{i \\alpha}\\right), \\quad - i \\operatorname{log}\\left(i e^{i \\alpha}\\right), \\quad - i \\operatorname{log}\\left(- e^{2 i \\alpha}\\right)\\right ]$$"
      ],
      "text/plain": [
       "⎡         ⎛    ⅈ⋅α⎞        ⎛   ⅈ⋅α⎞        ⎛  2⋅ⅈ⋅α⎞⎤\n",
       "⎣π, -ⅈ⋅log⎝-ⅈ⋅ℯ   ⎠, -ⅈ⋅log⎝ⅈ⋅ℯ   ⎠, -ⅈ⋅log⎝-ℯ     ⎠⎦"
      ]
     },
     "execution_count": 51,
     "metadata": {},
     "output_type": "execute_result"
    }
   ],
   "source": [
    "eqx=simplify(-cos(alpha)*sin(theta-alpha)+sin(theta))\n",
    "eqz=simplify(sin(alpha)*sin(theta-alpha)+cos(theta))\n",
    "#solve(expand_trig(eqz),alpha)\n",
    "solve(eqx-eqz*u1,theta)"
   ]
  },
  {
   "cell_type": "code",
   "execution_count": 11,
   "metadata": {},
   "outputs": [
    {
     "data": {
      "image/png": "[encoded data removed]",
      "text/latex": [
       "$$- M l \\operatorname{sin}\\left(\\alpha\\right) \\ddot{\\alpha} - M l \\operatorname{cos}\\left(\\alpha\\right) \\dot{\\alpha}^{2} + g \\left(M + m\\right) - u_{1} \\operatorname{cos}\\left(\\theta\\right) + \\left(M + m\\right) \\ddot{z}_{L}$$"
      ],
      "text/plain": [
       "                              2                                       \n",
       "-M⋅l⋅sin(α)⋅α̈ - M⋅l⋅cos(α)⋅α̇  + g⋅(M + m) - u₁⋅cos(θ) + (M + m)⋅z_̈L"
      ]
     },
     "execution_count": 11,
     "metadata": {},
     "output_type": "execute_result"
    }
   ],
   "source": [
    "eqZ = M*zddot - cos(theta)*u1 + m*zLddot + (M+m)*g\n",
    "eqZ = collect(expand(eqZ),zLddot)\n",
    "eqZ = collect(eqZ,g)\n",
    "eqZ"
   ]
  },
  {
   "cell_type": "code",
   "execution_count": 71,
   "metadata": {},
   "outputs": [
    {
     "data": {
      "image/png": "[encoded data removed]",
      "text/latex": [
       "$$\\frac{I \\dot{\\theta}^{2}}{2} - M g \\left(l \\operatorname{cos}\\left(\\alpha\\right) + z_{L}\\right) + \\frac{M}{2} \\left(\\left(- l \\operatorname{sin}\\left(\\alpha\\right) \\dot{\\alpha} + \\dot{z}_{L}\\right)^{2} + \\left(l \\operatorname{cos}\\left(\\alpha\\right) \\dot{\\alpha} + \\dot{x}_{L}\\right)^{2}\\right) - g m z_{L} + \\frac{m}{2} \\left(\\dot{x}_{L}^{2} + \\dot{z}_{L}^{2}\\right)$$"
      ],
      "text/plain": [
       "    2                            ⎛                     2                      \n",
       "I⋅θ̇                           M⋅⎝(-l⋅sin(α)⋅α̇ + z_̇L)  + (l⋅cos(α)⋅α̇ + x_̇L\n",
       "───── - M⋅g⋅(l⋅cos(α) + z_L) + ───────────────────────────────────────────────\n",
       "  2                                                    2                      \n",
       "\n",
       " 2⎞               ⎛    2       2⎞\n",
       ") ⎠             m⋅⎝x_̇L  + z_̇L ⎠\n",
       "─── - g⋅m⋅z_L + ─────────────────\n",
       "                        2        "
      ]
     },
     "execution_count": 71,
     "metadata": {},
     "output_type": "execute_result"
    }
   ],
   "source": [
    "T = I*thetadot**2/2 + M*(xdot**2+zdot**2)/2 + m*(xLdot**2+zLdot**2)/2\n",
    "V = M*g*z + m*g*zL\n",
    "L = T-V\n",
    "L"
   ]
  },
  {
   "cell_type": "code",
   "execution_count": 72,
   "metadata": {},
   "outputs": [
    {
     "data": {
      "image/png": "[encoded data removed]",
      "text/latex": [
       "$$M l \\left(- \\operatorname{sin}\\left(\\alpha\\right) \\dot{\\alpha}^{2} + \\operatorname{cos}\\left(\\alpha\\right) \\ddot{\\alpha}\\right) - u_{1} \\operatorname{sin}\\left(\\alpha\\right) \\operatorname{cos}\\left(\\alpha - \\theta\\right) + \\left(M + m\\right) \\ddot{x}_{L}$$"
      ],
      "text/plain": [
       "    ⎛           2            ⎞                                      \n",
       "M⋅l⋅⎝- sin(α)⋅α̇  + cos(α)⋅α̈⎠ - u₁⋅sin(α)⋅cos(α - θ) + (M + m)⋅x_̈L"
      ]
     },
     "execution_count": 72,
     "metadata": {},
     "output_type": "execute_result"
    }
   ],
   "source": [
    "eqX = expand(diff(diff(L,xLdot),t) - diff(L,xL)-ux*u1)\n",
    "eqX = collect(eqX,diff(xL,t,2))\n",
    "eqX = collect(eqX,M*l)\n",
    "eqX"
   ]
  },
  {
   "cell_type": "code",
   "execution_count": 73,
   "metadata": {},
   "outputs": [
    {
     "data": {
      "image/png": "[encoded data removed]",
      "text/latex": [
       "$$M l \\left(- \\operatorname{sin}\\left(\\alpha\\right) \\ddot{\\alpha} - \\operatorname{cos}\\left(\\alpha\\right) \\dot{\\alpha}^{2}\\right) + g \\left(M + m\\right) - u_{1} \\operatorname{cos}\\left(\\alpha - \\theta\\right) \\operatorname{cos}\\left(\\alpha\\right) + \\left(M + m\\right) \\ddot{z}_{L}$$"
      ],
      "text/plain": [
       "    ⎛                      2⎞                                                 \n",
       "M⋅l⋅⎝-sin(α)⋅α̈ - cos(α)⋅α̇ ⎠ + g⋅(M + m) - u₁⋅cos(α - θ)⋅cos(α) + (M + m)⋅z_̈\n",
       "\n",
       " \n",
       "L"
      ]
     },
     "execution_count": 73,
     "metadata": {},
     "output_type": "execute_result"
    }
   ],
   "source": [
    "eqZ = expand(diff(diff(L,zLdot),t) - diff(L,zL)-uz*u1)\n",
    "eqZ = collect(collect(eqZ,diff(zL,t,2)),g)\n",
    "eqZ = collect(eqZ,M*l)\n",
    "eqZ"
   ]
  },
  {
   "cell_type": "code",
   "execution_count": 74,
   "metadata": {},
   "outputs": [
    {
     "data": {
      "image/png": "[encoded data removed]",
      "text/latex": [
       "$$- M g l \\operatorname{sin}\\left(\\alpha\\right) + M l^{2} \\ddot{\\alpha} - M l \\operatorname{sin}\\left(\\alpha\\right) \\ddot{z}_{L} + M l \\operatorname{cos}\\left(\\alpha\\right) \\ddot{x}_{L} + u_{1} \\operatorname{sin}\\left(\\alpha - \\theta\\right)$$"
      ],
      "text/plain": [
       "                   2                                                       \n",
       "-M⋅g⋅l⋅sin(α) + M⋅l ⋅α̈ - M⋅l⋅sin(α)⋅z_̈L + M⋅l⋅cos(α)⋅x_̈L + u₁⋅sin(α - θ)"
      ]
     },
     "execution_count": 74,
     "metadata": {},
     "output_type": "execute_result"
    }
   ],
   "source": [
    "eqAlpha = expand(diff(diff(L,alphadot),t) - diff(L,alpha) - ualpha*u1)\n",
    "eqAlpha = simplify(eqAlpha)\n",
    "#eqAlpha = collect(eqAlpha,diff(alpha,t,2))\n",
    "eqAlpha"
   ]
  },
  {
   "cell_type": "code",
   "execution_count": 75,
   "metadata": {},
   "outputs": [
    {
     "data": {
      "image/png": "[encoded data removed]",
      "text/latex": [
       "$$I \\ddot{\\theta} - u_{2}$$"
      ],
      "text/plain": [
       "I⋅θ̈ - u₂"
      ]
     },
     "execution_count": 75,
     "metadata": {},
     "output_type": "execute_result"
    }
   ],
   "source": [
    "eqTheta = expand(diff(diff(L,thetadot),t) - diff(L,theta) - u2)\n",
    "eqTheta"
   ]
  },
  {
   "cell_type": "code",
   "execution_count": 76,
   "metadata": {},
   "outputs": [],
   "source": [
    "res = solve([eqX,eqZ,eqAlpha,eqTheta],[diff(xL,t,2),diff(zL,t,2),diff(alpha,t,2),diff(theta,t,2)])"
   ]
  },
  {
   "cell_type": "code",
   "execution_count": 77,
   "metadata": {},
   "outputs": [
    {
     "data": {
      "image/png": "[encoded data removed]",
      "text/latex": [
       "$$\\left \\{ \\ddot{\\alpha} : - \\frac{u_{1} \\operatorname{sin}\\left(\\alpha - \\theta\\right)}{M l^{2} m} \\left(M + m\\right), \\quad \\ddot{\\theta} : \\frac{u_{2}}{I}, \\quad \\ddot{x}_{L} : \\frac{1}{l m \\left(M + m\\right)} \\left(M l^{2} m \\operatorname{sin}\\left(\\alpha\\right) \\dot{\\alpha}^{2} + M u_{1} \\operatorname{sin}\\left(\\alpha - \\theta\\right) \\operatorname{cos}\\left(\\alpha\\right) + l m u_{1} \\operatorname{sin}\\left(\\alpha\\right) \\operatorname{cos}\\left(\\alpha - \\theta\\right) + m u_{1} \\operatorname{sin}\\left(\\alpha - \\theta\\right) \\operatorname{cos}\\left(\\alpha\\right)\\right), \\quad \\ddot{z}_{L} : \\frac{1}{l m \\left(M + m\\right)} \\left(- M g l m + M l^{2} m \\operatorname{cos}\\left(\\alpha\\right) \\dot{\\alpha}^{2} - M u_{1} \\operatorname{sin}\\left(\\alpha - \\theta\\right) \\operatorname{sin}\\left(\\alpha\\right) - g l m^{2} + l m u_{1} \\operatorname{cos}\\left(\\alpha - \\theta\\right) \\operatorname{cos}\\left(\\alpha\\right) - m u_{1} \\operatorname{sin}\\left(\\alpha - \\theta\\right) \\operatorname{sin}\\left(\\alpha\\right)\\right)\\right \\}$$"
      ],
      "text/plain": [
       "⎧                                              2            2                 \n",
       "⎪    -u₁⋅(M + m)⋅sin(α - θ)       u₂        M⋅l ⋅m⋅sin(α)⋅α̇  + M⋅u₁⋅sin(α - θ\n",
       "⎨α̈: ───────────────────────, θ̈: ──, x_̈L: ──────────────────────────────────\n",
       "⎪                2                I                                           \n",
       "⎩             M⋅l ⋅m                                                          \n",
       "\n",
       "                                                                              \n",
       ")⋅cos(α) + l⋅m⋅u₁⋅sin(α)⋅cos(α - θ) + m⋅u₁⋅sin(α - θ)⋅cos(α)        -M⋅g⋅l⋅m +\n",
       "────────────────────────────────────────────────────────────, z_̈L: ──────────\n",
       "       l⋅m⋅(M + m)                                                            \n",
       "                                                                              \n",
       "\n",
       "    2            2                                 2                          \n",
       " M⋅l ⋅m⋅cos(α)⋅α̇  - M⋅u₁⋅sin(α - θ)⋅sin(α) - g⋅l⋅m  + l⋅m⋅u₁⋅cos(α - θ)⋅cos(α\n",
       "──────────────────────────────────────────────────────────────────────────────\n",
       "                                         l⋅m⋅(M + m)                          \n",
       "                                                                              \n",
       "\n",
       "                          ⎫\n",
       ") - m⋅u₁⋅sin(α - θ)⋅sin(α)⎪\n",
       "──────────────────────────⎬\n",
       "                          ⎪\n",
       "                          ⎭"
      ]
     },
     "execution_count": 77,
     "metadata": {},
     "output_type": "execute_result"
    }
   ],
   "source": [
    "res"
   ]
  },
  {
   "cell_type": "code",
   "execution_count": 101,
   "metadata": {},
   "outputs": [
    {
     "data": {
      "image/png": "[encoded data removed]",
      "text/latex": [
       "$$\\frac{1}{l m \\left(M + m\\right)} \\left(M l^{2} m \\operatorname{sin}\\left(\\alpha\\right) \\dot{\\alpha}^{2} + u_{1} \\left(M \\operatorname{sin}\\left(\\alpha - \\theta\\right) \\operatorname{cos}\\left(\\alpha\\right) + l m \\operatorname{sin}\\left(\\alpha\\right) \\operatorname{cos}\\left(\\alpha - \\theta\\right) + m \\operatorname{sin}\\left(\\alpha - \\theta\\right) \\operatorname{cos}\\left(\\alpha\\right)\\right)\\right)$$"
      ],
      "text/plain": [
       "   2            2                                                             \n",
       "M⋅l ⋅m⋅sin(α)⋅α̇  + u₁⋅(M⋅sin(α - θ)⋅cos(α) + l⋅m⋅sin(α)⋅cos(α - θ) + m⋅sin(α \n",
       "──────────────────────────────────────────────────────────────────────────────\n",
       "                                       l⋅m⋅(M + m)                            \n",
       "\n",
       "            \n",
       "- θ)⋅cos(α))\n",
       "────────────\n",
       "            "
      ]
     },
     "execution_count": 101,
     "metadata": {},
     "output_type": "execute_result"
    }
   ],
   "source": [
    "xLddot = res[diff(xL,t,2)]\n",
    "xLddot = collect(expand(xLddot),u1)\n",
    "xLddot = simplify(xLddot)\n",
    "xLddot"
   ]
  },
  {
   "cell_type": "code",
   "execution_count": 100,
   "metadata": {},
   "outputs": [
    {
     "data": {
      "image/png": "[encoded data removed]",
      "text/latex": [
       "$$\\frac{1}{l m \\left(M + m\\right)} \\left(M l^{2} m \\operatorname{cos}\\left(\\alpha\\right) \\dot{\\alpha}^{2} - g l m \\left(M + m\\right) - u_{1} \\left(M \\operatorname{sin}\\left(\\alpha - \\theta\\right) \\operatorname{sin}\\left(\\alpha\\right) - l m \\operatorname{cos}\\left(\\alpha - \\theta\\right) \\operatorname{cos}\\left(\\alpha\\right) + m \\operatorname{sin}\\left(\\alpha - \\theta\\right) \\operatorname{sin}\\left(\\alpha\\right)\\right)\\right)$$"
      ],
      "text/plain": [
       "   2            2                                                             \n",
       "M⋅l ⋅m⋅cos(α)⋅α̇  - g⋅l⋅m⋅(M + m) - u₁⋅(M⋅sin(α - θ)⋅sin(α) - l⋅m⋅cos(α - θ)⋅c\n",
       "──────────────────────────────────────────────────────────────────────────────\n",
       "                                               l⋅m⋅(M + m)                    \n",
       "\n",
       "                            \n",
       "os(α) + m⋅sin(α - θ)⋅sin(α))\n",
       "────────────────────────────\n",
       "                            "
      ]
     },
     "execution_count": 100,
     "metadata": {},
     "output_type": "execute_result"
    }
   ],
   "source": [
    "zLddot = res[diff(zL,t,2)]\n",
    "zLddot = collect(expand(zLddot),u1)\n",
    "zLddot = collect(zLddot,g)\n",
    "zLddot = simplify(zLddot)\n",
    "zLddot"
   ]
  },
  {
   "cell_type": "code",
   "execution_count": 156,
   "metadata": {},
   "outputs": [
    {
     "data": {
      "image/png": "[encoded data removed]",
      "text/latex": [
       "$$\\frac{1}{M l} \\left(- \\frac{M l}{2} \\operatorname{sin}\\left(2 \\theta_{L}\\right) \\dot{\\phi}_{L}^{2} + u \\left(\\left(\\operatorname{sin}\\left(\\phi\\right) \\operatorname{sin}\\left(\\psi\\right) + \\operatorname{sin}\\left(\\theta\\right) \\operatorname{cos}\\left(\\phi\\right) \\operatorname{cos}\\left(\\psi\\right)\\right) \\operatorname{cos}\\left(\\theta_{L}\\right) - \\left(\\operatorname{sin}\\left(\\phi\\right) \\operatorname{cos}\\left(\\psi\\right) - \\operatorname{sin}\\left(\\psi\\right) \\operatorname{sin}\\left(\\theta\\right) \\operatorname{cos}\\left(\\phi\\right)\\right) \\operatorname{sin}\\left(\\phi_{L}\\right) \\operatorname{sin}\\left(\\theta_{L}\\right) - \\operatorname{sin}\\left(\\theta_{L}\\right) \\operatorname{cos}\\left(\\phi\\right) \\operatorname{cos}\\left(\\phi_{L}\\right) \\operatorname{cos}\\left(\\theta\\right)\\right)\\right)$$"
      ],
      "text/plain": [
       "                        2                                                     \n",
       "  M⋅l⋅sin(2⋅θ_L)⋅\\phi̇_L                                                      \n",
       "- ─────────────────────── + u⋅((sin(\\phi)⋅sin(\\psi) + sin(θ)⋅cos(\\phi)⋅cos(\\ps\n",
       "             2                                                                \n",
       "──────────────────────────────────────────────────────────────────────────────\n",
       "                                                                              \n",
       "\n",
       "                                                                              \n",
       "                                                                              \n",
       "i))⋅cos(θ_L) - (sin(\\phi)⋅cos(\\psi) - sin(\\psi)⋅sin(θ)⋅cos(\\phi))⋅sin(\\phi_L)⋅\n",
       "                                                                              \n",
       "──────────────────────────────────────────────────────────────────────────────\n",
       "                       M⋅l                                                    \n",
       "\n",
       "                                                 \n",
       "                                                 \n",
       "sin(θ_L) - sin(θ_L)⋅cos(\\phi)⋅cos(\\phi_L)⋅cos(θ))\n",
       "                                                 \n",
       "─────────────────────────────────────────────────\n",
       "                                                 "
      ]
     },
     "execution_count": 156,
     "metadata": {},
     "output_type": "execute_result"
    }
   ],
   "source": [
    "thetaLddot = res[diff(thetaL,t,2)]\n",
    "thetaLddot = simplify(expand_trig(thetaLddot))\n",
    "thetaLddot = thetaLddot.subs([(ux,cos(phi)*sin(theta)*cos(psi)+sin(phi)*sin(psi)), (uy,cos(phi)*sin(theta)*sin(psi)-sin(phi)*cos(psi)),(uz,cos(phi)*cos(theta))])\n",
    "thetaLddot = simplify(collect(thetaLddot,u))\n",
    "thetaLddot"
   ]
  },
  {
   "cell_type": "code",
   "execution_count": 197,
   "metadata": {},
   "outputs": [
    {
     "data": {
      "image/png": "[encoded data removed]",
      "text/latex": [
       "$$\\frac{1}{4 M \\left(M + m\\right)} \\left(- M l m \\left(\\operatorname{sin}\\left(\\theta_{L}\\right) + \\operatorname{sin}\\left(3 \\theta_{L}\\right)\\right) \\dot{\\phi}_{L}^{2} - 4 M l m \\operatorname{sin}\\left(\\theta_{L}\\right) \\dot{\\theta}_{L}^{2} + m u u_{y} \\left(\\operatorname{cos}\\left(\\phi_{L} - 2 \\theta_{L}\\right) - \\operatorname{cos}\\left(\\phi_{L} + 2 \\theta_{L}\\right)\\right) + m u u_{z} \\left(\\operatorname{sin}\\left(\\phi_{L} - 2 \\theta_{L}\\right) - \\operatorname{sin}\\left(\\phi_{L} + 2 \\theta_{L}\\right)\\right) + 4 u u_{x} \\left(M + m \\operatorname{cos}^{2}\\left(\\theta_{L}\\right)\\right)\\right)$$"
      ],
      "text/plain": [
       "                                       2                        2             \n",
       "- M⋅l⋅m⋅(sin(θ_L) + sin(3⋅θ_L))⋅\\phi̇_L  - 4⋅M⋅l⋅m⋅sin(θ_L)⋅θ_̇L  + m⋅u⋅u_y⋅(c\n",
       "──────────────────────────────────────────────────────────────────────────────\n",
       "                                                                              \n",
       "\n",
       "                                                                              \n",
       "os(\\phi_L - 2⋅θ_L) - cos(\\phi_L + 2⋅θ_L)) + m⋅u⋅u_z⋅(sin(\\phi_L - 2⋅θ_L) - sin\n",
       "──────────────────────────────────────────────────────────────────────────────\n",
       "                4⋅M⋅(M + m)                                                   \n",
       "\n",
       "                           ⎛         2     ⎞\n",
       "(\\phi_L + 2⋅θ_L)) + 4⋅u⋅uₓ⋅⎝M + m⋅cos (θ_L)⎠\n",
       "────────────────────────────────────────────\n",
       "                                            "
      ]
     },
     "execution_count": 197,
     "metadata": {},
     "output_type": "execute_result"
    }
   ],
   "source": [
    "xddot = res[diff(x,t,2)]\n",
    "xddot = collect(xddot,diff(phiL,t)**2)\n",
    "xddot = collect(xddot,u*ux)\n",
    "xddot = collect(xddot,u*uy)\n",
    "xddot = collect(xddot,u*uz)\n",
    "xddot = simplify(xddot)\n",
    "xddot"
   ]
  },
  {
   "cell_type": "code",
   "execution_count": 233,
   "metadata": {},
   "outputs": [
    {
     "data": {
      "image/png": "[encoded data removed]",
      "text/latex": [
       "$$4 \\operatorname{sin}\\left(\\theta\\right) \\operatorname{cos}^{2}\\left(\\theta\\right)$$"
      ],
      "text/plain": [
       "            2   \n",
       "4⋅sin(θ)⋅cos (θ)"
      ]
     },
     "execution_count": 233,
     "metadata": {},
     "output_type": "execute_result"
    }
   ],
   "source": [
    "simplify(expand_trig(sin(theta)+sin(3*theta)))"
   ]
  },
  {
   "cell_type": "code",
   "execution_count": 202,
   "metadata": {},
   "outputs": [
    {
     "data": {
      "image/png": "[encoded data removed]",
      "text/latex": [
       "$$4 \\operatorname{sin}\\left(\\phi\\right) \\operatorname{sin}\\left(\\theta\\right) \\operatorname{cos}\\left(\\theta\\right)$$"
      ],
      "text/plain": [
       "4⋅sin(\\phi)⋅sin(θ)⋅cos(θ)"
      ]
     },
     "execution_count": 202,
     "metadata": {},
     "output_type": "execute_result"
    }
   ],
   "source": [
    "expand_trig(cos(phi-2*theta)-cos(phi+2*theta))"
   ]
  },
  {
   "cell_type": "code",
   "execution_count": 203,
   "metadata": {},
   "outputs": [
    {
     "data": {
      "image/png": "[encoded data removed]",
      "text/latex": [
       "$$- 4 \\operatorname{sin}\\left(\\theta\\right) \\operatorname{cos}\\left(\\phi\\right) \\operatorname{cos}\\left(\\theta\\right)$$"
      ],
      "text/plain": [
       "-4⋅sin(θ)⋅cos(\\phi)⋅cos(θ)"
      ]
     },
     "execution_count": 203,
     "metadata": {},
     "output_type": "execute_result"
    }
   ],
   "source": [
    "expand_trig(sin(phi-2*theta)-sin(phi+2*theta))"
   ]
  },
  {
   "cell_type": "code",
   "execution_count": 231,
   "metadata": {},
   "outputs": [
    {
     "data": {
      "image/png": "[encoded data removed]",
      "text/latex": [
       "$$\\frac{1}{M \\left(M + m\\right)} \\left(M l m \\operatorname{sin}\\left(\\phi_{L}\\right) \\operatorname{cos}^{3}\\left(\\theta_{L}\\right) \\dot{\\phi}_{L}^{2} + M l m \\operatorname{sin}\\left(\\phi_{L}\\right) \\operatorname{cos}\\left(\\theta_{L}\\right) \\dot{\\theta}_{L}^{2} + u \\left(m u_{x} \\operatorname{sin}\\left(\\phi_{L}\\right) \\operatorname{sin}\\left(\\theta_{L}\\right) \\operatorname{cos}\\left(\\theta_{L}\\right) + m u_{z} \\operatorname{sin}\\left(\\phi_{L}\\right) \\operatorname{cos}\\left(\\phi_{L}\\right) \\operatorname{cos}^{2}\\left(\\theta_{L}\\right) + u_{y} \\left(M + m \\operatorname{cos}^{2}\\left(\\phi_{L}\\right) \\operatorname{cos}^{2}\\left(\\theta_{L}\\right) - m \\operatorname{cos}^{2}\\left(\\theta_{L}\\right) + m\\right)\\right)\\right)$$"
      ],
      "text/plain": [
       "                     3             2                                  2     ⎛ \n",
       "M⋅l⋅m⋅sin(\\phi_L)⋅cos (θ_L)⋅\\phi̇_L  + M⋅l⋅m⋅sin(\\phi_L)⋅cos(θ_L)⋅θ_̇L  + u⋅⎝m\n",
       "──────────────────────────────────────────────────────────────────────────────\n",
       "                                                                              \n",
       "\n",
       "                                                                     2        \n",
       "⋅uₓ⋅sin(\\phi_L)⋅sin(θ_L)⋅cos(θ_L) + m⋅u_z⋅sin(\\phi_L)⋅cos(\\phi_L)⋅cos (θ_L) + \n",
       "──────────────────────────────────────────────────────────────────────────────\n",
       "                      M⋅(M + m)                                               \n",
       "\n",
       "    ⎛         2            2             2         ⎞⎞\n",
       "u_y⋅⎝M + m⋅cos (\\phi_L)⋅cos (θ_L) - m⋅cos (θ_L) + m⎠⎠\n",
       "─────────────────────────────────────────────────────\n",
       "                                                     "
      ]
     },
     "execution_count": 231,
     "metadata": {},
     "output_type": "execute_result"
    }
   ],
   "source": [
    "yddot = res[diff(y,t,2)]\n",
    "yddot = collect(yddot,u*ux)\n",
    "yddot = collect(yddot,u*uy)\n",
    "yddot = collect(yddot,u*uz)\n",
    "yddot = collect(yddot,u)\n",
    "yddot"
   ]
  },
  {
   "cell_type": "code",
   "execution_count": 221,
   "metadata": {},
   "outputs": [
    {
     "data": {
      "image/png": "[encoded data removed]",
      "text/latex": [
       "$$- \\operatorname{sin}^{2}\\left(\\phi\\right) \\operatorname{cos}^{2}\\left(\\theta\\right)$$"
      ],
      "text/plain": [
       "    2          2   \n",
       "-sin (\\phi)⋅cos (θ)"
      ]
     },
     "execution_count": 221,
     "metadata": {},
     "output_type": "execute_result"
    }
   ],
   "source": [
    "trigsimp(cos(phi)**2*cos(theta)**2-cos(theta)**2)"
   ]
  },
  {
   "cell_type": "code",
   "execution_count": 232,
   "metadata": {},
   "outputs": [
    {
     "data": {
      "image/png": "[encoded data removed]",
      "text/latex": [
       "$$\\frac{1}{M \\left(M + m\\right)} \\left(- M l m \\operatorname{cos}\\left(\\phi_{L}\\right) \\operatorname{cos}^{3}\\left(\\theta_{L}\\right) \\dot{\\phi}_{L}^{2} - M l m \\operatorname{cos}\\left(\\phi_{L}\\right) \\operatorname{cos}\\left(\\theta_{L}\\right) \\dot{\\theta}_{L}^{2} + g \\left(- M^{2} - M m\\right) + u \\left(- m u_{x} \\operatorname{sin}\\left(\\theta_{L}\\right) \\operatorname{cos}\\left(\\phi_{L}\\right) \\operatorname{cos}\\left(\\theta_{L}\\right) + m u_{y} \\operatorname{sin}\\left(\\phi_{L}\\right) \\operatorname{cos}\\left(\\phi_{L}\\right) \\operatorname{cos}^{2}\\left(\\theta_{L}\\right) + u_{z} \\left(M - m \\operatorname{cos}^{2}\\left(\\phi_{L}\\right) \\operatorname{cos}^{2}\\left(\\theta_{L}\\right) + m\\right)\\right)\\right)$$"
      ],
      "text/plain": [
       "                       3             2                                  2     \n",
       "- M⋅l⋅m⋅cos(\\phi_L)⋅cos (θ_L)⋅\\phi̇_L  - M⋅l⋅m⋅cos(\\phi_L)⋅cos(θ_L)⋅θ_̇L  + g⋅\n",
       "──────────────────────────────────────────────────────────────────────────────\n",
       "                                                                              \n",
       "\n",
       "⎛   2      ⎞     ⎛                                                            \n",
       "⎝- M  - M⋅m⎠ + u⋅⎝-m⋅uₓ⋅sin(θ_L)⋅cos(\\phi_L)⋅cos(θ_L) + m⋅u_y⋅sin(\\phi_L)⋅cos(\n",
       "──────────────────────────────────────────────────────────────────────────────\n",
       "                         M⋅(M + m)                                            \n",
       "\n",
       "           2            ⎛         2            2         ⎞⎞\n",
       "\\phi_L)⋅cos (θ_L) + u_z⋅⎝M - m⋅cos (\\phi_L)⋅cos (θ_L) + m⎠⎠\n",
       "───────────────────────────────────────────────────────────\n",
       "                                                           "
      ]
     },
     "execution_count": 232,
     "metadata": {},
     "output_type": "execute_result"
    }
   ],
   "source": [
    "zddot = res[diff(z,t,2)]\n",
    "zddot = collect(zddot,g)\n",
    "zddot = collect(zddot,u*ux)\n",
    "zddot = collect(zddot,u*uy)\n",
    "zddot = collect(zddot,u*uz)\n",
    "zddot = collect(zddot,u)\n",
    "zddot"
   ]
  },
  {
   "cell_type": "code",
   "execution_count": 229,
   "metadata": {},
   "outputs": [
    {
     "data": {
      "image/png": "[encoded data removed]",
      "text/latex": [
       "$$\\frac{1}{M \\left(M + m\\right)} \\left(- M l m \\operatorname{cos}\\left(\\phi_{L}\\right) \\operatorname{cos}^{3}\\left(\\theta_{L}\\right) \\dot{\\phi}_{L}^{2} - M l m \\operatorname{cos}\\left(\\phi_{L}\\right) \\operatorname{cos}\\left(\\theta_{L}\\right) \\dot{\\theta}_{L}^{2} + g \\left(- M^{2} - M m\\right) + m u \\left(- u_{x} \\operatorname{sin}\\left(\\theta_{L}\\right) \\operatorname{cos}\\left(\\phi_{L}\\right) \\operatorname{cos}\\left(\\theta_{L}\\right) + u_{y} \\operatorname{sin}\\left(\\phi_{L}\\right) \\operatorname{cos}\\left(\\phi_{L}\\right) \\operatorname{cos}^{2}\\left(\\theta_{L}\\right)\\right) + u u_{z} \\left(M - m \\operatorname{cos}^{2}\\left(\\phi_{L}\\right) \\operatorname{cos}^{2}\\left(\\theta_{L}\\right) + m\\right)\\right)$$"
      ],
      "text/plain": [
       "                       3             2                                  2     \n",
       "- M⋅l⋅m⋅cos(\\phi_L)⋅cos (θ_L)⋅\\phi̇_L  - M⋅l⋅m⋅cos(\\phi_L)⋅cos(θ_L)⋅θ_̇L  + g⋅\n",
       "──────────────────────────────────────────────────────────────────────────────\n",
       "                                                                              \n",
       "\n",
       "⎛   2      ⎞       ⎛                                                          \n",
       "⎝- M  - M⋅m⎠ + m⋅u⋅⎝-uₓ⋅sin(θ_L)⋅cos(\\phi_L)⋅cos(θ_L) + u_y⋅sin(\\phi_L)⋅cos(\\p\n",
       "──────────────────────────────────────────────────────────────────────────────\n",
       "                         M⋅(M + m)                                            \n",
       "\n",
       "         2     ⎞         ⎛         2            2         ⎞\n",
       "hi_L)⋅cos (θ_L)⎠ + u⋅u_z⋅⎝M - m⋅cos (\\phi_L)⋅cos (θ_L) + m⎠\n",
       "───────────────────────────────────────────────────────────\n",
       "                                                           "
      ]
     },
     "execution_count": 229,
     "metadata": {},
     "output_type": "execute_result"
    }
   ],
   "source": [
    "collect(zddot,m*u)"
   ]
  },
  {
   "cell_type": "code",
   "execution_count": 239,
   "metadata": {},
   "outputs": [
    {
     "data": {
      "image/png": "[encoded data removed]",
      "text/latex": [
       "$$- \\operatorname{cos}^{2}\\left(\\phi\\right) \\operatorname{cos}^{2}\\left(\\theta\\right)$$"
      ],
      "text/plain": [
       "    2          2   \n",
       "-cos (\\phi)⋅cos (θ)"
      ]
     },
     "execution_count": 239,
     "metadata": {},
     "output_type": "execute_result"
    }
   ],
   "source": [
    "trigsimp(-cos(phi)**2*cos(theta)**2)"
   ]
  },
  {
   "cell_type": "code",
   "execution_count": 237,
   "metadata": {},
   "outputs": [
    {
     "data": {
      "image/png": "[encoded data removed]",
      "text/latex": [
       "$$\\operatorname{cos}^{2}\\left(\\theta\\right) + 1$$"
      ],
      "text/plain": [
       "   2       \n",
       "cos (θ) + 1"
      ]
     },
     "execution_count": 237,
     "metadata": {},
     "output_type": "execute_result"
    }
   ],
   "source": [
    "expand_trig(cos(theta)**2+1)"
   ]
  },
  {
   "cell_type": "code",
   "execution_count": 5,
   "metadata": {},
   "outputs": [
    {
     "data": {
      "image/png": "[encoded data removed]",
      "text/latex": [
       "$$\\left(2 \\operatorname{tan}\\left(\\theta\\right) \\dot{\\theta}^{2} + \\ddot{\\theta}\\right) \\left(\\operatorname{tan}^{2}\\left(\\theta\\right) + 1\\right)$$"
      ],
      "text/plain": [
       "⎛           2     ⎞ ⎛   2       ⎞\n",
       "⎝2⋅tan(θ)⋅θ̇  + θ̈⎠⋅⎝tan (θ) + 1⎠"
      ]
     },
     "execution_count": 5,
     "metadata": {},
     "output_type": "execute_result"
    }
   ],
   "source": [
    "diff(tan(theta),t,2)"
   ]
  },
  {
   "cell_type": "code",
   "execution_count": null,
   "metadata": {},
   "outputs": [],
   "source": []
  }
 ],
 "metadata": {
  "kernelspec": {
   "display_name": "Python 3",
   "language": "python",
   "name": "python3"
  },
  "language_info": {
   "codemirror_mode": {
    "name": "ipython",
    "version": 3
   },
   "file_extension": ".py",
   "mimetype": "text/x-python",
   "name": "python",
   "nbconvert_exporter": "python",
   "pygments_lexer": "ipython3",
   "version": "3.6.4"
  }
 },
 "nbformat": 4,
 "nbformat_minor": 2
}
