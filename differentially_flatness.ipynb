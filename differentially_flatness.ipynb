{
 "cells": [
  {
   "cell_type": "markdown",
   "metadata": {},
   "source": [
    "# Differentially Flatness of Slung-Load System\n",
    "\n",
    "Dynamic Model (Newton-Euler):\n",
    "\n",
    "$$\n",
    "M \\ddot{\\vec{x}} = f R \\vec{e}_z - m g \\vec{e}_z + T\\vec{p} \\\\\n",
    "m \\ddot{\\vec{x}}_L = -T\\vec{p} - m g \\vec{e}_z \\\\\n",
    "I \\vec{\\omega} + \\vec{\\omega} \\times I \\vec{\\omega} = \\vec{\\tau}\n",
    "$$\n",
    "\n",
    "Geometric relationship:\n",
    "\n",
    "$$\n",
    "\\vec{x} = \\vec{x}_L - L\\vec{p}\n",
    "$$\n",
    "\n",
    "## Step 1: $\\vec{x}_L \\rightarrow \\vec{x}$\n",
    "\n",
    "**Lemma 1:** From $\\vec{x}_L$ and its higher-order derivatives, we can determine $\\vec{x}$ and its higher-order derivatives. The $nth$ derivative of $\\vec{x}$ is determined from the $(n+2)th$ derivative of $\\vec{x}_L$ and the lower order derivatives\n",
    "\n",
    "**Proof:**\n",
    "\n",
    "First, determine the tension force:\n",
    "\n",
    "$$\n",
    "T\\vec{p} = - m \\ddot{\\vec{x}}_L - m g \\vec{e}_z \\\\\n",
    "\\vec{p} = \\frac{T\\vec{p}}{\\|{T\\vec{p}}\\|} \\\\\n",
    "T = T\\vec{p} \\cdot \\vec{p}\n",
    "$$\n",
    "\n",
    "Then $\\vec{x}$ is determined from the geometric relationship and its derivatives:\n",
    "\n",
    "$$\n",
    "\\vec{x} = \\vec{x}_L - L\\vec{p} \\\\\n",
    "\\dot{\\vec{x}} = \\dot{\\vec{x}}_L - L\\dot{\\vec{p}} \\\\\n",
    "\\ddot{\\vec{x}} = \\ddot{\\vec{x}}_L - L\\ddot{\\vec{p}} \\\\\n",
    "\\vdots \\\\\n",
    "\\vec{x}^{(n)} = {\\vec{x}_L}^{(n)} - L\\vec{p}^{(n)}\n",
    "$$\n",
    "\n",
    "$\\dot{\\vec{p}}$ is found by derivating the second equation of the dynamic model:\n",
    "\n",
    "$$\n",
    "\\dot{\\vec{p}} = -\\frac{(m\\dddot{\\vec{x}}_L + \\dot{T}\\vec{p})}{T}\n",
    "$$\n",
    "\n",
    "$\\dot{T}$ can be determined by derivating $T$ obtained directly from the second equation of the dynamic model:\n",
    "\n",
    "$$\n",
    "T = \\|-m\\ddot{\\vec{x}}_L -mg\\vec{e}_z \\| = \\sqrt{m^2\\left[{\\ddot{\\vec{x}}_L}^2+{\\ddot{\\vec{y}}_L}^2 \\left( {\\ddot{\\vec{z}}_L}^2 + g\\right) \\right]}\n",
    "$$\n",
    "\n",
    "Note that, by derivating the two equations above, $\\vec{p}^{(n)}$ will depend on the $(n+2)th$ derivative of $\\vec{x}_L$ and the lower order derivatives.\n",
    "\n",
    "It follows the expressions for $\\vec{p}^{(n)}$ and $T^{(n)}$ up to the fourth order.\n"
   ]
  },
  {
   "cell_type": "code",
   "execution_count": 8,
   "metadata": {},
   "outputs": [
    {
     "data": {
      "image/png": "[encoded data removed]",
      "text/latex": [
       "$$\\sqrt{m^{2} \\left(\\left(g + \\ddot{z}_{L}\\right)^{2} + \\ddot{x}_{L}^{2} + \\ddot{y}_{L}^{2}\\right)}$$"
      ],
      "text/plain": [
       "   __________________________________\n",
       "  ╱  2 ⎛          2       2       2⎞ \n",
       "╲╱  m ⋅⎝(g + z_̈L)  + x_̈L  + y_̈L ⎠ "
      ]
     },
     "metadata": {},
     "output_type": "display_data"
    },
    {
     "data": {
      "image/png": "[encoded data removed]",
      "text/latex": [
       "$$\\frac{m^{2} \\left(\\left(g + \\ddot{z}_{L}\\right) \\dddot{z}_{L} + \\ddot{x}_{L} \\dddot{x}_{L} + \\ddot{y}_{L} \\dddot{y}_{L}\\right)}{T}$$"
      ],
      "text/plain": [
       " 2                                          \n",
       "m ⋅((g + z_̈L)⋅z_⃛L + x_̈L⋅x_⃛L + y_̈L⋅y_⃛L)\n",
       "────────────────────────────────────────────\n",
       "                     T                      "
      ]
     },
     "metadata": {},
     "output_type": "display_data"
    },
    {
     "data": {
      "image/png": "[encoded data removed]",
      "text/latex": [
       "$$\\frac{m^{2} \\left(g + \\ddot{z}_{L}\\right) z_{L} + m^{2} \\ddot{x}_{L} x_{L} + m^{2} \\dddot{x}_{L}^{2} + m^{2} \\ddot{y}_{L} y_{L} + m^{2} \\dddot{y}_{L}^{2} + m^{2} \\dddot{z}_{L}^{2} - \\dot{T}^{2}}{T}$$"
      ],
      "text/plain": [
       " 2                    2              2     2    2              2     2    2   \n",
       "m ⋅(g + z_̈L)⋅z_⃜L + m ⋅x_̈L⋅x_⃜L + m ⋅x_⃛L  + m ⋅y_̈L⋅y_⃜L + m ⋅y_⃛L  + m ⋅z_\n",
       "──────────────────────────────────────────────────────────────────────────────\n",
       "                                           T                                  \n",
       "\n",
       "  2     2\n",
       "⃛L  - Ṫ \n",
       "─────────\n",
       "         "
      ]
     },
     "metadata": {},
     "output_type": "display_data"
    },
    {
     "name": "stdout",
     "output_type": "stream",
     "text": [
      "((-m**2*((g + z_L'')*z_L'''' + x_L''*x_L'''' + x_L'''**2 + y_L''*y_L'''' + y_L'''**2 + z_L'''**2) + T'**2)*T' + (m**2*(g + z_L'')*z_L''''' + m**2*x_L''*x_L''''' + 3*m**2*x_L'''*x_L'''' + m**2*y_L''*y_L''''' + 3*m**2*y_L'''*y_L'''' + 3*m**2*z_L'''*z_L'''' - 2*T'*T'')*T)/T**2\n",
      "(2*(m**2*((g + z_L'')*z_L'''' + x_L''*x_L'''' + x_L'''**2 + y_L''*y_L'''' + y_L'''**2 + z_L'''**2) - T'**2)*T'**2 + (-m**2*((g + z_L'')*z_L'''' + x_L''*x_L'''' + x_L'''**2 + y_L''*y_L'''' + y_L'''**2 + z_L'''**2)*T'' - 2*m**2*((g + z_L'')*z_L''''' + x_L''*x_L''''' + 3*x_L'''*x_L'''' + y_L''*y_L''''' + 3*y_L'''*y_L'''' + 3*z_L'''*z_L'''')*T' + 5*T'**2*T'')*T + (m**2*(g + z_L'')*z_L'''''' + m**2*x_L''*x_L'''''' + 4*m**2*x_L'''*x_L''''' + 3*m**2*x_L''''**2 + m**2*y_L''*y_L'''''' + 4*m**2*y_L'''*y_L''''' + 3*m**2*y_L''''**2 + 4*m**2*z_L'''*z_L''''' + 3*m**2*z_L''''**2 - 2*T'*T''' - 2*T''**2)*T**2)/T**3\n"
     ]
    }
   ],
   "source": [
    "from sympy import *\n",
    "from sympy.physics.mechanics import *\n",
    "\n",
    "# from math import *\n",
    "\n",
    "init_vprinting()\n",
    "\n",
    "t = symbols('t')\n",
    "\n",
    "xL, yL, zL, T, p = dynamicsymbols('x_L y_L z_L T p')\n",
    "\n",
    "# Physical parameters\n",
    "m, M, l, g, I = symbols('m M l g I')\n",
    "\n",
    "xLddot = diff(xL, t, 2)\n",
    "yLddot = diff(yL, t, 2)\n",
    "zLddot = diff(zL, t, 2)\n",
    "\n",
    "T_exp = sqrt((-m*xLddot)**2 + (-m*yLddot)**2 + (-m*zLddot-m*g)**2)\n",
    "Tdot_exp = diff(T_exp, t).subs(T_exp, T)\n",
    "Tddot_exp = diff(Tdot_exp, t).subs(Tdot_exp, diff(T))\n",
    "T3dot_exp = diff(Tddot_exp, t).subs(Tddot_exp, diff(T, t, 2))\n",
    "T4dot_exp = diff(T3dot_exp, t).subs(T3dot_exp, diff(T, t, 3))\n",
    "\n",
    "display(simplify(T_exp))\n",
    "display(simplify(Tdot_exp))\n",
    "display(simplify(Tddot_exp))\n",
    "vprint(simplify(T3dot_exp))\n",
    "vprint(simplify(T4dot_exp))"
   ]
  },
  {
   "cell_type": "code",
   "execution_count": 9,
   "metadata": {},
   "outputs": [
    {
     "name": "stdout",
     "output_type": "stream",
     "text": [
      "-(m*x_L''' + p*T')/T\n",
      "-(m*x_L'''' + p*T'' + 2*T'*p')/T\n",
      "((m*x_L'''' + p*T'' + 2*T'*p')*T' - (m*x_L''''' + p*T''' + 2*T'*p'' + 3*T''*p')*T)/T**2\n",
      "(-2*(m*x_L'''' + p*T'' + 2*T'*p')*T'**2 + ((m*x_L'''' + p*T'' + T'*p')*T'' + 2*(m*x_L''''' + p*T''' + T'*p'' + 2*T''*p')*T' + 2*T'**2*p'' + 3*T'*T''*p')*T - (m*x_L'''''' + p*T'''' + 2*T'*p''' + 5*T''*p'' + 4*T'''*p')*T**2)/T**3\n"
     ]
    }
   ],
   "source": [
    "# In the following expressions, xL is a vector\n",
    "\n",
    "pdot_exp  = (-m*diff(xL,t,3) - diff(T,t)*p)/T\n",
    "pddot_exp = diff(pdot_exp,t).subs(pdot_exp, diff(p))\n",
    "p3dot_exp = diff(pddot_exp,t).subs(pddot_exp, diff(p,t,2))\n",
    "p4dot_exp = diff(p3dot_exp,t).subs(p3dot_exp, diff(p,t,3))\n",
    "\n",
    "vprint(simplify(pdot_exp))\n",
    "vprint(simplify(pddot_exp))\n",
    "vprint(simplify(p3dot_exp))\n",
    "vprint(simplify(p4dot_exp))"
   ]
  }
 ],
 "metadata": {
  "kernelspec": {
   "display_name": "Python 2",
   "language": "python",
   "name": "python2"
  },
  "language_info": {
   "codemirror_mode": {
    "name": "ipython",
    "version": 2
   },
   "file_extension": ".py",
   "mimetype": "text/x-python",
   "name": "python",
   "nbconvert_exporter": "python",
   "pygments_lexer": "ipython2",
   "version": "2.7.12"
  }
 },
 "nbformat": 4,
 "nbformat_minor": 2
}
