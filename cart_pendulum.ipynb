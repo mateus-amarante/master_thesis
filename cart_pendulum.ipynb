{
 "cells": [
  {
   "cell_type": "markdown",
   "metadata": {},
   "source": [
    "# Dynamic Model of a Cart with a (not-inverted) pendulum (2D)"
   ]
  },
  {
   "cell_type": "code",
   "execution_count": 1,
   "metadata": {},
   "outputs": [],
   "source": [
    "from sympy import *\n",
    "from sympy.physics.mechanics import dynamicsymbols, init_vprinting\n",
    "\n",
    "init_vprinting()\n",
    "\n",
    "# Time and input variable\n",
    "t, u = symbols('t u')\n",
    "\n",
    "# Physical parameters\n",
    "m, M, l, g = symbols('m M l g')\n",
    "\n",
    "# Load angle\n",
    "alpha = dynamicsymbols('\\talpha')\n",
    "\n",
    "# Angular Velocity\n",
    "alphadot = diff(alpha,t)\n",
    "\n",
    "# Angular Acceleration\n",
    "alphaddot = diff(alphadot,t)"
   ]
  },
  {
   "cell_type": "markdown",
   "metadata": {},
   "source": [
    "## Coordinates $(x,\\alpha)$"
   ]
  },
  {
   "cell_type": "code",
   "execution_count": 2,
   "metadata": {},
   "outputs": [],
   "source": [
    "# Position\n",
    "x = dynamicsymbols('x')\n",
    "xL = x - l*sin(alpha) # xL as function of x\n",
    "zL =   - l*cos(alpha) # zL as function of z\n",
    "\n",
    "# Velocities\n",
    "xdot = diff(x,t)\n",
    "\n",
    "xLdot = diff(xL,t)\n",
    "zLdot = diff(zL,t)\n",
    "\n",
    "# Accelerations\n",
    "xddot = diff(xdot,t)\n",
    "\n",
    "xLddot = diff(xLdot,t)\n",
    "zLddot = diff(zLdot,t)"
   ]
  },
  {
   "cell_type": "code",
   "execution_count": 27,
   "metadata": {},
   "outputs": [
    {
     "data": {
      "image/png": "[encoded data removed]",
      "text/latex": [
       "$$\\frac{l^{2} m}{2} \\dot{\\alpha}^{2} + l m \\left(g - \\dot{\\alpha} \\dot{x}\\right) \\operatorname{cos}\\left(\\alpha\\right) + \\left(\\frac{M}{2} + \\frac{m}{2}\\right) \\dot{x}^{2}$$"
      ],
      "text/plain": [
       " 2     2                                       \n",
       "l ⋅m⋅α̇                             ⎛M   m⎞   2\n",
       "──────── + l⋅m⋅(g - α̇⋅ẋ)⋅cos(α) + ⎜─ + ─⎟⋅ẋ \n",
       "   2                                ⎝2   2⎠    "
      ]
     },
     "execution_count": 27,
     "metadata": {},
     "output_type": "execute_result"
    }
   ],
   "source": [
    "L = M/2*xdot**2 + m/2*(xLdot**2+zLdot**2) - m*g*zL\n",
    "L = simplify(expand(L))\n",
    "L = collect(L,xdot**2)\n",
    "L = collect(L,m*l*cos(alpha))\n",
    "L"
   ]
  },
  {
   "cell_type": "markdown",
   "metadata": {},
   "source": [
    "$$ L = \\frac{(M+m)}{2}\\dot{x}^2 + \\frac{ml^2}{2}\\dot{\\alpha}^2 + ml\\cos{\\alpha}(g-\\dot{\\alpha}\\dot{x})$$"
   ]
  },
  {
   "cell_type": "code",
   "execution_count": 28,
   "metadata": {},
   "outputs": [
    {
     "data": {
      "image/png": "[encoded data removed]",
      "text/latex": [
       "$$l m \\operatorname{sin}\\left(\\alpha\\right) \\dot{\\alpha}^{2} - l m \\operatorname{cos}\\left(\\alpha\\right) \\ddot{\\alpha} - u + \\left(M + m\\right) \\ddot{x}$$"
      ],
      "text/plain": [
       "             2                                 \n",
       "l⋅m⋅sin(α)⋅α̇  - l⋅m⋅cos(α)⋅α̈ - u + (M + m)⋅ẍ"
      ]
     },
     "execution_count": 28,
     "metadata": {},
     "output_type": "execute_result"
    }
   ],
   "source": [
    "eqX = simplify(diff(diff(L,xdot),t) - diff(L,x)-u)\n",
    "eqX"
   ]
  },
  {
   "cell_type": "code",
   "execution_count": 29,
   "metadata": {},
   "outputs": [
    {
     "data": {
      "image/png": "[encoded data removed]",
      "text/latex": [
       "$$l m \\left(g \\operatorname{sin}\\left(\\alpha\\right) + l \\ddot{\\alpha} - \\operatorname{cos}\\left(\\alpha\\right) \\ddot{x}\\right)$$"
      ],
      "text/plain": [
       "l⋅m⋅(g⋅sin(α) + l⋅α̈ - cos(α)⋅ẍ)"
      ]
     },
     "execution_count": 29,
     "metadata": {},
     "output_type": "execute_result"
    }
   ],
   "source": [
    "eqAlpha = simplify(diff(diff(L,alphadot),t) - diff(L,alpha))\n",
    "eqAlpha"
   ]
  },
  {
   "cell_type": "markdown",
   "metadata": {},
   "source": [
    "### Dynamic Model $(x,z,\\alpha)$\n",
    "\n",
    "$$\n",
    "\\begin{align}\n",
    "(M+m)\\,\\ddot{x} - ml\\cos{\\alpha}\\,\\ddot{\\alpha} + ml\\sin{\\alpha}\\,\\dot{\\alpha}^2 &= u \\\\\n",
    "ml^2\\,\\ddot{\\alpha} - ml\\cos{\\alpha}\\,\\ddot{x}  + mgl\\sin{\\alpha} &= 0\n",
    "\\end{align}\n",
    "$$ "
   ]
  },
  {
   "cell_type": "code",
   "execution_count": 16,
   "metadata": {},
   "outputs": [],
   "source": [
    "res = solve([eqX,eqAlpha],[xddot,alphaddot])"
   ]
  },
  {
   "cell_type": "code",
   "execution_count": 17,
   "metadata": {},
   "outputs": [
    {
     "data": {
      "image/png": "[encoded data removed]",
      "text/latex": [
       "$$\\left \\{ \\ddot{\\alpha} : - \\frac{1}{l \\left(M + m \\operatorname{sin}^{2}\\left(\\alpha\\right)\\right)} \\left(g \\left(M + m\\right) \\operatorname{sin}\\left(\\alpha\\right) + \\left(l m \\operatorname{sin}\\left(\\alpha\\right) \\dot{\\alpha}^{2} - u\\right) \\operatorname{cos}\\left(\\alpha\\right)\\right), \\quad \\ddot{x} : \\frac{1}{M + m \\operatorname{sin}^{2}\\left(\\alpha\\right)} \\left(- \\frac{g m}{2} \\operatorname{sin}\\left(2 \\alpha\\right) - l m \\operatorname{sin}\\left(\\alpha\\right) \\dot{\\alpha}^{2} + u\\right)\\right \\}$$"
      ],
      "text/plain": [
       "⎧                                                              g⋅m⋅sin(2⋅α)   \n",
       "⎪     ⎛                   ⎛             2    ⎞       ⎞       - ──────────── - \n",
       "⎪    -⎝g⋅(M + m)⋅sin(α) + ⎝l⋅m⋅sin(α)⋅α̇  - u⎠⋅cos(α)⎠              2         \n",
       "⎨α̈: ──────────────────────────────────────────────────, ẍ: ─────────────────\n",
       "⎪                      ⎛         2   ⎞                                        \n",
       "⎪                    l⋅⎝M + m⋅sin (α)⎠                                  M + m⋅\n",
       "⎩                                                                             \n",
       "\n",
       "             2    ⎫\n",
       "l⋅m⋅sin(α)⋅α̇  + u⎪\n",
       "                  ⎪\n",
       "──────────────────⎬\n",
       "   2              ⎪\n",
       "sin (α)           ⎪\n",
       "                  ⎭"
      ]
     },
     "execution_count": 17,
     "metadata": {},
     "output_type": "execute_result"
    }
   ],
   "source": [
    "res"
   ]
  },
  {
   "cell_type": "code",
   "execution_count": 30,
   "metadata": {},
   "outputs": [
    {
     "data": {
      "image/png": "[encoded data removed]",
      "text/latex": [
       "$$\\frac{1}{M + m \\operatorname{sin}^{2}\\left(\\alpha\\right)} \\left(- g m \\operatorname{sin}\\left(\\alpha\\right) \\operatorname{cos}\\left(\\alpha\\right) - l m \\operatorname{sin}\\left(\\alpha\\right) \\dot{\\alpha}^{2} + u\\right)$$"
      ],
      "text/plain": [
       "                                  2    \n",
       "-g⋅m⋅sin(α)⋅cos(α) - l⋅m⋅sin(α)⋅α̇  + u\n",
       "───────────────────────────────────────\n",
       "                      2                \n",
       "             M + m⋅sin (α)             "
      ]
     },
     "execution_count": 30,
     "metadata": {},
     "output_type": "execute_result"
    }
   ],
   "source": [
    "fx = res[xddot]\n",
    "# fx = collect(collect(fx,m*u),u)\n",
    "fx = expand_trig(fx)\n",
    "fx"
   ]
  },
  {
   "cell_type": "code",
   "execution_count": 26,
   "metadata": {},
   "outputs": [
    {
     "data": {
      "image/png": "[encoded data removed]",
      "text/latex": [
       "$$- \\frac{M g \\operatorname{sin}\\left(\\alpha\\right)}{M l + l m \\operatorname{sin}^{2}\\left(\\alpha\\right)} - \\frac{g m \\operatorname{sin}\\left(\\alpha\\right)}{M l + l m \\operatorname{sin}^{2}\\left(\\alpha\\right)} - \\frac{l m \\operatorname{sin}\\left(\\alpha\\right) \\operatorname{cos}\\left(\\alpha\\right) \\dot{\\alpha}^{2}}{M l + l m \\operatorname{sin}^{2}\\left(\\alpha\\right)} + \\frac{u \\operatorname{cos}\\left(\\alpha\\right)}{M l + l m \\operatorname{sin}^{2}\\left(\\alpha\\right)}$$"
      ],
      "text/plain": [
       "                                                              2               \n",
       "      M⋅g⋅sin(α)          g⋅m⋅sin(α)      l⋅m⋅sin(α)⋅cos(α)⋅α̇         u⋅cos(α\n",
       "- ───────────────── - ───────────────── - ───────────────────── + ────────────\n",
       "               2                   2                     2                    \n",
       "  M⋅l + l⋅m⋅sin (α)   M⋅l + l⋅m⋅sin (α)     M⋅l + l⋅m⋅sin (α)     M⋅l + l⋅m⋅si\n",
       "\n",
       "     \n",
       ")    \n",
       "─────\n",
       " 2   \n",
       "n (α)"
      ]
     },
     "execution_count": 26,
     "metadata": {},
     "output_type": "execute_result"
    }
   ],
   "source": [
    "falpha = res[alphaddot]\n",
    "falpha = expand(falpha)\n",
    "collect(falpha,g*sin(alpha))\n",
    "falpha"
   ]
  },
  {
   "cell_type": "markdown",
   "metadata": {},
   "source": [
    "### Accelerations $(x,z,\\alpha)$\n",
    "$$\n",
    "\\begin{align}\n",
    "\\ddot{x} &= \\left[\\frac{-m\\sin{\\alpha}(g\\cos{\\alpha}+l\\dot{\\alpha}^2)}{M+m\\sin^2\\alpha}\\right] + \\left[\\frac{-m\\cos\\alpha\\sin(\\alpha-\\theta) +M\\sin{\\theta}}{M(M+m)}\\right]u_1 \\\\\n",
    "\\ddot{z} &= \\left[-\\frac{ml\\cos{\\alpha}\\,\\dot{\\alpha}^2}{M+m}-g\\right] + \\left[\\frac{m\\sin\\alpha\\sin(\\alpha-\\theta) +M\\cos{\\theta}}{M(M+m)}\\right]u_1 \\\\\n",
    "\\ddot{\\alpha} &= \\left[\\frac{\\sin(\\theta-\\alpha)}{Ml}\\right]u_1\n",
    "\\end{align}\n",
    "$$"
   ]
  },
  {
   "cell_type": "markdown",
   "metadata": {},
   "source": [
    "## Coordinates $(x_L,z_L,\\alpha)$"
   ]
  },
  {
   "cell_type": "code",
   "execution_count": 122,
   "metadata": {},
   "outputs": [],
   "source": [
    "# Position\n",
    "xL,zL = dynamicsymbols('x_L z_L')\n",
    "x = xL + l*sin(alpha) # x as function of xL\n",
    "z = zL + l*cos(alpha) # z as function of zL\n",
    "\n",
    "# Velocities\n",
    "xdot = diff(x,t)\n",
    "zdot = diff(z,t)\n",
    "\n",
    "xLdot = diff(xL,t)\n",
    "zLdot = diff(zL,t)\n",
    "\n",
    "thetadot = diff(theta,t)\n",
    "alphadot = diff(alpha,t)\n",
    "\n",
    "# Accelerations\n",
    "xddot = diff(xdot,t)\n",
    "zddot = diff(zdot,t)\n",
    "\n",
    "xLddot = diff(xLdot,t)\n",
    "zLddot = diff(zLdot,t)"
   ]
  },
  {
   "cell_type": "code",
   "execution_count": 123,
   "metadata": {},
   "outputs": [
    {
     "data": {
      "image/png": "[encoded data removed]",
      "text/latex": [
       "$$- M g l \\operatorname{cos}\\left(\\alpha\\right) + \\frac{M l^{2}}{2} \\dot{\\alpha}^{2} + M l \\left(- \\operatorname{sin}\\left(\\alpha\\right) \\dot{z}_{L} + \\operatorname{cos}\\left(\\alpha\\right) \\dot{x}_{L}\\right) \\dot{\\alpha} + \\left(\\frac{M}{2} + \\frac{m}{2}\\right) \\dot{x}_{L}^{2} + \\left(\\frac{M}{2} + \\frac{m}{2}\\right) \\dot{z}_{L}^{2} + \\left(- M g - g m\\right) z_{L}$$"
      ],
      "text/plain": [
       "                   2   2                                                      \n",
       "                M⋅l ⋅α̇                                          ⎛M   m⎞     2\n",
       "-M⋅g⋅l⋅cos(α) + ──────── + M⋅l⋅(-sin(α)⋅z_̇L + cos(α)⋅x_̇L)⋅α̇ + ⎜─ + ─⎟⋅x_̇L \n",
       "                   2                                             ⎝2   2⎠      \n",
       "\n",
       "                                   \n",
       "   ⎛M   m⎞     2                   \n",
       " + ⎜─ + ─⎟⋅z_̇L  + (-M⋅g - g⋅m)⋅z_L\n",
       "   ⎝2   2⎠                         "
      ]
     },
     "execution_count": 123,
     "metadata": {},
     "output_type": "execute_result"
    }
   ],
   "source": [
    "L = M/2*(xdot**2+zdot**2) + m/2*(xLdot**2+zLdot**2) - M*g*z - m*g*zL\n",
    "L = simplify(expand(L))\n",
    "L = collect(collect(L,zLdot**2),xLdot**2)\n",
    "L = collect(L,g)\n",
    "L = collect(L,M*l*alphadot)\n",
    "L"
   ]
  },
  {
   "cell_type": "markdown",
   "metadata": {},
   "source": [
    "$$ L = \\left(\\frac{M+m}{2}\\right)\\left(\\dot{x}_L^2 + \\dot{z}_L^2\\right) + \\frac{Ml^2}{2}\\dot{\\alpha}^2 + Ml\\dot{\\alpha}\\left(\\dot{x}_L\\cos{\\alpha}-\\dot{z}_L\\sin{\\alpha}\\right)  + g\\left[-Ml\\cos\\alpha-(M+m)z_L\\right]$$"
   ]
  },
  {
   "cell_type": "code",
   "execution_count": 124,
   "metadata": {},
   "outputs": [
    {
     "data": {
      "image/png": "[encoded data removed]",
      "text/latex": [
       "$$- M l \\operatorname{sin}\\left(\\alpha\\right) \\dot{\\alpha}^{2} + M l \\operatorname{cos}\\left(\\alpha\\right) \\ddot{\\alpha} - u_{1} \\operatorname{sin}\\left(\\theta\\right) + \\left(M + m\\right) \\ddot{x}_{L}$$"
      ],
      "text/plain": [
       "               2                                           \n",
       "- M⋅l⋅sin(α)⋅α̇  + M⋅l⋅cos(α)⋅α̈ - u₁⋅sin(θ) + (M + m)⋅x_̈L"
      ]
     },
     "execution_count": 124,
     "metadata": {},
     "output_type": "execute_result"
    }
   ],
   "source": [
    "eqX = simplify(diff(diff(L,xLdot),t) - diff(L,xL)-ux*u1)\n",
    "eqX"
   ]
  },
  {
   "cell_type": "code",
   "execution_count": 126,
   "metadata": {},
   "outputs": [
    {
     "data": {
      "image/png": "[encoded data removed]",
      "text/latex": [
       "$$M l \\left(- g \\operatorname{sin}\\left(\\alpha\\right) + l \\ddot{\\alpha} - \\operatorname{sin}\\left(\\alpha\\right) \\ddot{z}_{L} + \\operatorname{cos}\\left(\\alpha\\right) \\ddot{x}_{L}\\right)$$"
      ],
      "text/plain": [
       "M⋅l⋅(-g⋅sin(α) + l⋅α̈ - sin(α)⋅z_̈L + cos(α)⋅x_̈L)"
      ]
     },
     "execution_count": 126,
     "metadata": {},
     "output_type": "execute_result"
    }
   ],
   "source": [
    "eqAlpha = simplify(diff(diff(L,alphadot),t) - diff(L,alpha))\n",
    "eqAlpha"
   ]
  },
  {
   "cell_type": "markdown",
   "metadata": {},
   "source": [
    "### Dynamic Model $(x_L,z_L,\\alpha)$\n",
    "\n",
    "$$\n",
    "\\begin{align}\n",
    "(M+m)\\,\\ddot{x}_L + Ml\\cos{\\alpha}\\,\\ddot{\\alpha} - Ml\\sin{\\alpha}\\,\\dot{\\alpha}^2 &= \\sin{\\theta}\\,u_1 \\\\\n",
    "(M+m)\\,\\ddot{z}_L - Ml\\sin{\\alpha}\\,\\ddot{\\alpha} - Ml\\cos{\\alpha}\\,\\dot{\\alpha}^2 + (M+m)g &= \\cos{\\theta}\\,u_1 \\\\\n",
    "Ml^2\\,\\ddot{\\alpha} + Ml\\cos{\\alpha}\\,\\ddot{x}_L - Ml\\sin{\\alpha}\\,\\ddot{z}_L - Mgl\\sin{\\alpha} &= 0\n",
    "\\end{align}\n",
    "$$ "
   ]
  },
  {
   "cell_type": "code",
   "execution_count": 127,
   "metadata": {},
   "outputs": [],
   "source": [
    "res = solve([eqX,eqZ,eqAlpha],[xLddot,zLddot,alphaddot])"
   ]
  },
  {
   "cell_type": "code",
   "execution_count": 128,
   "metadata": {},
   "outputs": [
    {
     "data": {
      "image/png": "[encoded data removed]",
      "text/latex": [
       "$$\\left \\{ \\ddot{\\alpha} : \\frac{u_{1} \\operatorname{sin}\\left(\\alpha - \\theta\\right)}{l m}, \\quad \\ddot{x}_{L} : \\frac{1}{m \\left(M + m\\right)} \\left(M l m \\operatorname{sin}\\left(\\alpha\\right) \\dot{\\alpha}^{2} - M u_{1} \\operatorname{sin}\\left(\\alpha\\right) \\operatorname{cos}\\left(\\alpha - \\theta\\right) + M u_{1} \\operatorname{sin}\\left(\\theta\\right) + m u_{1} \\operatorname{sin}\\left(\\theta\\right)\\right), \\quad \\ddot{z}_{L} : \\frac{1}{m \\left(M + m\\right)} \\left(- M g m + M l m \\operatorname{cos}\\left(\\alpha\\right) \\dot{\\alpha}^{2} + M u_{1} \\operatorname{sin}\\left(\\alpha - \\theta\\right) \\operatorname{sin}\\left(\\alpha\\right) - g m^{2} + m u_{1} \\operatorname{cos}\\left(\\theta\\right)\\right)\\right \\}$$"
      ],
      "text/plain": [
       "⎧                                        2                                    \n",
       "⎪    u₁⋅sin(α - θ)        M⋅l⋅m⋅sin(α)⋅α̇  - M⋅u₁⋅sin(α)⋅cos(α - θ) + M⋅u₁⋅sin\n",
       "⎨α̈: ─────────────, x_̈L: ────────────────────────────────────────────────────\n",
       "⎪         l⋅m                                           m⋅(M + m)             \n",
       "⎩                                                                             \n",
       "\n",
       "                                                 2                            \n",
       "(θ) + m⋅u₁⋅sin(θ)        -M⋅g⋅m + M⋅l⋅m⋅cos(α)⋅α̇  + M⋅u₁⋅sin(α - θ)⋅sin(α) - \n",
       "─────────────────, z_̈L: ─────────────────────────────────────────────────────\n",
       "                                                        m⋅(M + m)             \n",
       "                                                                              \n",
       "\n",
       "   2              ⎫\n",
       "g⋅m  + m⋅u₁⋅cos(θ)⎪\n",
       "──────────────────⎬\n",
       "                  ⎪\n",
       "                  ⎭"
      ]
     },
     "execution_count": 128,
     "metadata": {},
     "output_type": "execute_result"
    }
   ],
   "source": [
    "res"
   ]
  },
  {
   "cell_type": "code",
   "execution_count": 131,
   "metadata": {},
   "outputs": [
    {
     "data": {
      "image/png": "[encoded data removed]",
      "text/latex": [
       "$$\\frac{1}{m \\left(M + m\\right)} \\left(M l m \\operatorname{sin}\\left(\\alpha\\right) \\dot{\\alpha}^{2} + u_{1} \\left(M \\left(- \\operatorname{sin}\\left(\\alpha\\right) \\operatorname{cos}\\left(\\alpha - \\theta\\right) + \\operatorname{sin}\\left(\\theta\\right)\\right) + m \\operatorname{sin}\\left(\\theta\\right)\\right)\\right)$$"
      ],
      "text/plain": [
       "               2                                                  \n",
       "M⋅l⋅m⋅sin(α)⋅α̇  + u₁⋅(M⋅(-sin(α)⋅cos(α - θ) + sin(θ)) + m⋅sin(θ))\n",
       "──────────────────────────────────────────────────────────────────\n",
       "                            m⋅(M + m)                             "
      ]
     },
     "execution_count": 131,
     "metadata": {},
     "output_type": "execute_result"
    }
   ],
   "source": [
    "fxL = res[xLddot]\n",
    "fxL = collect(collect(fxL,M*u1),u1)\n",
    "fxL"
   ]
  },
  {
   "cell_type": "code",
   "execution_count": 133,
   "metadata": {},
   "outputs": [
    {
     "data": {
      "image/png": "[encoded data removed]",
      "text/latex": [
       "$$\\frac{1}{m \\left(M + m\\right)} \\left(M l m \\operatorname{cos}\\left(\\alpha\\right) \\dot{\\alpha}^{2} + g \\left(- M m - m^{2}\\right) + u_{1} \\left(M \\operatorname{sin}\\left(\\alpha - \\theta\\right) \\operatorname{sin}\\left(\\alpha\\right) + m \\operatorname{cos}\\left(\\theta\\right)\\right)\\right)$$"
      ],
      "text/plain": [
       "               2     ⎛        2⎞                                      \n",
       "M⋅l⋅m⋅cos(α)⋅α̇  + g⋅⎝-M⋅m - m ⎠ + u₁⋅(M⋅sin(α - θ)⋅sin(α) + m⋅cos(θ))\n",
       "──────────────────────────────────────────────────────────────────────\n",
       "                              m⋅(M + m)                               "
      ]
     },
     "execution_count": 133,
     "metadata": {},
     "output_type": "execute_result"
    }
   ],
   "source": [
    "fzL = res[zLddot]\n",
    "fzL = collect(fzL,u1)\n",
    "fzL = collect(fzL,g)\n",
    "fzL"
   ]
  },
  {
   "cell_type": "code",
   "execution_count": 134,
   "metadata": {},
   "outputs": [
    {
     "data": {
      "image/png": "[encoded data removed]",
      "text/latex": [
       "$$\\frac{u_{1} \\operatorname{sin}\\left(\\alpha - \\theta\\right)}{l m}$$"
      ],
      "text/plain": [
       "u₁⋅sin(α - θ)\n",
       "─────────────\n",
       "     l⋅m     "
      ]
     },
     "execution_count": 134,
     "metadata": {},
     "output_type": "execute_result"
    }
   ],
   "source": [
    "falpha = res[alphaddot]\n",
    "falpha"
   ]
  },
  {
   "cell_type": "markdown",
   "metadata": {},
   "source": [
    "### Accelerations $(x_L,z_L,\\alpha)$\n",
    "$$\n",
    "\\begin{align}\n",
    "\\ddot{x}_L &= \\left[\\frac{Ml\\sin{\\alpha}\\,\\dot{\\alpha}^2}{M+m}\\right] + \\left[\\frac{-M\\cos\\alpha\\sin(\\alpha-\\theta) +m\\sin{\\theta}}{m(M+m)}\\right]u_1 \\\\\n",
    "\\ddot{z}_L &= \\left[\\frac{Ml\\cos{\\alpha}\\,\\dot{\\alpha}^2}{M+m}-g\\right] + \\left[\\frac{M\\sin\\alpha\\sin(\\alpha-\\theta) +m\\cos{\\theta}}{m(M+m)}\\right]u_1 \\\\\n",
    "\\ddot{\\alpha} &= \\left[\\frac{\\sin(\\alpha-\\theta)}{ml}\\right]u_1\n",
    "\\end{align}\n",
    "$$"
   ]
  },
  {
   "cell_type": "markdown",
   "metadata": {},
   "source": [
    "## Summary\n",
    "\n",
    "### Dynamic Model\n",
    "\n",
    "####  $(x,z,\\alpha)$\n",
    "\n",
    "$$\n",
    "\\begin{align}\n",
    "(M+m)\\,\\ddot{x} - ml\\cos{\\alpha}\\,\\ddot{\\alpha} + ml\\sin{\\alpha}\\,\\dot{\\alpha}^2 &= \\sin{\\theta}\\,u_1 \\\\\n",
    "(M+m)\\,\\ddot{z} + ml\\sin{\\alpha}\\,\\ddot{\\alpha} + ml\\cos{\\alpha}\\,\\dot{\\alpha}^2 + (M+m)g &= \\cos{\\theta}\\,u_1 \\\\\n",
    "ml^2\\,\\ddot{\\alpha} - ml\\cos{\\alpha}\\,\\ddot{x} + ml\\sin{\\alpha}\\,\\ddot{z} + mgl\\sin{\\alpha} &= 0\n",
    "\\end{align}\n",
    "$$ \n",
    "\n",
    "#### $(x_L,z_L,\\alpha)$\n",
    "\n",
    "$$\n",
    "\\begin{align}\n",
    "(M+m)\\,\\ddot{x}_L + Ml\\cos{\\alpha}\\,\\ddot{\\alpha} - Ml\\sin{\\alpha}\\,\\dot{\\alpha}^2 &= \\sin{\\theta}\\,u_1 \\\\\n",
    "(M+m)\\,\\ddot{z}_L - Ml\\sin{\\alpha}\\,\\ddot{\\alpha} - Ml\\cos{\\alpha}\\,\\dot{\\alpha}^2 + (M+m)g &= \\cos{\\theta}\\,u_1 \\\\\n",
    "Ml^2\\,\\ddot{\\alpha} + Ml\\cos{\\alpha}\\,\\ddot{x}_L - Ml\\sin{\\alpha}\\,\\ddot{z}_L - Mgl\\sin{\\alpha} &= 0\n",
    "\\end{align}\n",
    "$$ \n",
    "\n",
    "### Accelerations\n",
    "\n",
    "#### $(x,z,\\alpha)$\n",
    "$$\n",
    "\\begin{align}\n",
    "\\ddot{x} &= \\left[\\frac{-ml\\sin{\\alpha}\\,\\dot{\\alpha}^2}{M+m}\\right] + \\left[\\frac{-m\\cos\\alpha\\sin(\\alpha-\\theta) +M\\sin{\\theta}}{M(M+m)}\\right]u_1 \\\\\n",
    "\\ddot{z} &= \\left[-\\frac{ml\\cos{\\alpha}\\,\\dot{\\alpha}^2}{M+m}-g\\right] + \\left[\\frac{m\\sin\\alpha\\sin(\\alpha-\\theta) +M\\cos{\\theta}}{M(M+m)}\\right]u_1 \\\\\n",
    "\\ddot{\\alpha} &= \\left[\\frac{-\\sin(\\alpha-\\theta)}{Ml}\\right]u_1\n",
    "\\end{align}\n",
    "$$\n",
    "\n",
    "### Accelerations\n",
    "\n",
    "#### $(x_L,z_L,\\alpha)$\n",
    "$$\n",
    "\\begin{align}\n",
    "\\ddot{x}_L &= \\left[\\frac{Ml\\sin{\\alpha}\\,\\dot{\\alpha}^2}{M+m}\\right] + \\left[\\frac{-M\\cos\\alpha\\sin(\\alpha-\\theta) +m\\sin{\\theta}}{m(M+m)}\\right]u_1 \\\\\n",
    "\\ddot{z}_L &= \\left[\\frac{Ml\\cos{\\alpha}\\,\\dot{\\alpha}^2}{M+m}-g\\right] + \\left[\\frac{M\\sin\\alpha\\sin(\\alpha-\\theta) +m\\cos{\\theta}}{m(M+m)}\\right]u_1 \\\\\n",
    "\\ddot{\\alpha} &= \\left[\\frac{\\sin(\\alpha-\\theta)}{ml}\\right]u_1\n",
    "\\end{align}\n",
    "$$"
   ]
  }
 ],
 "metadata": {
  "kernelspec": {
   "display_name": "Python 3",
   "language": "python",
   "name": "python3"
  },
  "language_info": {
   "codemirror_mode": {
    "name": "ipython",
    "version": 3
   },
   "file_extension": ".py",
   "mimetype": "text/x-python",
   "name": "python",
   "nbconvert_exporter": "python",
   "pygments_lexer": "ipython3",
   "version": "3.6.4"
  }
 },
 "nbformat": 4,
 "nbformat_minor": 2
}
