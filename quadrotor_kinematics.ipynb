{
 "cells": [
  {
   "cell_type": "code",
   "execution_count": 13,
   "metadata": {},
   "outputs": [],
   "source": [
    "from sympy import *\n",
    "from sympy.physics.mechanics import dynamicsymbols, init_vprinting\n",
    "\n",
    "init_vprinting()\n",
    "\n",
    "# Ângulos de Euler\n",
    "phi, theta, psi = dynamicsymbols('\\phi \\ttheta \\psi')\n",
    "\n",
    "# Angular Rate in the Body Frame\n",
    "p, q, r = dynamicsymbols('p q r')\n",
    "\n",
    "# Matrizes de rotação q = R*p (q -> inertial frame; p -> body frame)\n",
    "Rx = rot_axis1(phi).T\n",
    "Ry = rot_axis2(theta).T\n",
    "Rz = rot_axis3(psi).T\n",
    "\n",
    "R = Rz*Ry*Rx\n",
    "\n",
    "Rb2i = R\n",
    "Ri2b = R.T\n",
    "\n",
    "# q_dot = R'*p (p constante p/ braço fixo)\n",
    "# q_dot = R'*(RT*q) (map q to q_dot - Inertial Frame)\n",
    "# RT*q_dot = p_dot = RT*R'*p (map p to p_dot)\n",
    "# RT*R' and R'*RT are both skew-symmetric (definido por 3 termos)\n",
    "RT_Rdot = simplify(R.T*diff(R)) # (Body Frame)\n",
    "Rdot_RT = simplify(diff(R)*R.T) # (Inertial Frame)\n",
    "\n",
    "# pqr (rpy,rpy_dot)\n",
    "pqr = Matrix([diff(phi),0,0])+Rx.T*Matrix([0,diff(theta),0])+Rx.T*Ry.T*Matrix([0,0,diff(psi)])\n",
    "\n",
    "# Transformação de velocidades angulares de I --> B\n",
    "Ti2b = Matrix([[1,0,-sin(theta)],[0,cos(phi),cos(theta)*sin(phi)],[0,-sin(phi),cos(theta)*cos(phi)]])\n",
    "\n",
    "# Transformação de velocidades angulares de B --> I\n",
    "Tb2i = simplify(Ti2b**(-1))\n",
    "\n",
    "# rpy_dot (rpy,pqr)\n",
    "rpy_dot = simplify(Tb2i*Matrix([p,q,r]))\n",
    "\n",
    "# Tb2i_dot\n",
    "Tb2i_dot = simplify(diff(Tb2i))\n",
    "\n",
    "# pqr_dot (rpy,rpy_dot)\n",
    "pqr_dot = simplify(diff(pqr))\n",
    "\n",
    "# rpy_ddot (rpy,rpy_dot)\n",
    "rpy_ddot = simplify(Tb2i_dot*pqr + Tb2i*diff(Matrix([p,q,4])))\n"
   ]
  },
  {
   "cell_type": "code",
   "execution_count": 3,
   "metadata": {},
   "outputs": [
    {
     "data": {
      "text/latex": [
       "$$\\left[\\begin{matrix}1 & 0 & 0\\\\0 & \\operatorname{cos}\\left(\\phi\\right) & - \\operatorname{sin}\\left(\\phi\\right)\\\\0 & \\operatorname{sin}\\left(\\phi\\right) & \\operatorname{cos}\\left(\\phi\\right)\\end{matrix}\\right]$$"
      ],
      "text/plain": [
       "⎡1      0          0     ⎤\n",
       "⎢                        ⎥\n",
       "⎢0  cos(\\phi)  -sin(\\phi)⎥\n",
       "⎢                        ⎥\n",
       "⎣0  sin(\\phi)  cos(\\phi) ⎦"
      ]
     },
     "execution_count": 3,
     "metadata": {},
     "output_type": "execute_result"
    }
   ],
   "source": [
    "Rx # B->I"
   ]
  },
  {
   "cell_type": "code",
   "execution_count": 5,
   "metadata": {},
   "outputs": [
    {
     "data": {
      "text/latex": [
       "$$\\left[\\begin{matrix}\\operatorname{cos}\\left(\\theta\\right) & 0 & \\operatorname{sin}\\left(\\theta\\right)\\\\0 & 1 & 0\\\\- \\operatorname{sin}\\left(\\theta\\right) & 0 & \\operatorname{cos}\\left(\\theta\\right)\\end{matrix}\\right]$$"
      ],
      "text/plain": [
       "⎡cos(θ)   0  sin(θ)⎤\n",
       "⎢                  ⎥\n",
       "⎢   0     1    0   ⎥\n",
       "⎢                  ⎥\n",
       "⎣-sin(θ)  0  cos(θ)⎦"
      ]
     },
     "execution_count": 5,
     "metadata": {},
     "output_type": "execute_result"
    }
   ],
   "source": [
    "Ry # B->I"
   ]
  },
  {
   "cell_type": "code",
   "execution_count": 6,
   "metadata": {},
   "outputs": [
    {
     "data": {
      "text/latex": [
       "$$\\left[\\begin{matrix}\\operatorname{cos}\\left(\\psi\\right) & - \\operatorname{sin}\\left(\\psi\\right) & 0\\\\\\operatorname{sin}\\left(\\psi\\right) & \\operatorname{cos}\\left(\\psi\\right) & 0\\\\0 & 0 & 1\\end{matrix}\\right]$$"
      ],
      "text/plain": [
       "⎡cos(\\psi)  -sin(\\psi)  0⎤\n",
       "⎢                        ⎥\n",
       "⎢sin(\\psi)  cos(\\psi)   0⎥\n",
       "⎢                        ⎥\n",
       "⎣    0          0       1⎦"
      ]
     },
     "execution_count": 6,
     "metadata": {},
     "output_type": "execute_result"
    }
   ],
   "source": [
    "Rz # B->I"
   ]
  },
  {
   "cell_type": "code",
   "execution_count": 7,
   "metadata": {},
   "outputs": [
    {
     "data": {
      "text/latex": [
       "$$\\left[\\begin{matrix}\\operatorname{cos}\\left(\\psi\\right) \\operatorname{cos}\\left(\\theta\\right) & \\operatorname{sin}\\left(\\phi\\right) \\operatorname{sin}\\left(\\theta\\right) \\operatorname{cos}\\left(\\psi\\right) - \\operatorname{sin}\\left(\\psi\\right) \\operatorname{cos}\\left(\\phi\\right) & \\operatorname{sin}\\left(\\phi\\right) \\operatorname{sin}\\left(\\psi\\right) + \\operatorname{sin}\\left(\\theta\\right) \\operatorname{cos}\\left(\\phi\\right) \\operatorname{cos}\\left(\\psi\\right)\\\\\\operatorname{sin}\\left(\\psi\\right) \\operatorname{cos}\\left(\\theta\\right) & \\operatorname{sin}\\left(\\phi\\right) \\operatorname{sin}\\left(\\psi\\right) \\operatorname{sin}\\left(\\theta\\right) + \\operatorname{cos}\\left(\\phi\\right) \\operatorname{cos}\\left(\\psi\\right) & - \\operatorname{sin}\\left(\\phi\\right) \\operatorname{cos}\\left(\\psi\\right) + \\operatorname{sin}\\left(\\psi\\right) \\operatorname{sin}\\left(\\theta\\right) \\operatorname{cos}\\left(\\phi\\right)\\\\- \\operatorname{sin}\\left(\\theta\\right) & \\operatorname{sin}\\left(\\phi\\right) \\operatorname{cos}\\left(\\theta\\right) & \\operatorname{cos}\\left(\\phi\\right) \\operatorname{cos}\\left(\\theta\\right)\\end{matrix}\\right]$$"
      ],
      "text/plain": [
       "⎡cos(\\psi)⋅cos(θ)  sin(\\phi)⋅sin(θ)⋅cos(\\psi) - sin(\\psi)⋅cos(\\phi)  sin(\\phi)\n",
       "⎢                                                                             \n",
       "⎢sin(\\psi)⋅cos(θ)  sin(\\phi)⋅sin(\\psi)⋅sin(θ) + cos(\\phi)⋅cos(\\psi)  -sin(\\phi\n",
       "⎢                                                                             \n",
       "⎣    -sin(θ)                       sin(\\phi)⋅cos(θ)                           \n",
       "\n",
       "⋅sin(\\psi) + sin(θ)⋅cos(\\phi)⋅cos(\\psi) ⎤\n",
       "                                        ⎥\n",
       ")⋅cos(\\psi) + sin(\\psi)⋅sin(θ)⋅cos(\\phi)⎥\n",
       "                                        ⎥\n",
       "       cos(\\phi)⋅cos(θ)                 ⎦"
      ]
     },
     "execution_count": 7,
     "metadata": {},
     "output_type": "execute_result"
    }
   ],
   "source": [
    "R # Rb2i"
   ]
  },
  {
   "cell_type": "code",
   "execution_count": 9,
   "metadata": {},
   "outputs": [
    {
     "data": {
      "text/latex": [
       "$$\\left[\\begin{matrix}\\operatorname{cos}\\left(\\psi\\right) \\operatorname{cos}\\left(\\theta\\right) & \\operatorname{sin}\\left(\\psi\\right) \\operatorname{cos}\\left(\\theta\\right) & - \\operatorname{sin}\\left(\\theta\\right)\\\\\\operatorname{sin}\\left(\\phi\\right) \\operatorname{sin}\\left(\\theta\\right) \\operatorname{cos}\\left(\\psi\\right) - \\operatorname{sin}\\left(\\psi\\right) \\operatorname{cos}\\left(\\phi\\right) & \\operatorname{sin}\\left(\\phi\\right) \\operatorname{sin}\\left(\\psi\\right) \\operatorname{sin}\\left(\\theta\\right) + \\operatorname{cos}\\left(\\phi\\right) \\operatorname{cos}\\left(\\psi\\right) & \\operatorname{sin}\\left(\\phi\\right) \\operatorname{cos}\\left(\\theta\\right)\\\\\\operatorname{sin}\\left(\\phi\\right) \\operatorname{sin}\\left(\\psi\\right) + \\operatorname{sin}\\left(\\theta\\right) \\operatorname{cos}\\left(\\phi\\right) \\operatorname{cos}\\left(\\psi\\right) & - \\operatorname{sin}\\left(\\phi\\right) \\operatorname{cos}\\left(\\psi\\right) + \\operatorname{sin}\\left(\\psi\\right) \\operatorname{sin}\\left(\\theta\\right) \\operatorname{cos}\\left(\\phi\\right) & \\operatorname{cos}\\left(\\phi\\right) \\operatorname{cos}\\left(\\theta\\right)\\end{matrix}\\right]$$"
      ],
      "text/plain": [
       "⎡                cos(\\psi)⋅cos(θ)                                  sin(\\psi)⋅c\n",
       "⎢                                                                             \n",
       "⎢sin(\\phi)⋅sin(θ)⋅cos(\\psi) - sin(\\psi)⋅cos(\\phi)  sin(\\phi)⋅sin(\\psi)⋅sin(θ) \n",
       "⎢                                                                             \n",
       "⎣sin(\\phi)⋅sin(\\psi) + sin(θ)⋅cos(\\phi)⋅cos(\\psi)  -sin(\\phi)⋅cos(\\psi) + sin(\n",
       "\n",
       "os(θ)                       -sin(θ)     ⎤\n",
       "                                        ⎥\n",
       "+ cos(\\phi)⋅cos(\\psi)   sin(\\phi)⋅cos(θ)⎥\n",
       "                                        ⎥\n",
       "\\psi)⋅sin(θ)⋅cos(\\phi)  cos(\\phi)⋅cos(θ)⎦"
      ]
     },
     "execution_count": 9,
     "metadata": {},
     "output_type": "execute_result"
    }
   ],
   "source": [
    "R.T # Ri2b"
   ]
  },
  {
   "cell_type": "code",
   "execution_count": 13,
   "metadata": {},
   "outputs": [
    {
     "data": {
      "text/latex": [
       "$$\\left[\\begin{matrix}0 & \\operatorname{sin}\\left(\\phi\\right) \\dot{\\theta} - \\operatorname{cos}\\left(\\phi\\right) \\operatorname{cos}\\left(\\theta\\right) \\dot{\\psi} & \\operatorname{sin}\\left(\\phi\\right) \\operatorname{cos}\\left(\\theta\\right) \\dot{\\psi} + \\operatorname{cos}\\left(\\phi\\right) \\dot{\\theta}\\\\- \\operatorname{sin}\\left(\\phi\\right) \\dot{\\theta} + \\operatorname{cos}\\left(\\phi\\right) \\operatorname{cos}\\left(\\theta\\right) \\dot{\\psi} & 0 & \\operatorname{sin}\\left(\\theta\\right) \\dot{\\psi} - \\dot{\\phi}\\\\- \\operatorname{sin}\\left(\\phi\\right) \\operatorname{cos}\\left(\\theta\\right) \\dot{\\psi} - \\operatorname{cos}\\left(\\phi\\right) \\dot{\\theta} & - \\operatorname{sin}\\left(\\theta\\right) \\dot{\\psi} + \\dot{\\phi} & 0\\end{matrix}\\right]$$"
      ],
      "text/plain": [
       "⎡                  0                     sin(\\phi)⋅θ̇ - cos(\\phi)⋅cos(θ)⋅\\pṡi\n",
       "⎢                                                                             \n",
       "⎢-sin(\\phi)⋅θ̇ + cos(\\phi)⋅cos(θ)⋅\\pṡi                    0                  \n",
       "⎢                                                                             \n",
       "⎣-sin(\\phi)⋅cos(θ)⋅\\pṡi - cos(\\phi)⋅θ̇          -sin(θ)⋅\\pṡi + \\pḣi        \n",
       "\n",
       "  sin(\\phi)⋅cos(θ)⋅\\pṡi + cos(\\phi)⋅θ̇⎤\n",
       "                                       ⎥\n",
       "          sin(θ)⋅\\pṡi - \\pḣi         ⎥\n",
       "                                       ⎥\n",
       "                    0                  ⎦"
      ]
     },
     "execution_count": 13,
     "metadata": {},
     "output_type": "execute_result"
    }
   ],
   "source": [
    "RT_Rdot # map p to p_dot (Body Frame)"
   ]
  },
  {
   "cell_type": "code",
   "execution_count": 14,
   "metadata": {},
   "outputs": [
    {
     "data": {
      "text/latex": [
       "$$\\left[\\begin{matrix}0 & \\operatorname{sin}\\left(\\theta\\right) \\dot{\\phi} - \\dot{\\psi} & \\operatorname{sin}\\left(\\psi\\right) \\operatorname{cos}\\left(\\theta\\right) \\dot{\\phi} + \\operatorname{cos}\\left(\\psi\\right) \\dot{\\theta}\\\\- \\operatorname{sin}\\left(\\theta\\right) \\dot{\\phi} + \\dot{\\psi} & 0 & \\operatorname{sin}\\left(\\psi\\right) \\dot{\\theta} - \\operatorname{cos}\\left(\\psi\\right) \\operatorname{cos}\\left(\\theta\\right) \\dot{\\phi}\\\\- \\operatorname{sin}\\left(\\psi\\right) \\operatorname{cos}\\left(\\theta\\right) \\dot{\\phi} - \\operatorname{cos}\\left(\\psi\\right) \\dot{\\theta} & - \\operatorname{sin}\\left(\\psi\\right) \\dot{\\theta} + \\operatorname{cos}\\left(\\psi\\right) \\operatorname{cos}\\left(\\theta\\right) \\dot{\\phi} & 0\\end{matrix}\\right]$$"
      ],
      "text/plain": [
       "⎡                  0                              sin(θ)⋅\\pḣi - \\pṡi        \n",
       "⎢                                                                             \n",
       "⎢        -sin(θ)⋅\\pḣi + \\pṡi                             0                  \n",
       "⎢                                                                             \n",
       "⎣-sin(\\psi)⋅cos(θ)⋅\\pḣi - cos(\\psi)⋅θ̇  -sin(\\psi)⋅θ̇ + cos(\\psi)⋅cos(θ)⋅\\pḣ\n",
       "\n",
       "   sin(\\psi)⋅cos(θ)⋅\\pḣi + cos(\\psi)⋅θ̇⎤\n",
       "                                        ⎥\n",
       "   sin(\\psi)⋅θ̇ - cos(\\psi)⋅cos(θ)⋅\\pḣi⎥\n",
       "                                        ⎥\n",
       "i                    0                  ⎦"
      ]
     },
     "execution_count": 14,
     "metadata": {},
     "output_type": "execute_result"
    }
   ],
   "source": [
    "Rdot_RT # map q to q_dot (Inertial Frame)"
   ]
  },
  {
   "cell_type": "code",
   "execution_count": 18,
   "metadata": {},
   "outputs": [
    {
     "data": {
      "text/latex": [
       "$$\\left[\\begin{matrix}\\phi - \\psi \\operatorname{sin}\\left(\\theta\\right)\\\\\\psi \\operatorname{sin}\\left(\\phi\\right) \\operatorname{cos}\\left(\\theta\\right) + \\theta \\operatorname{cos}\\left(\\phi\\right)\\\\\\psi \\operatorname{cos}\\left(\\phi\\right) \\operatorname{cos}\\left(\\theta\\right) - \\theta \\operatorname{sin}\\left(\\phi\\right)\\end{matrix}\\right]$$"
      ],
      "text/plain": [
       "⎡        \\phi - \\psi⋅sin(θ)         ⎤\n",
       "⎢                                   ⎥\n",
       "⎢\\psi⋅sin(\\phi)⋅cos(θ) + θ⋅cos(\\phi)⎥\n",
       "⎢                                   ⎥\n",
       "⎣\\psi⋅cos(\\phi)⋅cos(θ) - θ⋅sin(\\phi)⎦"
      ]
     },
     "execution_count": 18,
     "metadata": {},
     "output_type": "execute_result"
    }
   ],
   "source": [
    "pqr # pqr (rpy_dot)"
   ]
  },
  {
   "cell_type": "code",
   "execution_count": 16,
   "metadata": {},
   "outputs": [
    {
     "data": {
      "text/latex": [
       "$$\\left[\\begin{matrix}1 & 0 & - \\operatorname{sin}\\left(\\theta\\right)\\\\0 & \\operatorname{cos}\\left(\\phi\\right) & \\operatorname{sin}\\left(\\phi\\right) \\operatorname{cos}\\left(\\theta\\right)\\\\0 & - \\operatorname{sin}\\left(\\phi\\right) & \\operatorname{cos}\\left(\\phi\\right) \\operatorname{cos}\\left(\\theta\\right)\\end{matrix}\\right]$$"
      ],
      "text/plain": [
       "⎡1      0           -sin(θ)     ⎤\n",
       "⎢                               ⎥\n",
       "⎢0  cos(\\phi)   sin(\\phi)⋅cos(θ)⎥\n",
       "⎢                               ⎥\n",
       "⎣0  -sin(\\phi)  cos(\\phi)⋅cos(θ)⎦"
      ]
     },
     "execution_count": 16,
     "metadata": {},
     "output_type": "execute_result"
    }
   ],
   "source": [
    "Ti2b # Transformação de velocidades angulares I->B"
   ]
  },
  {
   "cell_type": "code",
   "execution_count": 19,
   "metadata": {},
   "outputs": [
    {
     "data": {
      "text/latex": [
       "$$\\left[\\begin{matrix}p + q \\operatorname{sin}\\left(\\phi\\right) \\operatorname{tan}\\left(\\theta\\right) + r \\operatorname{cos}\\left(\\phi\\right) \\operatorname{tan}\\left(\\theta\\right)\\\\q \\operatorname{cos}\\left(\\phi\\right) - r \\operatorname{sin}\\left(\\phi\\right)\\\\\\frac{q \\operatorname{sin}\\left(\\phi\\right)}{\\operatorname{cos}\\left(\\theta\\right)} + \\frac{r \\operatorname{cos}\\left(\\phi\\right)}{\\operatorname{cos}\\left(\\theta\\right)}\\end{matrix}\\right]$$"
      ],
      "text/plain": [
       "⎡p + q⋅sin(\\phi)⋅tan(θ) + r⋅cos(\\phi)⋅tan(θ)⎤\n",
       "⎢                                           ⎥\n",
       "⎢         q⋅cos(\\phi) - r⋅sin(\\phi)         ⎥\n",
       "⎢                                           ⎥\n",
       "⎢         q⋅sin(\\phi)   r⋅cos(\\phi)         ⎥\n",
       "⎢         ─────────── + ───────────         ⎥\n",
       "⎣            cos(θ)        cos(θ)           ⎦"
      ]
     },
     "execution_count": 19,
     "metadata": {},
     "output_type": "execute_result"
    }
   ],
   "source": [
    "rpy_dot # rpy_dot (pqr)"
   ]
  },
  {
   "cell_type": "code",
   "execution_count": 3,
   "metadata": {},
   "outputs": [
    {
     "data": {
      "text/latex": [
       "$$\\left[\\begin{matrix}1 & \\operatorname{sin}\\left(\\phi\\right) \\operatorname{tan}\\left(\\theta\\right) & \\operatorname{cos}\\left(\\phi\\right) \\operatorname{tan}\\left(\\theta\\right)\\\\0 & \\operatorname{cos}\\left(\\phi\\right) & - \\operatorname{sin}\\left(\\phi\\right)\\\\0 & \\frac{\\operatorname{sin}\\left(\\phi\\right)}{\\operatorname{cos}\\left(\\theta\\right)} & \\frac{\\operatorname{cos}\\left(\\phi\\right)}{\\operatorname{cos}\\left(\\theta\\right)}\\end{matrix}\\right]$$"
      ],
      "text/plain": [
       "⎡1  sin(\\phi)⋅tan(θ)  cos(\\phi)⋅tan(θ)⎤\n",
       "⎢                                     ⎥\n",
       "⎢0     cos(\\phi)         -sin(\\phi)   ⎥\n",
       "⎢                                     ⎥\n",
       "⎢      sin(\\phi)         cos(\\phi)    ⎥\n",
       "⎢0     ─────────         ─────────    ⎥\n",
       "⎣        cos(θ)            cos(θ)     ⎦"
      ]
     },
     "execution_count": 3,
     "metadata": {},
     "output_type": "execute_result"
    }
   ],
   "source": [
    "Tb2i # Transformação de velocidades angulares B->I"
   ]
  },
  {
   "cell_type": "code",
   "execution_count": 4,
   "metadata": {},
   "outputs": [
    {
     "data": {
      "text/latex": [
       "$$\\left[\\begin{matrix}0 & \\frac{\\operatorname{sin}\\left(\\phi\\right) \\dot{\\theta}}{\\operatorname{cos}^{2}\\left(\\theta\\right)} + \\operatorname{cos}\\left(\\phi\\right) \\operatorname{tan}\\left(\\theta\\right) \\dot{\\phi} & - \\operatorname{sin}\\left(\\phi\\right) \\operatorname{tan}\\left(\\theta\\right) \\dot{\\phi} + \\frac{\\operatorname{cos}\\left(\\phi\\right) \\dot{\\theta}}{\\operatorname{cos}^{2}\\left(\\theta\\right)}\\\\0 & - \\operatorname{sin}\\left(\\phi\\right) \\dot{\\phi} & - \\operatorname{cos}\\left(\\phi\\right) \\dot{\\phi}\\\\0 & \\frac{1}{\\operatorname{cos}\\left(\\theta\\right)} \\left(\\operatorname{sin}\\left(\\phi\\right) \\operatorname{tan}\\left(\\theta\\right) \\dot{\\theta} + \\operatorname{cos}\\left(\\phi\\right) \\dot{\\phi}\\right) & \\frac{1}{\\operatorname{cos}\\left(\\theta\\right)} \\left(- \\operatorname{sin}\\left(\\phi\\right) \\dot{\\phi} + \\operatorname{cos}\\left(\\phi\\right) \\operatorname{tan}\\left(\\theta\\right) \\dot{\\theta}\\right)\\end{matrix}\\right]$$"
      ],
      "text/plain": [
       "⎡   sin(\\phi)⋅θ̇                                                     cos(\\phi)\n",
       "⎢0  ──────────── + cos(\\phi)⋅tan(θ)⋅\\pḣi  -sin(\\phi)⋅tan(θ)⋅\\pḣi + ─────────\n",
       "⎢        2                                                                2   \n",
       "⎢     cos (θ)                                                          cos (θ)\n",
       "⎢                                                                             \n",
       "⎢0            -sin(\\phi)⋅\\pḣi                        -cos(\\phi)⋅\\pḣi        \n",
       "⎢                                                                             \n",
       "⎢   sin(\\phi)⋅tan(θ)⋅θ̇ + cos(\\phi)⋅\\pḣi  -sin(\\phi)⋅\\pḣi + cos(\\phi)⋅tan(θ)\n",
       "⎢0  ─────────────────────────────────────  ───────────────────────────────────\n",
       "⎣                   cos(θ)                                 cos(θ)             \n",
       "\n",
       "⋅θ̇⎤\n",
       "───⎥\n",
       "   ⎥\n",
       "   ⎥\n",
       "   ⎥\n",
       "   ⎥\n",
       "   ⎥\n",
       "⋅θ̇⎥\n",
       "───⎥\n",
       "   ⎦"
      ]
     },
     "execution_count": 4,
     "metadata": {},
     "output_type": "execute_result"
    }
   ],
   "source": [
    "Tb2i_dot # Tb2i_dot"
   ]
  },
  {
   "cell_type": "code",
   "execution_count": 14,
   "metadata": {},
   "outputs": [
    {
     "data": {
      "image/png": "[encoded data removed]",
      "text/latex": [
       "$$\\left[\\begin{matrix}- \\operatorname{sin}\\left(\\theta\\right) \\ddot{\\psi} - \\operatorname{cos}\\left(\\theta\\right) \\dot{\\psi} \\dot{\\theta} + \\ddot{\\phi}\\\\- \\operatorname{sin}\\left(\\phi\\right) \\operatorname{sin}\\left(\\theta\\right) \\dot{\\psi} \\dot{\\theta} + \\operatorname{sin}\\left(\\phi\\right) \\operatorname{cos}\\left(\\theta\\right) \\ddot{\\psi} - \\operatorname{sin}\\left(\\phi\\right) \\dot{\\phi} \\dot{\\theta} + \\operatorname{cos}\\left(\\phi\\right) \\operatorname{cos}\\left(\\theta\\right) \\dot{\\phi} \\dot{\\psi} + \\operatorname{cos}\\left(\\phi\\right) \\ddot{\\theta}\\\\- \\operatorname{sin}\\left(\\phi\\right) \\operatorname{cos}\\left(\\theta\\right) \\dot{\\phi} \\dot{\\psi} - \\operatorname{sin}\\left(\\phi\\right) \\ddot{\\theta} - \\operatorname{sin}\\left(\\theta\\right) \\operatorname{cos}\\left(\\phi\\right) \\dot{\\psi} \\dot{\\theta} + \\operatorname{cos}\\left(\\phi\\right) \\operatorname{cos}\\left(\\theta\\right) \\ddot{\\psi} - \\operatorname{cos}\\left(\\phi\\right) \\dot{\\phi} \\dot{\\theta}\\end{matrix}\\right]$$"
      ],
      "text/plain": [
       "⎡                                       -sin(θ)⋅\\ps̈i - cos(θ)⋅\\pṡi⋅θ̇ + \\pḧ\n",
       "⎢                                                                             \n",
       "⎢-sin(\\phi)⋅sin(θ)⋅\\pṡi⋅θ̇ + sin(\\phi)⋅cos(θ)⋅\\ps̈i - sin(\\phi)⋅\\pḣi⋅θ̇ + co\n",
       "⎢                                                                             \n",
       "⎣-sin(\\phi)⋅cos(θ)⋅\\pḣi⋅\\pṡi - sin(\\phi)⋅θ̈ - sin(θ)⋅cos(\\phi)⋅\\pṡi⋅θ̇ + co\n",
       "\n",
       "i                                        ⎤\n",
       "                                         ⎥\n",
       "s(\\phi)⋅cos(θ)⋅\\pḣi⋅\\pṡi + cos(\\phi)⋅θ̈⎥\n",
       "                                         ⎥\n",
       "s(\\phi)⋅cos(θ)⋅\\ps̈i - cos(\\phi)⋅\\pḣi⋅θ̇⎦"
      ]
     },
     "execution_count": 14,
     "metadata": {},
     "output_type": "execute_result"
    }
   ],
   "source": [
    "pqr_dot # pqr_dot (rpy,rpy_dot)"
   ]
  },
  {
   "cell_type": "code",
   "execution_count": 10,
   "metadata": {},
   "outputs": [
    {
     "data": {
      "text/latex": [
       "$$\\left[\\begin{matrix}\\frac{\\psi \\dot{\\theta}}{\\operatorname{cos}\\left(\\theta\\right)} + \\theta \\operatorname{tan}\\left(\\theta\\right) \\dot{\\phi} + \\operatorname{sin}\\left(\\phi\\right) \\operatorname{tan}\\left(\\theta\\right) \\dot{q} + \\dot{p}\\\\- \\psi \\operatorname{cos}\\left(\\theta\\right) \\dot{\\phi} + \\operatorname{cos}\\left(\\phi\\right) \\dot{q}\\\\\\frac{1}{\\operatorname{cos}\\left(\\theta\\right)} \\left(\\psi \\operatorname{sin}\\left(\\theta\\right) \\dot{\\theta} + \\theta \\dot{\\phi} + \\operatorname{sin}\\left(\\phi\\right) \\dot{q}\\right)\\end{matrix}\\right]$$"
      ],
      "text/plain": [
       "⎡\\psi⋅θ̇                                            ⎤\n",
       "⎢─────── + θ⋅tan(θ)⋅\\pḣi + sin(\\phi)⋅tan(θ)⋅q̇ + ṗ⎥\n",
       "⎢ cos(θ)                                            ⎥\n",
       "⎢                                                   ⎥\n",
       "⎢         -\\psi⋅cos(θ)⋅\\pḣi + cos(\\phi)⋅q̇         ⎥\n",
       "⎢                                                   ⎥\n",
       "⎢      \\psi⋅sin(θ)⋅θ̇ + θ⋅\\pḣi + sin(\\phi)⋅q̇      ⎥\n",
       "⎢      ───────────────────────────────────────      ⎥\n",
       "⎣                       cos(θ)                      ⎦"
      ]
     },
     "execution_count": 10,
     "metadata": {},
     "output_type": "execute_result"
    }
   ],
   "source": [
    "rpy_ddot # rpy_ddot (rpy,rpy_dot)"
   ]
  },
  {
   "cell_type": "code",
   "execution_count": null,
   "metadata": {},
   "outputs": [],
   "source": []
  }
 ],
 "metadata": {
  "kernelspec": {
   "display_name": "Python 3",
   "language": "python",
   "name": "python3"
  },
  "language_info": {
   "codemirror_mode": {
    "name": "ipython",
    "version": 3
   },
   "file_extension": ".py",
   "mimetype": "text/x-python",
   "name": "python",
   "nbconvert_exporter": "python",
   "pygments_lexer": "ipython3",
   "version": "3.6.4"
  }
 },
 "nbformat": 4,
 "nbformat_minor": 2
}
