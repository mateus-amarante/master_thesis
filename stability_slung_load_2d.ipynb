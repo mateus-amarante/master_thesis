{
 "cells": [
  {
   "cell_type": "markdown",
   "metadata": {},
   "source": [
    "# Stability Analysis of the SMC for the Slung Load System 2D\n",
    "\n"
   ]
  },
  {
   "cell_type": "code",
   "execution_count": 75,
   "metadata": {},
   "outputs": [],
   "source": [
    "from sympy import *\n",
    "from sympy.physics.mechanics import dynamicsymbols, init_vprinting\n",
    "\n",
    "init_vprinting()\n",
    "\n",
    "# Time and system variables\n",
    "t, y1, y2, y3 = symbols('t y_1 y_2 y_3')\n",
    "\n",
    "# Control parameters\n",
    "lambda1, lambda2, lambda3, lambda4 = symbols('\\tlambda_1' '\\tlambda_2' '\\tlambda_3''\\tlambda_4')\n",
    "\n",
    "# Physical parameters\n",
    "m, M, l, g = symbols('m M l g')\n",
    "\n",
    "# Original System Variables\n",
    "theta, z_d, alpha_d = dynamicsymbols('\\ttheta z_d \\talpha_d')\n",
    "\n",
    "zddot_d = diff(z_d,t,2)\n",
    "alphadot_d = diff(alpha_d,t,1)\n",
    "alphaddot_d = diff(alpha_d,t,2)"
   ]
  },
  {
   "cell_type": "code",
   "execution_count": 76,
   "metadata": {},
   "outputs": [],
   "source": [
    "# System Transformation (z, alpha)\n",
    "fz = -m*l*cos(alpha_d - y1)*(alphadot_d - y2)**2/(M+m) - g;\n",
    "bz = (-m*sin(alpha_d - y1)*sin(theta - alpha_d +y1) + M*cos(theta))/(M*(M+m));\n",
    "\n",
    "falpha = 0;\n",
    "balpha = sin(theta - alpha_d + y1)/(M*l);\n",
    "\n",
    "y1dot = y2\n",
    "y3dot = -(lambda2*y3 + lambda3*y2 + lambda4*y1)/lambda1\n",
    "\n",
    "u1_num = (lambda1*(zddot_d-fz) + lambda2*y3dot + lambda3*(alphaddot_d - falpha) + lambda4*y2);\n",
    "u1_den = lambda1*bz + lambda3*balpha;\n",
    "\n",
    "u1 = u1_num/u1_den\n",
    "\n",
    "y2dot = alphaddot_d - balpha*u1;"
   ]
  },
  {
   "cell_type": "code",
   "execution_count": 77,
   "metadata": {},
   "outputs": [
    {
     "data": {
      "image/png": "[encoded data removed]",
      "text/latex": [
       "$$\\left[\\begin{matrix}0 & 1 & 0\\\\- \\frac{\\left(- \\frac{l \\lambda_{1} m \\operatorname{sin}\\left(y_{1} - \\alpha_{d}\\right)}{M + m} \\left(- y_{2} + \\dot{\\alpha}_{d}\\right)^{2} - \\frac{\\lambda_{2} \\lambda_{4}}{\\lambda_{1}}\\right) \\operatorname{sin}\\left(y_{1} - \\alpha_{d} + \\theta\\right)}{M l \\left(\\frac{\\lambda_{1}}{M \\left(M + m\\right)} \\left(M \\operatorname{cos}\\left(\\theta\\right) + m \\operatorname{sin}\\left(y_{1} - \\alpha_{d}\\right) \\operatorname{sin}\\left(y_{1} - \\alpha_{d} + \\theta\\right)\\right) + \\frac{\\lambda_{3}}{M l} \\operatorname{sin}\\left(y_{1} - \\alpha_{d} + \\theta\\right)\\right)} - \\frac{\\left(\\lambda_{1} \\left(g + \\frac{l m \\left(- y_{2} + \\dot{\\alpha}_{d}\\right)^{2}}{M + m} \\operatorname{cos}\\left(y_{1} - \\alpha_{d}\\right) + \\ddot{z}_{d}\\right) + \\lambda_{3} \\ddot{\\alpha}_{d} + \\lambda_{4} y_{2} + \\frac{\\lambda_{2}}{\\lambda_{1}} \\left(- \\lambda_{2} y_{3} - \\lambda_{3} y_{2} - \\lambda_{4} y_{1}\\right)\\right) \\operatorname{cos}\\left(y_{1} - \\alpha_{d} + \\theta\\right)}{M l \\left(\\frac{\\lambda_{1}}{M \\left(M + m\\right)} \\left(M \\operatorname{cos}\\left(\\theta\\right) + m \\operatorname{sin}\\left(y_{1} - \\alpha_{d}\\right) \\operatorname{sin}\\left(y_{1} - \\alpha_{d} + \\theta\\right)\\right) + \\frac{\\lambda_{3}}{M l} \\operatorname{sin}\\left(y_{1} - \\alpha_{d} + \\theta\\right)\\right)} - \\frac{\\operatorname{sin}\\left(y_{1} - \\alpha_{d} + \\theta\\right)}{M l \\left(\\frac{\\lambda_{1}}{M \\left(M + m\\right)} \\left(M \\operatorname{cos}\\left(\\theta\\right) + m \\operatorname{sin}\\left(y_{1} - \\alpha_{d}\\right) \\operatorname{sin}\\left(y_{1} - \\alpha_{d} + \\theta\\right)\\right) + \\frac{\\lambda_{3}}{M l} \\operatorname{sin}\\left(y_{1} - \\alpha_{d} + \\theta\\right)\\right)^{2}} \\left(- \\frac{\\lambda_{1}}{M \\left(M + m\\right)} \\left(m \\operatorname{sin}\\left(y_{1} - \\alpha_{d}\\right) \\operatorname{cos}\\left(y_{1} - \\alpha_{d} + \\theta\\right) + m \\operatorname{sin}\\left(y_{1} - \\alpha_{d} + \\theta\\right) \\operatorname{cos}\\left(y_{1} - \\alpha_{d}\\right)\\right) - \\frac{\\lambda_{3}}{M l} \\operatorname{cos}\\left(y_{1} - \\alpha_{d} + \\theta\\right)\\right) \\left(\\lambda_{1} \\left(g + \\frac{l m \\left(- y_{2} + \\dot{\\alpha}_{d}\\right)^{2}}{M + m} \\operatorname{cos}\\left(y_{1} - \\alpha_{d}\\right) + \\ddot{z}_{d}\\right) + \\lambda_{3} \\ddot{\\alpha}_{d} + \\lambda_{4} y_{2} + \\frac{\\lambda_{2}}{\\lambda_{1}} \\left(- \\lambda_{2} y_{3} - \\lambda_{3} y_{2} - \\lambda_{4} y_{1}\\right)\\right) & - \\frac{\\left(\\frac{l \\lambda_{1} m \\operatorname{cos}\\left(y_{1} - \\alpha_{d}\\right)}{M + m} \\left(2 y_{2} - 2 \\dot{\\alpha}_{d}\\right) + \\lambda_{4} - \\frac{\\lambda_{2} \\lambda_{3}}{\\lambda_{1}}\\right) \\operatorname{sin}\\left(y_{1} - \\alpha_{d} + \\theta\\right)}{M l \\left(\\frac{\\lambda_{1}}{M \\left(M + m\\right)} \\left(M \\operatorname{cos}\\left(\\theta\\right) + m \\operatorname{sin}\\left(y_{1} - \\alpha_{d}\\right) \\operatorname{sin}\\left(y_{1} - \\alpha_{d} + \\theta\\right)\\right) + \\frac{\\lambda_{3}}{M l} \\operatorname{sin}\\left(y_{1} - \\alpha_{d} + \\theta\\right)\\right)} & \\frac{\\lambda_{2}^{2} \\operatorname{sin}\\left(y_{1} - \\alpha_{d} + \\theta\\right)}{M l \\lambda_{1} \\left(\\frac{\\lambda_{1}}{M \\left(M + m\\right)} \\left(M \\operatorname{cos}\\left(\\theta\\right) + m \\operatorname{sin}\\left(y_{1} - \\alpha_{d}\\right) \\operatorname{sin}\\left(y_{1} - \\alpha_{d} + \\theta\\right)\\right) + \\frac{\\lambda_{3}}{M l} \\operatorname{sin}\\left(y_{1} - \\alpha_{d} + \\theta\\right)\\right)}\\\\- \\frac{\\lambda_{4}}{\\lambda_{1}} & - \\frac{\\lambda_{3}}{\\lambda_{1}} & - \\frac{\\lambda_{2}}{\\lambda_{1}}\\end{matrix}\\right]$$"
      ],
      "text/plain": [
       "⎡                                                                             \n",
       "⎢                                                                             \n",
       "⎢         ⎛                     2                      ⎞                      \n",
       "⎢         ⎜  l⋅λ₁⋅m⋅(-y₂ + α_̇d) ⋅sin(y₁ - α_d)   λ₂⋅λ₄⎟                      \n",
       "⎢         ⎜- ────────────────────────────────── - ─────⎟⋅sin(y₁ - α_d + θ)    \n",
       "⎢         ⎝                M + m                    λ₁ ⎠                      \n",
       "⎢- ───────────────────────────────────────────────────────────────────────────\n",
       "⎢      ⎛λ₁⋅(M⋅cos(θ) + m⋅sin(y₁ - α_d)⋅sin(y₁ - α_d + θ))   λ₃⋅sin(y₁ - α_d + \n",
       "⎢  M⋅l⋅⎜───────────────────────────────────────────────── + ──────────────────\n",
       "⎢      ⎝                    M⋅(M + m)                               M⋅l       \n",
       "⎢                                                                             \n",
       "⎢                                                                             \n",
       "⎢                                                                             \n",
       "⎢                                                                             \n",
       "⎣                                                                             \n",
       "\n",
       "                                                                              \n",
       "                                                                              \n",
       "      ⎛   ⎛                    2                     ⎞                        \n",
       "      ⎜   ⎜    l⋅m⋅(-y₂ + α_̇d) ⋅cos(y₁ - α_d)       ⎟                     λ₂⋅\n",
       "      ⎜λ₁⋅⎜g + ─────────────────────────────── + z_̈d⎟ + λ₃⋅α_̈d + λ₄⋅y₂ + ───\n",
       "      ⎝   ⎝                 M + m                    ⎠                        \n",
       "─── - ────────────────────────────────────────────────────────────────────────\n",
       "θ)⎞                          ⎛λ₁⋅(M⋅cos(θ) + m⋅sin(y₁ - α_d)⋅sin(y₁ - α_d + θ)\n",
       "──⎟                      M⋅l⋅⎜────────────────────────────────────────────────\n",
       "  ⎠                          ⎝                    M⋅(M + m)                   \n",
       "                                                                              \n",
       "                                                                              \n",
       "                                                                              \n",
       "                                                                              \n",
       "                                                                              \n",
       "\n",
       "                                                     0                        \n",
       "                                                                              \n",
       "                        ⎞                                                     \n",
       "(-λ₂⋅y₃ - λ₃⋅y₂ - λ₄⋅y₁)⎟                     ⎛  λ₁⋅(m⋅sin(y₁ - α_d)⋅cos(y₁ - \n",
       "────────────────────────⎟⋅cos(y₁ - α_d + θ)   ⎜- ─────────────────────────────\n",
       "          λ₁            ⎠                     ⎝                               \n",
       "─────────────────────────────────────────── - ────────────────────────────────\n",
       ")   λ₃⋅sin(y₁ - α_d + θ)⎞                                                     \n",
       "─ + ────────────────────⎟                                                     \n",
       "            M⋅l         ⎠                                                     \n",
       "                                                                              \n",
       "                                                                              \n",
       "                                                    -λ₄                       \n",
       "                                                    ────                      \n",
       "                                                     λ₁                       \n",
       "\n",
       "                                                                              \n",
       "                                                                              \n",
       "                                                                      ⎛   ⎛   \n",
       "α_d + θ) + m⋅sin(y₁ - α_d + θ)⋅cos(y₁ - α_d))   λ₃⋅cos(y₁ - α_d + θ)⎞ ⎜   ⎜   \n",
       "───────────────────────────────────────────── - ────────────────────⎟⋅⎜λ₁⋅⎜g +\n",
       "   M⋅(M + m)                                            M⋅l         ⎠ ⎝   ⎝   \n",
       "──────────────────────────────────────────────────────────────────────────────\n",
       "                                                                              \n",
       "                                         ⎛λ₁⋅(M⋅cos(θ) + m⋅sin(y₁ - α_d)⋅sin(y\n",
       "                                     M⋅l⋅⎜────────────────────────────────────\n",
       "                                         ⎝                    M⋅(M + m)       \n",
       "                                                                              \n",
       "                                                                              \n",
       "                                                                              \n",
       "                                                                              \n",
       "\n",
       "                                                                              \n",
       "                                                                              \n",
       "                 2                     ⎞                                      \n",
       " l⋅m⋅(-y₂ + α_̇d) ⋅cos(y₁ - α_d)       ⎟                     λ₂⋅(-λ₂⋅y₃ - λ₃⋅y\n",
       " ─────────────────────────────── + z_̈d⎟ + λ₃⋅α_̈d + λ₄⋅y₂ + ─────────────────\n",
       "              M + m                    ⎠                                  λ₁  \n",
       "──────────────────────────────────────────────────────────────────────────────\n",
       "                                     2                                        \n",
       "₁ - α_d + θ))   λ₃⋅sin(y₁ - α_d + θ)⎞                                         \n",
       "───────────── + ────────────────────⎟                                         \n",
       "                        M⋅l         ⎠                                         \n",
       "                                                                              \n",
       "                                                                              \n",
       "                                                                              \n",
       "                                                                              \n",
       "\n",
       "                                                                     1        \n",
       "                                                                              \n",
       "          ⎞                                                                   \n",
       "₂ - λ₄⋅y₁)⎟                        ⎛l⋅λ₁⋅m⋅(2⋅y₂ - 2⋅α_̇d)⋅cos(y₁ - α_d)      \n",
       "──────────⎟⋅sin(y₁ - α_d + θ)     -⎜──────────────────────────────────── + λ₄ \n",
       "          ⎠                        ⎝               M + m                      \n",
       "─────────────────────────────  ───────────────────────────────────────────────\n",
       "                                   ⎛λ₁⋅(M⋅cos(θ) + m⋅sin(y₁ - α_d)⋅sin(y₁ - α_\n",
       "                               M⋅l⋅⎜──────────────────────────────────────────\n",
       "                                   ⎝                    M⋅(M + m)             \n",
       "                                                                              \n",
       "                                                                              \n",
       "                                                                    -λ₃       \n",
       "                                                                    ────      \n",
       "                                                                     λ₁       \n",
       "\n",
       "                                                                         0    \n",
       "                                                                              \n",
       "                                                                              \n",
       "  λ₂⋅λ₃⎞                                                                      \n",
       "- ─────⎟⋅sin(y₁ - α_d + θ)                                       2            \n",
       "    λ₁ ⎠                                                       λ₂ ⋅sin(y₁ - α_\n",
       "───────────────────────────────  ─────────────────────────────────────────────\n",
       "d + θ))   λ₃⋅sin(y₁ - α_d + θ)⎞         ⎛λ₁⋅(M⋅cos(θ) + m⋅sin(y₁ - α_d)⋅sin(y₁\n",
       "─────── + ────────────────────⎟  M⋅l⋅λ₁⋅⎜─────────────────────────────────────\n",
       "                  M⋅l         ⎠         ⎝                    M⋅(M + m)        \n",
       "                                                                              \n",
       "                                                                              \n",
       "                                                                       -λ₂    \n",
       "                                                                       ────   \n",
       "                                                                        λ₁    \n",
       "\n",
       "                                    ⎤\n",
       "                                    ⎥\n",
       "                                    ⎥\n",
       "                                    ⎥\n",
       "                                    ⎥\n",
       "d + θ)                              ⎥\n",
       "────────────────────────────────────⎥\n",
       " - α_d + θ))   λ₃⋅sin(y₁ - α_d + θ)⎞⎥\n",
       "──────────── + ────────────────────⎟⎥\n",
       "                       M⋅l         ⎠⎥\n",
       "                                    ⎥\n",
       "                                    ⎥\n",
       "                                    ⎥\n",
       "                                    ⎥\n",
       "                                    ⎦"
      ]
     },
     "execution_count": 77,
     "metadata": {},
     "output_type": "execute_result"
    }
   ],
   "source": [
    "# Linearization\n",
    "F = Matrix([y1dot,y2dot,y3dot])\n",
    "y =  Matrix([y1, y2, y3])\n",
    "\n",
    "# F = F.subs({alpha_d: 0., alphadot_d: 0., alphaddot_d: 0.}).evalf()\n",
    "jac = F.jacobian(y)\n",
    "jac"
   ]
  },
  {
   "cell_type": "code",
   "execution_count": 88,
   "metadata": {},
   "outputs": [
    {
     "data": {
      "image/png": "[encoded data removed]",
      "text/latex": [
       "$$\\left[\\begin{matrix}0 & 1.0 & 0\\\\- \\frac{\\lambda_{1} \\left(g + \\ddot{z}_{d}\\right) \\operatorname{cos}\\left(\\theta\\right)}{M l \\left(\\frac{\\lambda_{1} \\operatorname{cos}\\left(\\theta\\right)}{M + m} + \\frac{\\lambda_{3} \\operatorname{sin}\\left(\\theta\\right)}{M l}\\right)} - \\frac{\\lambda_{1} \\left(g + \\ddot{z}_{d}\\right) \\left(- \\frac{\\lambda_{1} m \\operatorname{sin}\\left(\\theta\\right)}{M \\left(M + m\\right)} - \\frac{\\lambda_{3} \\operatorname{cos}\\left(\\theta\\right)}{M l}\\right) \\operatorname{sin}\\left(\\theta\\right)}{M l \\left(\\frac{\\lambda_{1} \\operatorname{cos}\\left(\\theta\\right)}{M + m} + \\frac{\\lambda_{3} \\operatorname{sin}\\left(\\theta\\right)}{M l}\\right)^{2}} + \\frac{\\lambda_{2} \\lambda_{4} \\operatorname{sin}\\left(\\theta\\right)}{M l \\lambda_{1} \\left(\\frac{\\lambda_{1} \\operatorname{cos}\\left(\\theta\\right)}{M + m} + \\frac{\\lambda_{3} \\operatorname{sin}\\left(\\theta\\right)}{M l}\\right)} & - \\frac{\\left(\\lambda_{4} - \\frac{\\lambda_{2} \\lambda_{3}}{\\lambda_{1}}\\right) \\operatorname{sin}\\left(\\theta\\right)}{M l \\left(\\frac{\\lambda_{1} \\operatorname{cos}\\left(\\theta\\right)}{M + m} + \\frac{\\lambda_{3} \\operatorname{sin}\\left(\\theta\\right)}{M l}\\right)} & \\frac{\\lambda_{2}^{2} \\operatorname{sin}\\left(\\theta\\right)}{M l \\lambda_{1} \\left(\\frac{\\lambda_{1} \\operatorname{cos}\\left(\\theta\\right)}{M + m} + \\frac{\\lambda_{3} \\operatorname{sin}\\left(\\theta\\right)}{M l}\\right)}\\\\- \\frac{\\lambda_{4}}{\\lambda_{1}} & - \\frac{\\lambda_{3}}{\\lambda_{1}} & - \\frac{\\lambda_{2}}{\\lambda_{1}}\\end{matrix}\\right]$$"
      ],
      "text/plain": [
       "⎡                                                        0                    \n",
       "⎢                                                                             \n",
       "⎢                                              ⎛  λ₁⋅m⋅sin(θ)   λ₃⋅cos(θ)⎞    \n",
       "⎢                                λ₁⋅(g + z_̈d)⋅⎜- ─────────── - ─────────⎟⋅sin\n",
       "⎢      λ₁⋅(g + z_̈d)⋅cos(θ)                    ⎝   M⋅(M + m)       M⋅l   ⎠    \n",
       "⎢- ─────────────────────────── - ─────────────────────────────────────────────\n",
       "⎢      ⎛λ₁⋅cos(θ)   λ₃⋅sin(θ)⎞                                        2       \n",
       "⎢  M⋅l⋅⎜───────── + ─────────⎟                 ⎛λ₁⋅cos(θ)   λ₃⋅sin(θ)⎞        \n",
       "⎢      ⎝  M + m        M⋅l   ⎠             M⋅l⋅⎜───────── + ─────────⎟        \n",
       "⎢                                              ⎝  M + m        M⋅l   ⎠        \n",
       "⎢                                                                             \n",
       "⎢                                                      -λ₄                    \n",
       "⎢                                                      ────                   \n",
       "⎣                                                       λ₁                    \n",
       "\n",
       "                                                  1.0                         \n",
       "                                                                              \n",
       "                                          ⎛     λ₂⋅λ₃⎞                        \n",
       "(θ)                                      -⎜λ₄ - ─────⎟⋅sin(θ)                 \n",
       "               λ₂⋅λ₄⋅sin(θ)               ⎝       λ₁ ⎠                       λ\n",
       "─── + ──────────────────────────────  ───────────────────────────  ───────────\n",
       "             ⎛λ₁⋅cos(θ)   λ₃⋅sin(θ)⎞      ⎛λ₁⋅cos(θ)   λ₃⋅sin(θ)⎞         ⎛λ₁⋅\n",
       "      M⋅l⋅λ₁⋅⎜───────── + ─────────⎟  M⋅l⋅⎜───────── + ─────────⎟  M⋅l⋅λ₁⋅⎜───\n",
       "             ⎝  M + m        M⋅l   ⎠      ⎝  M + m        M⋅l   ⎠         ⎝  M\n",
       "                                                                              \n",
       "                                                                              \n",
       "                                                 -λ₃                          \n",
       "                                                 ────                         \n",
       "                                                  λ₁                          \n",
       "\n",
       "   0               ⎤\n",
       "                   ⎥\n",
       "                   ⎥\n",
       " 2                 ⎥\n",
       "₂ ⋅sin(θ)          ⎥\n",
       "───────────────────⎥\n",
       "cos(θ)   λ₃⋅sin(θ)⎞⎥\n",
       "────── + ─────────⎟⎥\n",
       " + m        M⋅l   ⎠⎥\n",
       "                   ⎥\n",
       "                   ⎥\n",
       "  -λ₂              ⎥\n",
       "  ────             ⎥\n",
       "   λ₁              ⎦"
      ]
     },
     "execution_count": 88,
     "metadata": {},
     "output_type": "execute_result"
    }
   ],
   "source": [
    "lin = jac.subs({y1:0, y2:0, y3:0}).evalf()\n",
    "lin2 = lin.subs({alpha_d: 0., alphadot_d: 0., alphaddot_d: 0.}).evalf()\n",
    "lin2\n",
    "# F.subs({y1:0, y2:0, y3:0,alpha_d: 0., alphadot_d: 0., alphaddot_d: 0.}).evalf()"
   ]
  },
  {
   "cell_type": "code",
   "execution_count": 85,
   "metadata": {},
   "outputs": [
    {
     "data": {
      "image/png": "[encoded data removed]",
      "text/latex": [
       "$$\\left [ 1, \\quad \\frac{M l \\lambda_{2} \\operatorname{cos}\\left(\\theta\\right) + M \\lambda_{4} \\operatorname{sin}\\left(\\theta\\right) + \\lambda_{4} m \\operatorname{sin}\\left(\\theta\\right)}{M l \\lambda_{1} \\operatorname{cos}\\left(\\theta\\right) + M \\lambda_{3} \\operatorname{sin}\\left(\\theta\\right) + \\lambda_{3} m \\operatorname{sin}\\left(\\theta\\right)}, \\quad \\frac{1.0 l \\lambda_{1}^{2} \\left(M + m\\right) \\left(g + \\ddot{z}_{d}\\right) \\left(M \\operatorname{cos}^{2}\\left(\\theta\\right) + m \\operatorname{cos}^{2}\\left(\\theta\\right) - m\\right)}{\\left(M l \\lambda_{1} \\operatorname{cos}\\left(\\theta\\right) + \\lambda_{3} \\left(M + m\\right) \\operatorname{sin}\\left(\\theta\\right)\\right)^{2}}, \\quad - \\frac{1.0 l \\lambda_{1} \\lambda_{2} \\left(M^{2} g \\operatorname{sin}^{2}\\left(\\theta\\right) - M^{2} g + M^{2} \\operatorname{sin}^{2}\\left(\\theta\\right) \\ddot{z}_{d} - M^{2} \\ddot{z}_{d} + 2 M g m \\operatorname{sin}^{2}\\left(\\theta\\right) - M g m + 2 M m \\operatorname{sin}^{2}\\left(\\theta\\right) \\ddot{z}_{d} - M m \\ddot{z}_{d} + g m^{2} \\operatorname{sin}^{2}\\left(\\theta\\right) + m^{2} \\operatorname{sin}^{2}\\left(\\theta\\right) \\ddot{z}_{d}\\right)}{1.0 M^{2} l^{2} \\lambda_{1}^{2} \\operatorname{cos}^{2}\\left(\\theta\\right) + 1.0 M^{2} l \\lambda_{1} \\lambda_{3} \\operatorname{sin}\\left(2 \\theta\\right) + 1.0 M^{2} \\lambda_{3}^{2} \\operatorname{sin}^{2}\\left(\\theta\\right) + 1.0 M l \\lambda_{1} \\lambda_{3} m \\operatorname{sin}\\left(2 \\theta\\right) + 2.0 M \\lambda_{3}^{2} m \\operatorname{sin}^{2}\\left(\\theta\\right) + 1.0 \\lambda_{3}^{2} m^{2} \\operatorname{sin}^{2}\\left(\\theta\\right)}\\right ]$$"
      ],
      "text/plain": [
       "⎡                                                      2                    ⎛ \n",
       "⎢   M⋅l⋅λ₂⋅cos(θ) + M⋅λ₄⋅sin(θ) + λ₄⋅m⋅sin(θ)  1.0⋅l⋅λ₁ ⋅(M + m)⋅(g + z_̈d)⋅⎝M\n",
       "⎢1, ─────────────────────────────────────────, ───────────────────────────────\n",
       "⎢   M⋅l⋅λ₁⋅cos(θ) + M⋅λ₃⋅sin(θ) + λ₃⋅m⋅sin(θ)                                 \n",
       "⎣                                                        (M⋅l⋅λ₁⋅cos(θ) + λ₃⋅(\n",
       "\n",
       "    2           2       ⎞               ⎛ 2      2       2      2    2        \n",
       "⋅cos (θ) + m⋅cos (θ) - m⎠  -1.0⋅l⋅λ₁⋅λ₂⋅⎝M ⋅g⋅sin (θ) - M ⋅g + M ⋅sin (θ)⋅z_̈d\n",
       "─────────────────────────, ───────────────────────────────────────────────────\n",
       "              2                         2  2   2    2           2             \n",
       "M + m)⋅sin(θ))                     1.0⋅M ⋅l ⋅λ₁ ⋅cos (θ) + 1.0⋅M ⋅l⋅λ₁⋅λ₃⋅sin(\n",
       "\n",
       "    2                   2                       2                         2   \n",
       " - M ⋅z_̈d + 2⋅M⋅g⋅m⋅sin (θ) - M⋅g⋅m + 2⋅M⋅m⋅sin (θ)⋅z_̈d - M⋅m⋅z_̈d + g⋅m ⋅si\n",
       "──────────────────────────────────────────────────────────────────────────────\n",
       "            2   2    2                                         2      2       \n",
       "2⋅θ) + 1.0⋅M ⋅λ₃ ⋅sin (θ) + 1.0⋅M⋅l⋅λ₁⋅λ₃⋅m⋅sin(2⋅θ) + 2.0⋅M⋅λ₃ ⋅m⋅sin (θ) + 1\n",
       "\n",
       " 2       2    2        ⎞ ⎤\n",
       "n (θ) + m ⋅sin (θ)⋅z_̈d⎠ ⎥\n",
       "─────────────────────────⎥\n",
       "     2  2    2           ⎥\n",
       ".0⋅λ₃ ⋅m ⋅sin (θ)        ⎦"
      ]
     },
     "execution_count": 85,
     "metadata": {},
     "output_type": "execute_result"
    }
   ],
   "source": [
    "gamma = symbols('\\tgamma')\n",
    "poly = lin2.charpoly(gamma)\n",
    "coefs = poly.coeffs()\n",
    "coefs"
   ]
  },
  {
   "cell_type": "code",
   "execution_count": 80,
   "metadata": {},
   "outputs": [
    {
     "data": {
      "image/png": "[encoded data removed]",
      "text/latex": [
       "$$\\operatorname{PurePoly}{\\left( A_{21} c - A_{23} a + \\gamma^{3} + \\gamma^{2} \\left(- A_{22} - c\\right) + \\gamma \\left(- A_{21} + A_{22} c - A_{23} b\\right), \\gamma, domain=\\mathbb{Z}\\left[a, b, c, A_{21}, A_{22}, A_{23}\\right] \\right)}$$"
      ],
      "text/plain": [
       "PurePoly(gamma**3 + (-A_22 - c)*gamma**2 + (-A_21 + A_22*c - A_23*b)*gamma + A\n",
       "_21*c - A_23*a, gamma, domain='ZZ[a,b,c,A_21,A_22,A_23]')"
      ]
     },
     "execution_count": 80,
     "metadata": {},
     "output_type": "execute_result"
    }
   ],
   "source": [
    "A21, A22, A23, a, b, c = symbols('A_21 A_22 A_23 a b c')\n",
    "MM = Matrix([[0,1,10],[A21,A22,A23],[a,b,c]])\n",
    "MM.charpoly(gamma)"
   ]
  },
  {
   "cell_type": "code",
   "execution_count": 81,
   "metadata": {},
   "outputs": [],
   "source": [
    "A21 = lin2[1,0]\n",
    "A22 = lin2[1,1]\n",
    "A23 = lin2[1,2]\n",
    "a = lin2[2,0]\n",
    "b = lin2[2,1]\n",
    "c = lin2[2,2]\n",
    "\n",
    "c2 = -(A22 + c)\n",
    "c1 = c*A22-A21-b*A23\n",
    "c0 = c*A21 - a*A23\n"
   ]
  },
  {
   "cell_type": "code",
   "execution_count": 82,
   "metadata": {},
   "outputs": [
    {
     "data": {
      "image/png": "[encoded data removed]",
      "text/latex": [
       "$$\\frac{M l \\lambda_{2} \\operatorname{cos}\\left(\\theta\\right) + M \\lambda_{4} \\operatorname{sin}\\left(\\theta\\right) + \\lambda_{4} m \\operatorname{sin}\\left(\\theta\\right)}{M l \\lambda_{1} \\operatorname{cos}\\left(\\theta\\right) + M \\lambda_{3} \\operatorname{sin}\\left(\\theta\\right) + \\lambda_{3} m \\operatorname{sin}\\left(\\theta\\right)}$$"
      ],
      "text/plain": [
       "M⋅l⋅λ₂⋅cos(θ) + M⋅λ₄⋅sin(θ) + λ₄⋅m⋅sin(θ)\n",
       "─────────────────────────────────────────\n",
       "M⋅l⋅λ₁⋅cos(θ) + M⋅λ₃⋅sin(θ) + λ₃⋅m⋅sin(θ)"
      ]
     },
     "execution_count": 82,
     "metadata": {},
     "output_type": "execute_result"
    }
   ],
   "source": [
    "c2 = simplify(c2)\n",
    "c2"
   ]
  },
  {
   "cell_type": "code",
   "execution_count": 83,
   "metadata": {},
   "outputs": [
    {
     "data": {
      "image/png": "[encoded data removed]",
      "text/latex": [
       "$$\\frac{l \\lambda_{1}^{2} \\left(M + m\\right) \\left(g + \\ddot{z}_{d}\\right) \\left(M \\operatorname{cos}^{2}\\left(\\theta\\right) + m \\operatorname{cos}^{2}\\left(\\theta\\right) - m\\right)}{\\left(M l \\lambda_{1} \\operatorname{cos}\\left(\\theta\\right) + \\lambda_{3} \\left(M + m\\right) \\operatorname{sin}\\left(\\theta\\right)\\right)^{2}}$$"
      ],
      "text/plain": [
       "    2                    ⎛     2           2       ⎞\n",
       "l⋅λ₁ ⋅(M + m)⋅(g + z_̈d)⋅⎝M⋅cos (θ) + m⋅cos (θ) - m⎠\n",
       "────────────────────────────────────────────────────\n",
       "                                           2        \n",
       "        (M⋅l⋅λ₁⋅cos(θ) + λ₃⋅(M + m)⋅sin(θ))         "
      ]
     },
     "execution_count": 83,
     "metadata": {},
     "output_type": "execute_result"
    }
   ],
   "source": [
    "c1 = simplify(c1)\n",
    "c1"
   ]
  },
  {
   "cell_type": "code",
   "execution_count": 84,
   "metadata": {},
   "outputs": [
    {
     "data": {
      "image/png": "[encoded data removed]",
      "text/latex": [
       "$$\\frac{l \\lambda_{1} \\lambda_{2} \\left(M + m\\right) \\left(g + \\ddot{z}_{d}\\right) \\left(M \\operatorname{cos}^{2}\\left(\\theta\\right) + m \\operatorname{cos}^{2}\\left(\\theta\\right) - m\\right)}{\\left(M l \\lambda_{1} \\operatorname{cos}\\left(\\theta\\right) + \\lambda_{3} \\left(M + m\\right) \\operatorname{sin}\\left(\\theta\\right)\\right)^{2}}$$"
      ],
      "text/plain": [
       "                           ⎛     2           2       ⎞\n",
       "l⋅λ₁⋅λ₂⋅(M + m)⋅(g + z_̈d)⋅⎝M⋅cos (θ) + m⋅cos (θ) - m⎠\n",
       "──────────────────────────────────────────────────────\n",
       "                                            2         \n",
       "         (M⋅l⋅λ₁⋅cos(θ) + λ₃⋅(M + m)⋅sin(θ))          "
      ]
     },
     "execution_count": 84,
     "metadata": {},
     "output_type": "execute_result"
    }
   ],
   "source": [
    "c0 = simplify(c0)\n",
    "c0"
   ]
  }
 ],
 "metadata": {
  "kernelspec": {
   "display_name": "Python 3",
   "language": "python",
   "name": "python3"
  },
  "language_info": {
   "codemirror_mode": {
    "name": "ipython",
    "version": 3
   },
   "file_extension": ".py",
   "mimetype": "text/x-python",
   "name": "python",
   "nbconvert_exporter": "python",
   "pygments_lexer": "ipython3",
   "version": "3.6.7"
  }
 },
 "nbformat": 4,
 "nbformat_minor": 2
}
