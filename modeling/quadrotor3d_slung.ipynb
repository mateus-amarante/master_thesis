{
 "cells": [
  {
   "cell_type": "markdown",
   "metadata": {},
   "source": [
    "# Dynamic Model of Quadrotor with Suspended Load (3D)\n",
    "\n",
    "OBS:\n",
    "\n",
    "* This document does not cover the rotational dynamics, since it's the same of the quadrotor\n",
    "\n",
    "* There is a summary at the end\n",
    "\n",
    "## Common Setup"
   ]
  },
  {
   "cell_type": "code",
   "execution_count": 12,
   "metadata": {},
   "outputs": [],
   "source": [
    "from sympy import *\n",
    "from sympy.physics.mechanics import dynamicsymbols, init_vprinting, vprint, vpprint, vlatex\n",
    "from IPython.display import display\n",
    "\n",
    "init_vprinting()\n",
    "\n",
    "# Time and input variables\n",
    "t, u = symbols('t u')\n",
    "\n",
    "# Physical parameters\n",
    "m, M, l, g = symbols('m M l g')\n",
    "\n",
    "# Euler angles\n",
    "phi, theta, psi = dynamicsymbols('\\phi \\ttheta \\psi')\n",
    "\n",
    "# Cable angles\n",
    "phiL, thetaL = dynamicsymbols('\\phi_L \\ttheta_L')\n",
    "\n",
    "# Angular Velocities\n",
    "phidot = diff(phi, t)\n",
    "thetadot = diff(theta, t)\n",
    "psidot = diff(psi, t)\n",
    "\n",
    "phiLdot = diff(phiL, t)\n",
    "thetaLdot = diff(thetaL, t)\n",
    "\n",
    "# Angular Accelerations\n",
    "phiddot = diff(phidot, t)\n",
    "thetaddot = diff(thetadot, t)\n",
    "psiddot = diff(psidot, t)\n",
    "\n",
    "phiLddot = diff(phiLdot, t)\n",
    "thetaLddot = diff(thetaLdot, t)\n",
    "\n",
    "# Auxiliary variables\n",
    "ux, uy, uz = symbols('u_x u_y u_z');\n",
    "# ux = cos(phi)*sin(theta)*cos(psi) + sin(phi)*sin(psi)\n",
    "# uy = cos(phi)*sin(theta)*sin(psi) - sin(phi)*cos(psi)\n",
    "# uz = cos(phi)*cos(theta)\n"
   ]
  },
  {
   "cell_type": "markdown",
   "metadata": {},
   "source": [
    "## Coordinates $(x,y,z,\\phi_L,\\theta_L)$"
   ]
  },
  {
   "cell_type": "code",
   "execution_count": 13,
   "metadata": {},
   "outputs": [
    {
     "name": "stdout",
     "output_type": "stream",
     "text": [
      "LOAD VELOCITIES:\n"
     ]
    },
    {
     "data": {
      "image/png": "[encoded data removed]",
      "text/latex": [
       "$$- l \\operatorname{cos}\\left(\\theta_{L}\\right) \\dot{\\theta}_{L} + \\dot{x}$$"
      ],
      "text/plain": [
       "-l⋅cos(θ_L)⋅θ_̇L + ẋ"
      ]
     },
     "metadata": {},
     "output_type": "display_data"
    },
    {
     "data": {
      "image/png": "[encoded data removed]",
      "text/latex": [
       "$$- l \\operatorname{sin}\\left(\\phi_{L}\\right) \\operatorname{sin}\\left(\\theta_{L}\\right) \\dot{\\theta}_{L} + l \\operatorname{cos}\\left(\\phi_{L}\\right) \\operatorname{cos}\\left(\\theta_{L}\\right) \\dot{\\phi}_{L} + \\dot{y}$$"
      ],
      "text/plain": [
       "-l⋅sin(\\phi_L)⋅sin(θ_L)⋅θ_̇L + l⋅cos(\\phi_L)⋅cos(θ_L)⋅\\phi̇_L + ẏ"
      ]
     },
     "metadata": {},
     "output_type": "display_data"
    },
    {
     "data": {
      "image/png": "[encoded data removed]",
      "text/latex": [
       "$$l \\operatorname{sin}\\left(\\phi_{L}\\right) \\operatorname{cos}\\left(\\theta_{L}\\right) \\dot{\\phi}_{L} + l \\operatorname{sin}\\left(\\theta_{L}\\right) \\operatorname{cos}\\left(\\phi_{L}\\right) \\dot{\\theta}_{L} + \\dot{z}$$"
      ],
      "text/plain": [
       "l⋅sin(\\phi_L)⋅cos(θ_L)⋅\\phi̇_L + l⋅sin(θ_L)⋅cos(\\phi_L)⋅θ_̇L + ż"
      ]
     },
     "metadata": {},
     "output_type": "display_data"
    },
    {
     "name": "stdout",
     "output_type": "stream",
     "text": [
      "LOAD ACCELERATIONS:\n"
     ]
    },
    {
     "data": {
      "image/png": "[encoded data removed]",
      "text/latex": [
       "$$l \\operatorname{sin}\\left(\\theta_{L}\\right) \\dot{\\theta}_{L}^{2} - l \\operatorname{cos}\\left(\\theta_{L}\\right) \\ddot{\\theta}_{L} + \\ddot{x}$$"
      ],
      "text/plain": [
       "               2                       \n",
       "l⋅sin(θ_L)⋅θ_̇L  - l⋅cos(θ_L)⋅θ_̈L + ẍ"
      ]
     },
     "metadata": {},
     "output_type": "display_data"
    },
    {
     "data": {
      "image/png": "[encoded data removed]",
      "text/latex": [
       "$$- l \\operatorname{sin}\\left(\\phi_{L}\\right) \\operatorname{sin}\\left(\\theta_{L}\\right) \\ddot{\\theta}_{L} - l \\operatorname{sin}\\left(\\phi_{L}\\right) \\operatorname{cos}\\left(\\theta_{L}\\right) \\dot{\\phi}_{L}^{2} - l \\operatorname{sin}\\left(\\phi_{L}\\right) \\operatorname{cos}\\left(\\theta_{L}\\right) \\dot{\\theta}_{L}^{2} - 2 l \\operatorname{sin}\\left(\\theta_{L}\\right) \\operatorname{cos}\\left(\\phi_{L}\\right) \\dot{\\phi}_{L} \\dot{\\theta}_{L} + l \\operatorname{cos}\\left(\\phi_{L}\\right) \\operatorname{cos}\\left(\\theta_{L}\\right) \\ddot{\\phi}_{L} + \\ddot{y}$$"
      ],
      "text/plain": [
       "                                                             2                \n",
       "-l⋅sin(\\phi_L)⋅sin(θ_L)⋅θ_̈L - l⋅sin(\\phi_L)⋅cos(θ_L)⋅\\phi̇_L  - l⋅sin(\\phi_L)\n",
       "\n",
       "              2                                                               \n",
       "⋅cos(θ_L)⋅θ_̇L  - 2⋅l⋅sin(θ_L)⋅cos(\\phi_L)⋅\\phi̇_L⋅θ_̇L + l⋅cos(\\phi_L)⋅cos(θ_\n",
       "\n",
       "               \n",
       "L)⋅\\phï_L + ÿ"
      ]
     },
     "metadata": {},
     "output_type": "display_data"
    },
    {
     "data": {
      "image/png": "[encoded data removed]",
      "text/latex": [
       "$$- 2 l \\operatorname{sin}\\left(\\phi_{L}\\right) \\operatorname{sin}\\left(\\theta_{L}\\right) \\dot{\\phi}_{L} \\dot{\\theta}_{L} + l \\operatorname{sin}\\left(\\phi_{L}\\right) \\operatorname{cos}\\left(\\theta_{L}\\right) \\ddot{\\phi}_{L} + l \\operatorname{sin}\\left(\\theta_{L}\\right) \\operatorname{cos}\\left(\\phi_{L}\\right) \\ddot{\\theta}_{L} + l \\operatorname{cos}\\left(\\phi_{L}\\right) \\operatorname{cos}\\left(\\theta_{L}\\right) \\dot{\\phi}_{L}^{2} + l \\operatorname{cos}\\left(\\phi_{L}\\right) \\operatorname{cos}\\left(\\theta_{L}\\right) \\dot{\\theta}_{L}^{2} + \\ddot{z}$$"
      ],
      "text/plain": [
       "                                                                              \n",
       "-2⋅l⋅sin(\\phi_L)⋅sin(θ_L)⋅\\phi̇_L⋅θ_̇L + l⋅sin(\\phi_L)⋅cos(θ_L)⋅\\phï_L + l⋅si\n",
       "\n",
       "                                                        2                     \n",
       "n(θ_L)⋅cos(\\phi_L)⋅θ_̈L + l⋅cos(\\phi_L)⋅cos(θ_L)⋅\\phi̇_L  + l⋅cos(\\phi_L)⋅cos(\n",
       "\n",
       "         2     \n",
       "θ_L)⋅θ_̇L  + z̈"
      ]
     },
     "metadata": {},
     "output_type": "display_data"
    }
   ],
   "source": [
    "# Quadrotor position\n",
    "x, y, z = dynamicsymbols('x y z')\n",
    "\n",
    "# Quadrotor velocity\n",
    "xdot = diff(x, t)\n",
    "ydot = diff(y, t)\n",
    "zdot = diff(z, t)\n",
    "\n",
    "# Quadrotor acceleration\n",
    "xddot = diff(xdot, t)\n",
    "yddot = diff(ydot, t)\n",
    "zddot = diff(zdot, t)\n",
    "\n",
    "# Load position\n",
    "xL = x - l*sin(thetaL)\n",
    "yL = y + l*sin(phiL)*cos(thetaL)\n",
    "zL = z - l*cos(phiL)*cos(thetaL)\n",
    "\n",
    "# Load Velocity\n",
    "xLdot = diff(xL, t)\n",
    "yLdot = diff(yL, t)\n",
    "zLdot = diff(zL, t)\n",
    "\n",
    "# Load Accleration\n",
    "xLddot = diff(xLdot, t)\n",
    "yLddot = diff(yLdot, t)\n",
    "zLddot = diff(zLdot, t)\n",
    "\n",
    "print('LOAD VELOCITIES:')\n",
    "display(simplify(xLdot),simplify(yLdot),simplify(zLdot))\n",
    "\n",
    "print('LOAD ACCELERATIONS:')\n",
    "display(simplify(xLddot),simplify(yLddot),simplify(zLddot))\n"
   ]
  },
  {
   "cell_type": "code",
   "execution_count": 14,
   "metadata": {},
   "outputs": [
    {
     "data": {
      "image/png": "[encoded data removed]",
      "text/latex": [
       "$$- M g z + \\frac{M}{2} \\left(\\dot{x}^{2} + \\dot{y}^{2} + \\dot{z}^{2}\\right) + g m \\left(l \\operatorname{cos}\\left(\\phi_{L}\\right) \\operatorname{cos}\\left(\\theta_{L}\\right) - z\\right) + \\frac{m}{2} \\left(\\left(l \\operatorname{cos}\\left(\\theta_{L}\\right) \\dot{\\theta}_{L} - \\dot{x}\\right)^{2} + \\left(- l \\operatorname{sin}\\left(\\phi_{L}\\right) \\operatorname{sin}\\left(\\theta_{L}\\right) \\dot{\\theta}_{L} + l \\operatorname{cos}\\left(\\phi_{L}\\right) \\operatorname{cos}\\left(\\theta_{L}\\right) \\dot{\\phi}_{L} + \\dot{y}\\right)^{2} + \\left(l \\operatorname{sin}\\left(\\phi_{L}\\right) \\operatorname{cos}\\left(\\theta_{L}\\right) \\dot{\\phi}_{L} + l \\operatorname{sin}\\left(\\theta_{L}\\right) \\operatorname{cos}\\left(\\phi_{L}\\right) \\dot{\\theta}_{L} + \\dot{z}\\right)^{2}\\right)$$"
      ],
      "text/plain": [
       "           ⎛  2     2     2⎞                                        ⎛         \n",
       "         M⋅⎝ẋ  + ẏ  + ż ⎠                                      m⋅⎝(l⋅cos(θ_\n",
       "-M⋅g⋅z + ─────────────────── + g⋅m⋅(l⋅cos(\\phi_L)⋅cos(θ_L) - z) + ────────────\n",
       "                  2                                                           \n",
       "\n",
       "             2                                                                \n",
       "L)⋅θ_̇L - ẋ)  + (-l⋅sin(\\phi_L)⋅sin(θ_L)⋅θ_̇L + l⋅cos(\\phi_L)⋅cos(θ_L)⋅\\phi̇_\n",
       "──────────────────────────────────────────────────────────────────────────────\n",
       "                                                                        2     \n",
       "\n",
       "       2                                                                      \n",
       "L + ẏ)  + (l⋅sin(\\phi_L)⋅cos(θ_L)⋅\\phi̇_L + l⋅sin(θ_L)⋅cos(\\phi_L)⋅θ_̇L + ż)\n",
       "──────────────────────────────────────────────────────────────────────────────\n",
       "                                                                              \n",
       "\n",
       "2⎞\n",
       " ⎠\n",
       "──\n",
       "  "
      ]
     },
     "execution_count": 14,
     "metadata": {},
     "output_type": "execute_result"
    }
   ],
   "source": [
    "T = M/2*(xdot**2 + ydot**2 + zdot**2) + m/2*(xLdot**2 + yLdot**2 + zLdot**2)\n",
    "V = M*g*z + m*g*zL\n",
    "L = T-V\n",
    "simplify(L)"
   ]
  },
  {
   "cell_type": "code",
   "execution_count": 15,
   "metadata": {},
   "outputs": [
    {
     "data": {
      "image/png": "[encoded data removed]",
      "text/latex": [
       "$$l m \\left(\\operatorname{sin}\\left(\\theta_{L}\\right) \\dot{\\theta}_{L}^{2} - \\operatorname{cos}\\left(\\theta_{L}\\right) \\ddot{\\theta}_{L}\\right) - u u_{x} + \\left(M + m\\right) \\ddot{x}$$"
      ],
      "text/plain": [
       "    ⎛             2                ⎞                    \n",
       "l⋅m⋅⎝sin(θ_L)⋅θ_̇L  - cos(θ_L)⋅θ_̈L⎠ - u⋅uₓ + (M + m)⋅ẍ"
      ]
     },
     "execution_count": 15,
     "metadata": {},
     "output_type": "execute_result"
    }
   ],
   "source": [
    "eqX = expand(diff(diff(L,xdot),t) - diff(L,x) - ux*u)\n",
    "eqX = collect(collect(eqX,xddot),m*l)\n",
    "eqX"
   ]
  },
  {
   "cell_type": "code",
   "execution_count": 16,
   "metadata": {},
   "outputs": [
    {
     "data": {
      "image/png": "[encoded data removed]",
      "text/latex": [
       "$$l m \\left(- \\operatorname{sin}\\left(\\phi_{L}\\right) \\operatorname{sin}\\left(\\theta_{L}\\right) \\ddot{\\theta}_{L} - \\operatorname{sin}\\left(\\phi_{L}\\right) \\operatorname{cos}\\left(\\theta_{L}\\right) \\dot{\\phi}_{L}^{2} - \\operatorname{sin}\\left(\\phi_{L}\\right) \\operatorname{cos}\\left(\\theta_{L}\\right) \\dot{\\theta}_{L}^{2} - 2 \\operatorname{sin}\\left(\\theta_{L}\\right) \\operatorname{cos}\\left(\\phi_{L}\\right) \\dot{\\phi}_{L} \\dot{\\theta}_{L} + \\operatorname{cos}\\left(\\phi_{L}\\right) \\operatorname{cos}\\left(\\theta_{L}\\right) \\ddot{\\phi}_{L}\\right) - u u_{y} + \\left(M + m\\right) \\ddot{y}$$"
      ],
      "text/plain": [
       "    ⎛                                                         2               \n",
       "l⋅m⋅⎝-sin(\\phi_L)⋅sin(θ_L)⋅θ_̈L - sin(\\phi_L)⋅cos(θ_L)⋅\\phi̇_L  - sin(\\phi_L)⋅\n",
       "\n",
       "             2                                                                \n",
       "cos(θ_L)⋅θ_̇L  - 2⋅sin(θ_L)⋅cos(\\phi_L)⋅\\phi̇_L⋅θ_̇L + cos(\\phi_L)⋅cos(θ_L)⋅\\p\n",
       "\n",
       "     ⎞                     \n",
       "hï_L⎠ - u⋅u_y + (M + m)⋅ÿ"
      ]
     },
     "execution_count": 16,
     "metadata": {},
     "output_type": "execute_result"
    }
   ],
   "source": [
    "eqY = expand(diff(diff(L,ydot),t) - diff(L,y)-uy*u)\n",
    "eqY = collect(collect(eqY,yddot),m*l)\n",
    "eqY"
   ]
  },
  {
   "cell_type": "code",
   "execution_count": 17,
   "metadata": {},
   "outputs": [
    {
     "data": {
      "image/png": "[encoded data removed]",
      "text/latex": [
       "$$g \\left(M + m\\right) + l m \\left(- 2 \\operatorname{sin}\\left(\\phi_{L}\\right) \\operatorname{sin}\\left(\\theta_{L}\\right) \\dot{\\phi}_{L} \\dot{\\theta}_{L} + \\operatorname{sin}\\left(\\phi_{L}\\right) \\operatorname{cos}\\left(\\theta_{L}\\right) \\ddot{\\phi}_{L} + \\operatorname{sin}\\left(\\theta_{L}\\right) \\operatorname{cos}\\left(\\phi_{L}\\right) \\ddot{\\theta}_{L} + \\operatorname{cos}\\left(\\phi_{L}\\right) \\operatorname{cos}\\left(\\theta_{L}\\right) \\dot{\\phi}_{L}^{2} + \\operatorname{cos}\\left(\\phi_{L}\\right) \\operatorname{cos}\\left(\\theta_{L}\\right) \\dot{\\theta}_{L}^{2}\\right) - u u_{z} + \\left(M + m\\right) \\ddot{z}$$"
      ],
      "text/plain": [
       "                ⎛                                                             \n",
       "g⋅(M + m) + l⋅m⋅⎝-2⋅sin(\\phi_L)⋅sin(θ_L)⋅\\phi̇_L⋅θ_̇L + sin(\\phi_L)⋅cos(θ_L)⋅\\\n",
       "\n",
       "                                                                 2            \n",
       "phï_L + sin(θ_L)⋅cos(\\phi_L)⋅θ_̈L + cos(\\phi_L)⋅cos(θ_L)⋅\\phi̇_L  + cos(\\phi_\n",
       "\n",
       "                2⎞                     \n",
       "L)⋅cos(θ_L)⋅θ_̇L ⎠ - u⋅u_z + (M + m)⋅z̈"
      ]
     },
     "execution_count": 17,
     "metadata": {},
     "output_type": "execute_result"
    }
   ],
   "source": [
    "eqZ = expand(diff(diff(L,zdot),t) - diff(L,z)-uz*u)\n",
    "eqZ = collect(collect(collect(eqZ,zddot),g),m*l)\n",
    "eqZ"
   ]
  },
  {
   "cell_type": "code",
   "execution_count": 18,
   "metadata": {},
   "outputs": [
    {
     "data": {
      "image/png": "[encoded data removed]",
      "text/latex": [
       "$$l m \\left(g \\operatorname{sin}\\left(\\phi_{L}\\right) - 2 l \\operatorname{sin}\\left(\\theta_{L}\\right) \\dot{\\phi}_{L} \\dot{\\theta}_{L} + l \\operatorname{cos}\\left(\\theta_{L}\\right) \\ddot{\\phi}_{L} + \\operatorname{sin}\\left(\\phi_{L}\\right) \\ddot{z} + \\operatorname{cos}\\left(\\phi_{L}\\right) \\ddot{y}\\right) \\operatorname{cos}\\left(\\theta_{L}\\right)$$"
      ],
      "text/plain": [
       "l⋅m⋅(g⋅sin(\\phi_L) - 2⋅l⋅sin(θ_L)⋅\\phi̇_L⋅θ_̇L + l⋅cos(θ_L)⋅\\phï_L + sin(\\phi\n",
       "_L)⋅z̈ + cos(\\phi_L)⋅ÿ)⋅cos(θ_L)"
      ]
     },
     "execution_count": 18,
     "metadata": {},
     "output_type": "execute_result"
    }
   ],
   "source": [
    "eqPhiL = simplify(diff(diff(L,phiLdot),t) - diff(L,phiL))\n",
    "eqPhiL"
   ]
  },
  {
   "cell_type": "code",
   "execution_count": 19,
   "metadata": {},
   "outputs": [
    {
     "data": {
      "image/png": "[encoded data removed]",
      "text/latex": [
       "$$l m \\left(g \\operatorname{sin}\\left(\\theta_{L}\\right) \\operatorname{cos}\\left(\\phi_{L}\\right) + l \\operatorname{sin}\\left(\\theta_{L}\\right) \\operatorname{cos}\\left(\\theta_{L}\\right) \\dot{\\phi}_{L}^{2} + l \\ddot{\\theta}_{L} - \\operatorname{sin}\\left(\\phi_{L}\\right) \\operatorname{sin}\\left(\\theta_{L}\\right) \\ddot{y} + \\operatorname{sin}\\left(\\theta_{L}\\right) \\operatorname{cos}\\left(\\phi_{L}\\right) \\ddot{z} - \\operatorname{cos}\\left(\\theta_{L}\\right) \\ddot{x}\\right)$$"
      ],
      "text/plain": [
       "    ⎛                                                    2                    \n",
       "l⋅m⋅⎝g⋅sin(θ_L)⋅cos(\\phi_L) + l⋅sin(θ_L)⋅cos(θ_L)⋅\\phi̇_L  + l⋅θ_̈L - sin(\\phi\n",
       "\n",
       "                                                       ⎞\n",
       "_L)⋅sin(θ_L)⋅ÿ + sin(θ_L)⋅cos(\\phi_L)⋅z̈ - cos(θ_L)⋅ẍ⎠"
      ]
     },
     "execution_count": 19,
     "metadata": {},
     "output_type": "execute_result"
    }
   ],
   "source": [
    "eqThetaL = simplify(diff(diff(L,thetaLdot),t) - diff(L,thetaL))\n",
    "eqThetaL = collect(eqThetaL,zddot)\n",
    "eqThetaL = collect(eqThetaL,yddot)\n",
    "eqThetaL = collect(eqThetaL,g)\n",
    "eqThetaL = expand_trig(eqThetaL)\n",
    "eqThetaL"
   ]
  },
  {
   "cell_type": "markdown",
   "metadata": {},
   "source": [
    "### Dynamic Model $(x,y,z,\\phi_L,\\theta_L)$\n",
    "\n",
    "$$\n",
    "\\begin{align}\n",
    "(M+m)\\,\\ddot{x} + ml\\left(-\\cos{\\theta_L}\\,\\ddot{\\theta_L} + \\sin{\\theta_L}\\,\\dot{\\theta_L}^2 \\right) &= u_x\\,u_1 \\\\\n",
    "(M+m)\\,\\ddot{y} + ml\\left[\\cos{\\theta_L}\\left(\\cos{\\phi_L}\\,\\ddot{\\phi_L} - \\sin{\\phi_L}\\,\\dot{\\phi_L}^2\\right) -\\sin{\\phi_L}\\left( \\sin{\\theta_L}\\,\\ddot{\\theta_L} + \\cos{\\theta_L}\\,\\dot{\\theta_L}^2 \\right) -2\\cos{\\phi_L}\\sin{\\theta_L}\\dot{\\phi_L}\\dot{\\theta_L} \\right]  &= u_y\\,u_1 \\\\\n",
    "(M+m)\\,\\ddot{z} + (M+m)g + ml\\left[\\cos{\\theta_L}\\left(\\sin{\\phi_L}\\,\\ddot{\\phi_L} + \\cos{\\phi_L}\\,\\dot{\\phi_L}^2\\right) +\\cos{\\phi_L}\\left( \\sin{\\theta_L}\\,\\ddot{\\theta_L} + \\cos{\\theta_L}\\,\\dot{\\theta_L}^2 \\right) -2\\sin{\\phi_L}\\sin{\\theta_L}\\dot{\\phi_L}\\dot{\\theta_L} \\right] &= u_z\\,u_1 \\\\\n",
    "ml\\cos{\\theta_L} \\left( \\cos{\\phi_L}\\,\\ddot{y} + \\sin{\\phi_L}\\,\\ddot{z} +l\\cos{\\theta_L}\\ddot{\\phi_L} -2l\\sin{\\theta_L}\\dot{\\phi_L}\\dot{\\theta_L} + g\\sin{\\phi_L} \\right) &= 0 \\\\\n",
    "ml\\left( -\\cos{\\theta_L}\\,\\ddot{x} - \\sin{\\phi_L}\\sin{\\theta_L}\\,\\ddot{y} + \\cos{\\phi_L}\\sin{\\theta_L}\\,\\ddot{z} +l\\ddot{\\theta_L} + l\\sin{\\theta_L}\\cos{\\theta_L}\\dot{\\phi_L}^2 + g\\cos{\\phi_L}\\sin{\\theta_L} \\right) &= 0\n",
    "\\end{align}\n",
    "$$ "
   ]
  },
  {
   "cell_type": "markdown",
   "metadata": {},
   "source": [
    "#### Matrix Form\n",
    "\n",
    "$$\n",
    "M(q) = \n",
    "\\begin{bmatrix}\n",
    "    (M+m)             & 0                             & 0                             & 0                             & -ml\\cos{\\theta_L} \\\\\n",
    "    0                 & (M+m)                         & 0                             & ml\\cos{\\phi_L}\\cos{\\theta_L}  & -ml\\sin{\\phi_L}\\sin{\\theta_L} \\\\\n",
    "    0                 & 0                             & (M+m)                         & ml\\sin{\\phi_L}\\cos{\\theta_L}  & ml\\cos{\\phi_L}\\sin{\\theta_L} \\\\\n",
    "    0                 & ml\\cos{\\phi_L}\\cos{\\theta_L}  & ml\\sin{\\phi_L}\\cos{\\theta_L}  & ml^2\\cos^2{\\theta_L}          & 0 \\\\\n",
    "    -ml\\cos{\\theta_L}  & -ml\\sin{\\phi_L}\\sin{\\theta_L} & ml\\cos{\\phi_L}\\sin{\\theta_L}  &                               & ml^2\n",
    "\\end{bmatrix}\\\\[50pt]\n",
    "$$\n",
    "\n",
    "$$\n",
    "C(q,\\dot{q}) = \n",
    "\\begin{bmatrix}\n",
    "    0 & 0 & 0 & 0                                                &  ml\\sin{\\theta_L}\\dot{\\theta_L}\\\\\n",
    "    0 & 0 & 0 & -ml\\left(\\sin{\\phi_L}\\cos{\\theta_L}\\dot{\\phi_L} + \\cos{\\phi_L}\\sin{\\theta_L}\\dot{\\theta_L}\\right)        & -ml\\left(\\sin{\\phi_L}\\cos{\\theta_L}\\dot{\\theta_L} + \\cos{\\phi_L}\\sin{\\theta_L}\\dot{\\phi_L}\\right)   \\\\\n",
    "    0 & 0 & 0 &  ml\\left(\\cos{\\phi_L}\\cos{\\theta_L}\\dot{\\phi_L} - \\sin{\\phi_L}\\sin{\\theta_L}\\dot{\\theta_L}\\right)        &  ml\\left(\\cos{\\phi_L}\\cos{\\theta_L}\\dot{\\theta_L} - \\sin{\\phi_L}\\sin{\\theta_L}\\dot{\\phi_L}\\right)   \\\\\n",
    "    0 & 0 & 0 & -ml^2\\sin{\\theta_L}\\cos{\\theta_L}\\dot{\\theta_L}^*  & -ml^2\\sin{\\theta_L}\\cos{\\theta_L}\\dot{\\phi_L}^* \\\\\n",
    "    0 & 0 & 0 &  ml^2\\sin{\\theta_L}\\cos{\\theta_L}\\dot{\\phi_L}^*    & 0\n",
    "\\end{bmatrix} \\\\[40pt]\n",
    "\\text{*} \\sin{\\theta_L}\\cos{\\theta_L} = \\frac{1}{2}\\sin{2\\theta_L}\\\\[10pt]\n",
    "$$\n",
    "\n",
    "$$\n",
    "G(q) = \n",
    "\\begin{bmatrix}\n",
    "0 \\\\\n",
    "0 \\\\\n",
    "(M+m)g \\\\\n",
    "mgl\\sin{\\phi_L}\\cos{\\theta_L} \\\\\n",
    "mgl\\cos{\\phi_L}\\sin{\\theta_L}\n",
    "\\end{bmatrix}\\\\[40pt]\n",
    "$$\n",
    "\n",
    "$$\n",
    "B(q) = \n",
    "\\begin{bmatrix}\n",
    "u_x \\\\\n",
    "u_y \\\\\n",
    "u_z \\\\\n",
    "0 \\\\\n",
    "0\n",
    "\\end{bmatrix}\n",
    "=\n",
    "\\begin{bmatrix}\n",
    "cos(\\phi)sin(\\theta)cos(\\psi) + sin(\\phi)sin(\\psi) \\\\\n",
    "cos(\\phi)sin(\\theta)sin(\\psi) - sin(\\phi)cos(\\psi) \\\\\n",
    "cos(\\phi)cos(\\theta) \\\\\n",
    "0 \\\\\n",
    "0\n",
    "\\end{bmatrix}\\\\[40pt]\n",
    "$$\n",
    "\n",
    "$$\n",
    "M(q)\\,\\ddot{q} + C(q,\\dot{q})\\,\\dot{q} + G(q) = B(q)\\,u\n",
    "$$"
   ]
  },
  {
   "cell_type": "code",
   "execution_count": 20,
   "metadata": {},
   "outputs": [],
   "source": [
    "res = solve([eqX,eqY,eqZ,eqPhiL,eqThetaL],[xddot,yddot,zddot,phiLddot,thetaLddot])"
   ]
  },
  {
   "cell_type": "code",
   "execution_count": 21,
   "metadata": {},
   "outputs": [
    {
     "data": {
      "image/png": "[encoded data removed]",
      "text/latex": [
       "$$\\left \\{ \\ddot{\\phi}_{L} : \\frac{1}{M l \\operatorname{cos}\\left(\\theta_{L}\\right)} \\left(2 M l \\operatorname{sin}\\left(\\theta_{L}\\right) \\dot{\\phi}_{L} \\dot{\\theta}_{L} - u u_{y} \\operatorname{cos}\\left(\\phi_{L}\\right) - u u_{z} \\operatorname{sin}\\left(\\phi_{L}\\right)\\right), \\quad \\ddot{\\theta}_{L} : \\frac{1}{M l} \\left(- \\frac{M l}{2} \\operatorname{sin}\\left(2 \\theta_{L}\\right) \\dot{\\phi}_{L}^{2} + u u_{x} \\operatorname{cos}\\left(\\theta_{L}\\right) + \\frac{u u_{y}}{2} \\operatorname{cos}\\left(\\phi_{L} - \\theta_{L}\\right) - \\frac{u u_{y}}{2} \\operatorname{cos}\\left(\\phi_{L} + \\theta_{L}\\right) + \\frac{u u_{z}}{2} \\operatorname{sin}\\left(\\phi_{L} - \\theta_{L}\\right) - \\frac{u u_{z}}{2} \\operatorname{sin}\\left(\\phi_{L} + \\theta_{L}\\right)\\right), \\quad \\ddot{x} : \\frac{1}{M \\left(M + m\\right)} \\left(- \\frac{M l}{4} m \\operatorname{sin}\\left(\\theta_{L}\\right) \\dot{\\phi}_{L}^{2} - M l m \\operatorname{sin}\\left(\\theta_{L}\\right) \\dot{\\theta}_{L}^{2} - \\frac{M l}{4} m \\operatorname{sin}\\left(3 \\theta_{L}\\right) \\dot{\\phi}_{L}^{2} + M u u_{x} + \\frac{m u}{2} u_{x} \\operatorname{cos}\\left(2 \\theta_{L}\\right) + \\frac{m u}{2} u_{x} + \\frac{m u}{4} u_{y} \\operatorname{cos}\\left(\\phi_{L} - 2 \\theta_{L}\\right) - \\frac{m u}{4} u_{y} \\operatorname{cos}\\left(\\phi_{L} + 2 \\theta_{L}\\right) + \\frac{m u}{4} u_{z} \\operatorname{sin}\\left(\\phi_{L} - 2 \\theta_{L}\\right) - \\frac{m u}{4} u_{z} \\operatorname{sin}\\left(\\phi_{L} + 2 \\theta_{L}\\right)\\right), \\quad \\ddot{y} : \\frac{1}{M \\left(M + m\\right)} \\left(M l m \\operatorname{sin}\\left(\\phi_{L}\\right) \\operatorname{cos}^{3}\\left(\\theta_{L}\\right) \\dot{\\phi}_{L}^{2} + M l m \\operatorname{sin}\\left(\\phi_{L}\\right) \\operatorname{cos}\\left(\\theta_{L}\\right) \\dot{\\theta}_{L}^{2} + M u u_{y} + m u u_{x} \\operatorname{sin}\\left(\\phi_{L}\\right) \\operatorname{sin}\\left(\\theta_{L}\\right) \\operatorname{cos}\\left(\\theta_{L}\\right) + m u u_{y} \\operatorname{cos}^{2}\\left(\\phi_{L}\\right) \\operatorname{cos}^{2}\\left(\\theta_{L}\\right) - m u u_{y} \\operatorname{cos}^{2}\\left(\\theta_{L}\\right) + m u u_{y} + m u u_{z} \\operatorname{sin}\\left(\\phi_{L}\\right) \\operatorname{cos}\\left(\\phi_{L}\\right) \\operatorname{cos}^{2}\\left(\\theta_{L}\\right)\\right), \\quad \\ddot{z} : \\frac{1}{M \\left(M + m\\right)} \\left(- M^{2} g - M g m - M l m \\operatorname{cos}\\left(\\phi_{L}\\right) \\operatorname{cos}^{3}\\left(\\theta_{L}\\right) \\dot{\\phi}_{L}^{2} - M l m \\operatorname{cos}\\left(\\phi_{L}\\right) \\operatorname{cos}\\left(\\theta_{L}\\right) \\dot{\\theta}_{L}^{2} + M u u_{z} - m u u_{x} \\operatorname{sin}\\left(\\theta_{L}\\right) \\operatorname{cos}\\left(\\phi_{L}\\right) \\operatorname{cos}\\left(\\theta_{L}\\right) + m u u_{y} \\operatorname{sin}\\left(\\phi_{L}\\right) \\operatorname{cos}\\left(\\phi_{L}\\right) \\operatorname{cos}^{2}\\left(\\theta_{L}\\right) - m u u_{z} \\operatorname{cos}^{2}\\left(\\phi_{L}\\right) \\operatorname{cos}^{2}\\left(\\theta_{L}\\right) + m u u_{z}\\right)\\right \\}$$"
      ],
      "text/plain": [
       "⎧                                                                             \n",
       "⎪                                                                             \n",
       "⎪                                                                             \n",
       "⎨         2⋅M⋅l⋅sin(θ_L)⋅\\phi̇_L⋅θ_̇L - u⋅u_y⋅cos(\\phi_L) - u⋅u_z⋅sin(\\phi_L) \n",
       "⎪\\phï_L: ───────────────────────────────────────────────────────────────────,\n",
       "⎪                                     M⋅l⋅cos(θ_L)                            \n",
       "⎩                                                                             \n",
       "\n",
       "                               2                                              \n",
       "         M⋅l⋅sin(2⋅θ_L)⋅\\phi̇_L                    u⋅u_y⋅cos(\\phi_L - θ_L)   u\n",
       "       - ─────────────────────── + u⋅uₓ⋅cos(θ_L) + ─────────────────────── - ─\n",
       "                    2                                         2               \n",
       " θ_̈L: ───────────────────────────────────────────────────────────────────────\n",
       "                                                                              \n",
       "                                                                              \n",
       "\n",
       "                                                                              \n",
       "⋅u_y⋅cos(\\phi_L + θ_L)   u⋅u_z⋅sin(\\phi_L - θ_L)   u⋅u_z⋅sin(\\phi_L + θ_L)    \n",
       "────────────────────── + ─────────────────────── - ───────────────────────    \n",
       "          2                         2                         2               \n",
       "──────────────────────────────────────────────────────────────────────────, ẍ\n",
       "M⋅l                                                                           \n",
       "                                                                              \n",
       "\n",
       "                          2                                                  2\n",
       "    M⋅l⋅m⋅sin(θ_L)⋅\\phi̇_L                       2   M⋅l⋅m⋅sin(3⋅θ_L)⋅\\phi̇_L \n",
       "  - ─────────────────────── - M⋅l⋅m⋅sin(θ_L)⋅θ_̇L  - ─────────────────────────\n",
       "               4                                                 4            \n",
       ": ────────────────────────────────────────────────────────────────────────────\n",
       "                                                                              \n",
       "                                                                              \n",
       "\n",
       "                                                                              \n",
       "            m⋅u⋅uₓ⋅cos(2⋅θ_L)   m⋅u⋅uₓ   m⋅u⋅u_y⋅cos(\\phi_L - 2⋅θ_L)   m⋅u⋅u_y\n",
       " + M⋅u⋅uₓ + ───────────────── + ────── + ─────────────────────────── - ───────\n",
       "                    2             2                   4                       \n",
       "──────────────────────────────────────────────────────────────────────────────\n",
       "                                    M⋅(M + m)                                 \n",
       "                                                                              \n",
       "\n",
       "                                                                              \n",
       "⋅cos(\\phi_L + 2⋅θ_L)   m⋅u⋅u_z⋅sin(\\phi_L - 2⋅θ_L)   m⋅u⋅u_z⋅sin(\\phi_L + 2⋅θ_\n",
       "──────────────────── + ─────────────────────────── - ─────────────────────────\n",
       "      4                             4                             4           \n",
       "──────────────────────────────────────────────────────────────────────────────\n",
       "                                                                              \n",
       "                                                                              \n",
       "\n",
       "                                                                              \n",
       "L)                                                                            \n",
       "──                           3             2                                  \n",
       "        M⋅l⋅m⋅sin(\\phi_L)⋅cos (θ_L)⋅\\phi̇_L  + M⋅l⋅m⋅sin(\\phi_L)⋅cos(θ_L)⋅θ_̇L\n",
       "──, ÿ: ──────────────────────────────────────────────────────────────────────\n",
       "                                                                              \n",
       "                                                                              \n",
       "\n",
       "                                                                              \n",
       "                                                                              \n",
       "2                                                               2            2\n",
       "  + M⋅u⋅u_y + m⋅u⋅uₓ⋅sin(\\phi_L)⋅sin(θ_L)⋅cos(θ_L) + m⋅u⋅u_y⋅cos (\\phi_L)⋅cos \n",
       "──────────────────────────────────────────────────────────────────────────────\n",
       "                                       M⋅(M + m)                              \n",
       "                                                                              \n",
       "\n",
       "                                                                              \n",
       "                                                                              \n",
       "                   2                                                     2    \n",
       "(θ_L) - m⋅u⋅u_y⋅cos (θ_L) + m⋅u⋅u_y + m⋅u⋅u_z⋅sin(\\phi_L)⋅cos(\\phi_L)⋅cos (θ_L\n",
       "──────────────────────────────────────────────────────────────────────────────\n",
       "                                                                              \n",
       "                                                                              \n",
       "\n",
       "                                                                              \n",
       "                                                                              \n",
       "          2                                  3             2                  \n",
       ")      - M ⋅g - M⋅g⋅m - M⋅l⋅m⋅cos(\\phi_L)⋅cos (θ_L)⋅\\phi̇_L  - M⋅l⋅m⋅cos(\\phi_\n",
       "─, z̈: ───────────────────────────────────────────────────────────────────────\n",
       "                                                                              \n",
       "                                                                              \n",
       "\n",
       "                                                                              \n",
       "                                                                              \n",
       "                2                                                             \n",
       "L)⋅cos(θ_L)⋅θ_̇L  + M⋅u⋅u_z - m⋅u⋅uₓ⋅sin(θ_L)⋅cos(\\phi_L)⋅cos(θ_L) + m⋅u⋅u_y⋅s\n",
       "──────────────────────────────────────────────────────────────────────────────\n",
       "                                    M⋅(M + m)                                 \n",
       "                                                                              \n",
       "\n",
       "                                                                           ⎫\n",
       "                                                                           ⎪\n",
       "                          2                   2            2               ⎪\n",
       "in(\\phi_L)⋅cos(\\phi_L)⋅cos (θ_L) - m⋅u⋅u_z⋅cos (\\phi_L)⋅cos (θ_L) + m⋅u⋅u_z⎬\n",
       "───────────────────────────────────────────────────────────────────────────⎪\n",
       "                                                                           ⎪\n",
       "                                                                           ⎭"
      ]
     },
     "execution_count": 21,
     "metadata": {},
     "output_type": "execute_result"
    }
   ],
   "source": [
    "res"
   ]
  },
  {
   "cell_type": "code",
   "execution_count": 22,
   "metadata": {},
   "outputs": [
    {
     "data": {
      "image/png": "[encoded data removed]",
      "text/latex": [
       "$$\\frac{1}{M l \\operatorname{cos}\\left(\\theta_{L}\\right)} \\left(2 M l \\operatorname{sin}\\left(\\theta_{L}\\right) \\dot{\\phi}_{L} \\dot{\\theta}_{L} + u \\left(- u_{y} \\operatorname{cos}\\left(\\phi_{L}\\right) - u_{z} \\operatorname{sin}\\left(\\phi_{L}\\right)\\right)\\right)$$"
      ],
      "text/plain": [
       "2⋅M⋅l⋅sin(θ_L)⋅\\phi̇_L⋅θ_̇L + u⋅(-u_y⋅cos(\\phi_L) - u_z⋅sin(\\phi_L))\n",
       "────────────────────────────────────────────────────────────────────\n",
       "                            M⋅l⋅cos(θ_L)                            "
      ]
     },
     "execution_count": 22,
     "metadata": {},
     "output_type": "execute_result"
    }
   ],
   "source": [
    "phiLddot_expr = res[phiLddot]\n",
    "#phiLddot_expr = phiLddot_expr.subs([(uy,cos(phi)*sin(theta)*sin(psi)-sin(phi)*cos(psi)),(uz,cos(phi)*cos(theta))])\n",
    "phiLddot_expr = simplify(phiLddot_expr)\n",
    "phiLddot_expr = collect(phiLddot_expr,u)\n",
    "phiLddot_expr"
   ]
  },
  {
   "cell_type": "code",
   "execution_count": 26,
   "metadata": {},
   "outputs": [
    {
     "data": {
      "image/png": "[encoded data removed]",
      "text/latex": [
       "$$\\frac{1}{M l} \\left(- \\frac{M l}{2} \\operatorname{sin}\\left(2 \\theta_{L}\\right) \\dot{\\phi}_{L}^{2} + u \\left(u_{x} \\operatorname{cos}\\left(\\theta_{L}\\right) + u_{y} \\operatorname{sin}\\left(\\phi_{L}\\right) \\operatorname{sin}\\left(\\theta_{L}\\right) - u_{z} \\operatorname{sin}\\left(\\theta_{L}\\right) \\operatorname{cos}\\left(\\phi_{L}\\right)\\right)\\right)$$"
      ],
      "text/plain": [
       "                        2                                                     \n",
       "  M⋅l⋅sin(2⋅θ_L)⋅\\phi̇_L                                                      \n",
       "- ─────────────────────── + u⋅(uₓ⋅cos(θ_L) + u_y⋅sin(\\phi_L)⋅sin(θ_L) - u_z⋅si\n",
       "             2                                                                \n",
       "──────────────────────────────────────────────────────────────────────────────\n",
       "                                               M⋅l                            \n",
       "\n",
       "                   \n",
       "                   \n",
       "n(θ_L)⋅cos(\\phi_L))\n",
       "                   \n",
       "───────────────────\n",
       "                   "
      ]
     },
     "execution_count": 26,
     "metadata": {},
     "output_type": "execute_result"
    }
   ],
   "source": [
    "thetaLddot_expr = res[thetaLddot]\n",
    "thetaLddot_expr = simplify(expand_trig(thetaLddot_expr))\n",
    "#thetaLddot = thetaLddot_expr.subs([(ux,cos(phi)*sin(theta)*cos(psi)+sin(phi)*sin(psi)), (uy,cos(phi)*sin(theta)*sin(psi)-sin(phi)*cos(psi)),(uz,cos(phi)*cos(theta))])\n",
    "thetaLddot_expr = simplify(collect(thetaLddot_expr,u))\n",
    "thetaLddot_expr"
   ]
  },
  {
   "cell_type": "code",
   "execution_count": 27,
   "metadata": {},
   "outputs": [
    {
     "data": {
      "image/png": "[encoded data removed]",
      "text/latex": [
       "$$\\frac{1}{4 M \\left(M + m\\right)} \\left(- M l m \\left(\\operatorname{sin}\\left(\\theta_{L}\\right) + \\operatorname{sin}\\left(3 \\theta_{L}\\right)\\right) \\dot{\\phi}_{L}^{2} - 4 M l m \\operatorname{sin}\\left(\\theta_{L}\\right) \\dot{\\theta}_{L}^{2} + m u u_{y} \\left(\\operatorname{cos}\\left(\\phi_{L} - 2 \\theta_{L}\\right) - \\operatorname{cos}\\left(\\phi_{L} + 2 \\theta_{L}\\right)\\right) + m u u_{z} \\left(\\operatorname{sin}\\left(\\phi_{L} - 2 \\theta_{L}\\right) - \\operatorname{sin}\\left(\\phi_{L} + 2 \\theta_{L}\\right)\\right) + 4 u u_{x} \\left(M + m \\operatorname{cos}^{2}\\left(\\theta_{L}\\right)\\right)\\right)$$"
      ],
      "text/plain": [
       "                                       2                        2             \n",
       "- M⋅l⋅m⋅(sin(θ_L) + sin(3⋅θ_L))⋅\\phi̇_L  - 4⋅M⋅l⋅m⋅sin(θ_L)⋅θ_̇L  + m⋅u⋅u_y⋅(c\n",
       "──────────────────────────────────────────────────────────────────────────────\n",
       "                                                                              \n",
       "\n",
       "                                                                              \n",
       "os(\\phi_L - 2⋅θ_L) - cos(\\phi_L + 2⋅θ_L)) + m⋅u⋅u_z⋅(sin(\\phi_L - 2⋅θ_L) - sin\n",
       "──────────────────────────────────────────────────────────────────────────────\n",
       "                4⋅M⋅(M + m)                                                   \n",
       "\n",
       "                           ⎛         2     ⎞\n",
       "(\\phi_L + 2⋅θ_L)) + 4⋅u⋅uₓ⋅⎝M + m⋅cos (θ_L)⎠\n",
       "────────────────────────────────────────────\n",
       "                                            "
      ]
     },
     "execution_count": 27,
     "metadata": {},
     "output_type": "execute_result"
    }
   ],
   "source": [
    "xddot_expr = res[xddot]\n",
    "xddot_expr = collect(xddot_expr,phiLdot**2)\n",
    "xddot_expr = collect(xddot_expr,u*ux)\n",
    "xddot_expr = collect(xddot_expr,u*uy)\n",
    "xddot_expr = collect(xddot_expr,u*uz)\n",
    "xddot_expr = simplify(xddot_expr)\n",
    "xddot_expr"
   ]
  },
  {
   "cell_type": "code",
   "execution_count": 233,
   "metadata": {},
   "outputs": [
    {
     "data": {
      "image/png": "[encoded data removed]",
      "text/latex": [
       "$$4 \\operatorname{sin}\\left(\\theta\\right) \\operatorname{cos}^{2}\\left(\\theta\\right)$$"
      ],
      "text/plain": [
       "            2   \n",
       "4⋅sin(θ)⋅cos (θ)"
      ]
     },
     "execution_count": 233,
     "metadata": {},
     "output_type": "execute_result"
    }
   ],
   "source": [
    "simplify(expand_trig(sin(theta)+sin(3*theta)))"
   ]
  },
  {
   "cell_type": "code",
   "execution_count": 202,
   "metadata": {},
   "outputs": [
    {
     "data": {
      "image/png": "[encoded data removed]",
      "text/latex": [
       "$$4 \\operatorname{sin}\\left(\\phi\\right) \\operatorname{sin}\\left(\\theta\\right) \\operatorname{cos}\\left(\\theta\\right)$$"
      ],
      "text/plain": [
       "4⋅sin(\\phi)⋅sin(θ)⋅cos(θ)"
      ]
     },
     "execution_count": 202,
     "metadata": {},
     "output_type": "execute_result"
    }
   ],
   "source": [
    "expand_trig(cos(phi-2*theta)-cos(phi+2*theta))"
   ]
  },
  {
   "cell_type": "code",
   "execution_count": 203,
   "metadata": {},
   "outputs": [
    {
     "data": {
      "image/png": "[encoded data removed]",
      "text/latex": [
       "$$- 4 \\operatorname{sin}\\left(\\theta\\right) \\operatorname{cos}\\left(\\phi\\right) \\operatorname{cos}\\left(\\theta\\right)$$"
      ],
      "text/plain": [
       "-4⋅sin(θ)⋅cos(\\phi)⋅cos(θ)"
      ]
     },
     "execution_count": 203,
     "metadata": {},
     "output_type": "execute_result"
    }
   ],
   "source": [
    "expand_trig(sin(phi-2*theta)-sin(phi+2*theta))"
   ]
  },
  {
   "cell_type": "code",
   "execution_count": 28,
   "metadata": {},
   "outputs": [
    {
     "data": {
      "image/png": "[encoded data removed]",
      "text/latex": [
       "$$\\frac{1}{M \\left(M + m\\right)} \\left(M l m \\operatorname{sin}\\left(\\phi_{L}\\right) \\operatorname{cos}^{3}\\left(\\theta_{L}\\right) \\dot{\\phi}_{L}^{2} + M l m \\operatorname{sin}\\left(\\phi_{L}\\right) \\operatorname{cos}\\left(\\theta_{L}\\right) \\dot{\\theta}_{L}^{2} + u \\left(m u_{x} \\operatorname{sin}\\left(\\phi_{L}\\right) \\operatorname{sin}\\left(\\theta_{L}\\right) \\operatorname{cos}\\left(\\theta_{L}\\right) + m u_{z} \\operatorname{sin}\\left(\\phi_{L}\\right) \\operatorname{cos}\\left(\\phi_{L}\\right) \\operatorname{cos}^{2}\\left(\\theta_{L}\\right) + u_{y} \\left(M + m \\operatorname{cos}^{2}\\left(\\phi_{L}\\right) \\operatorname{cos}^{2}\\left(\\theta_{L}\\right) - m \\operatorname{cos}^{2}\\left(\\theta_{L}\\right) + m\\right)\\right)\\right)$$"
      ],
      "text/plain": [
       "                     3             2                                  2     ⎛ \n",
       "M⋅l⋅m⋅sin(\\phi_L)⋅cos (θ_L)⋅\\phi̇_L  + M⋅l⋅m⋅sin(\\phi_L)⋅cos(θ_L)⋅θ_̇L  + u⋅⎝m\n",
       "──────────────────────────────────────────────────────────────────────────────\n",
       "                                                                              \n",
       "\n",
       "                                                                     2        \n",
       "⋅uₓ⋅sin(\\phi_L)⋅sin(θ_L)⋅cos(θ_L) + m⋅u_z⋅sin(\\phi_L)⋅cos(\\phi_L)⋅cos (θ_L) + \n",
       "──────────────────────────────────────────────────────────────────────────────\n",
       "                      M⋅(M + m)                                               \n",
       "\n",
       "    ⎛         2            2             2         ⎞⎞\n",
       "u_y⋅⎝M + m⋅cos (\\phi_L)⋅cos (θ_L) - m⋅cos (θ_L) + m⎠⎠\n",
       "─────────────────────────────────────────────────────\n",
       "                                                     "
      ]
     },
     "execution_count": 28,
     "metadata": {},
     "output_type": "execute_result"
    }
   ],
   "source": [
    "yddot_expr = res[yddot]\n",
    "yddot_expr = collect(yddot_expr,u*ux)\n",
    "yddot_expr = collect(yddot_expr,u*uy)\n",
    "yddot_expr = collect(yddot_expr,u*uz)\n",
    "yddot_expr = collect(yddot_expr,u)\n",
    "yddot_expr"
   ]
  },
  {
   "cell_type": "code",
   "execution_count": 221,
   "metadata": {},
   "outputs": [
    {
     "data": {
      "image/png": "[encoded data removed]",
      "text/latex": [
       "$$- \\operatorname{sin}^{2}\\left(\\phi\\right) \\operatorname{cos}^{2}\\left(\\theta\\right)$$"
      ],
      "text/plain": [
       "    2          2   \n",
       "-sin (\\phi)⋅cos (θ)"
      ]
     },
     "execution_count": 221,
     "metadata": {},
     "output_type": "execute_result"
    }
   ],
   "source": [
    "trigsimp(cos(phi)**2*cos(theta)**2-cos(theta)**2)"
   ]
  },
  {
   "cell_type": "code",
   "execution_count": 29,
   "metadata": {},
   "outputs": [
    {
     "data": {
      "image/png": "[encoded data removed]",
      "text/latex": [
       "$$\\frac{1}{M \\left(M + m\\right)} \\left(- M l m \\operatorname{cos}\\left(\\phi_{L}\\right) \\operatorname{cos}^{3}\\left(\\theta_{L}\\right) \\dot{\\phi}_{L}^{2} - M l m \\operatorname{cos}\\left(\\phi_{L}\\right) \\operatorname{cos}\\left(\\theta_{L}\\right) \\dot{\\theta}_{L}^{2} + g \\left(- M^{2} - M m\\right) + u \\left(- m u_{x} \\operatorname{sin}\\left(\\theta_{L}\\right) \\operatorname{cos}\\left(\\phi_{L}\\right) \\operatorname{cos}\\left(\\theta_{L}\\right) + m u_{y} \\operatorname{sin}\\left(\\phi_{L}\\right) \\operatorname{cos}\\left(\\phi_{L}\\right) \\operatorname{cos}^{2}\\left(\\theta_{L}\\right) + u_{z} \\left(M - m \\operatorname{cos}^{2}\\left(\\phi_{L}\\right) \\operatorname{cos}^{2}\\left(\\theta_{L}\\right) + m\\right)\\right)\\right)$$"
      ],
      "text/plain": [
       "                       3             2                                  2     \n",
       "- M⋅l⋅m⋅cos(\\phi_L)⋅cos (θ_L)⋅\\phi̇_L  - M⋅l⋅m⋅cos(\\phi_L)⋅cos(θ_L)⋅θ_̇L  + g⋅\n",
       "──────────────────────────────────────────────────────────────────────────────\n",
       "                                                                              \n",
       "\n",
       "⎛   2      ⎞     ⎛                                                            \n",
       "⎝- M  - M⋅m⎠ + u⋅⎝-m⋅uₓ⋅sin(θ_L)⋅cos(\\phi_L)⋅cos(θ_L) + m⋅u_y⋅sin(\\phi_L)⋅cos(\n",
       "──────────────────────────────────────────────────────────────────────────────\n",
       "                         M⋅(M + m)                                            \n",
       "\n",
       "           2            ⎛         2            2         ⎞⎞\n",
       "\\phi_L)⋅cos (θ_L) + u_z⋅⎝M - m⋅cos (\\phi_L)⋅cos (θ_L) + m⎠⎠\n",
       "───────────────────────────────────────────────────────────\n",
       "                                                           "
      ]
     },
     "execution_count": 29,
     "metadata": {},
     "output_type": "execute_result"
    }
   ],
   "source": [
    "zddot_expr = res[zddot]\n",
    "zddot_expr = collect(zddot_expr,g)\n",
    "zddot_expr = collect(zddot_expr,u*ux)\n",
    "zddot_expr = collect(zddot_expr,u*uy)\n",
    "zddot_expr = collect(zddot_expr,u*uz)\n",
    "zddot_expr = collect(zddot_expr,u)\n",
    "zddot_expr"
   ]
  }
 ],
 "metadata": {
  "kernelspec": {
   "display_name": "Python 3",
   "language": "python",
   "name": "python3"
  },
  "language_info": {
   "codemirror_mode": {
    "name": "ipython",
    "version": 3
   },
   "file_extension": ".py",
   "mimetype": "text/x-python",
   "name": "python",
   "nbconvert_exporter": "python",
   "pygments_lexer": "ipython3",
   "version": "3.6.4"
  }
 },
 "nbformat": 4,
 "nbformat_minor": 2
}
