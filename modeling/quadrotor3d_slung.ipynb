{
 "cells": [
  {
   "cell_type": "code",
   "execution_count": 3,
   "metadata": {},
   "outputs": [],
   "source": [
    "from sympy import *\n",
    "from sympy.physics.mechanics import dynamicsymbols, init_vprinting\n",
    "\n",
    "init_vprinting()\n",
    "\n",
    "t, u = symbols('t u')\n",
    "\n",
    "# Euler angles\n",
    "phi, theta, psi = dynamicsymbols('\\phi \\ttheta \\psi')\n",
    "\n",
    "# Cable angles\n",
    "phiL, thetaL = dynamicsymbols('\\phi_L \\ttheta_L')\n",
    "\n",
    "# Quadrotor position variables\n",
    "x, y, z = dynamicsymbols('x y z')\n",
    "\n",
    "# Physical parameters\n",
    "m, M, l, g = symbols('m M l g')\n",
    "\n",
    "# Load position\n",
    "xL = x - l*sin(thetaL)\n",
    "yL = y + l*sin(phiL)*cos(thetaL)\n",
    "zL = z - l*cos(phiL)*cos(thetaL)\n",
    "\n",
    "# Auxiliary variables\n",
    "ux, uy, uz = symbols('u_x u_y u_z');\n",
    "# ux = cos(phi)*sin(theta)*cos(psi) + sin(phi)*sin(psi)\n",
    "# uy = cos(phi)*sin(theta)*sin(psi) - sin(phi)*cos(psi)\n",
    "# uz = cos(phi)*cos(theta)\n"
   ]
  },
  {
   "cell_type": "code",
   "execution_count": 75,
   "metadata": {},
   "outputs": [
    {
     "data": {
      "image/png": "[encoded data removed]",
      "text/latex": [
       "$$- M g z + \\frac{M}{2} \\left(\\dot{x}^{2} + \\dot{y}^{2} + \\dot{z}^{2}\\right) - g m \\left(- l \\operatorname{cos}\\left(\\phi_{L}\\right) \\operatorname{cos}\\left(\\theta_{L}\\right) + z\\right) + \\frac{m}{2} \\left(\\left(- l \\operatorname{cos}\\left(\\theta_{L}\\right) \\dot{\\theta}_{L} + \\dot{x}\\right)^{2} + \\left(- l \\operatorname{sin}\\left(\\phi_{L}\\right) \\operatorname{sin}\\left(\\theta_{L}\\right) \\dot{\\theta}_{L} + l \\operatorname{cos}\\left(\\phi_{L}\\right) \\operatorname{cos}\\left(\\theta_{L}\\right) \\dot{\\phi}_{L} + \\dot{y}\\right)^{2} + \\left(l \\operatorname{sin}\\left(\\phi_{L}\\right) \\operatorname{cos}\\left(\\theta_{L}\\right) \\dot{\\phi}_{L} + l \\operatorname{sin}\\left(\\theta_{L}\\right) \\operatorname{cos}\\left(\\phi_{L}\\right) \\dot{\\theta}_{L} + \\dot{z}\\right)^{2}\\right)$$"
      ],
      "text/plain": [
       "           ⎛  2     2     2⎞                                         ⎛        \n",
       "         M⋅⎝ẋ  + ẏ  + ż ⎠                                       m⋅⎝(-l⋅cos(\n",
       "-M⋅g⋅z + ─────────────────── - g⋅m⋅(-l⋅cos(\\phi_L)⋅cos(θ_L) + z) + ───────────\n",
       "                  2                                                           \n",
       "\n",
       "               2                                                              \n",
       "θ_L)⋅θ_̇L + ẋ)  + (-l⋅sin(\\phi_L)⋅sin(θ_L)⋅θ_̇L + l⋅cos(\\phi_L)⋅cos(θ_L)⋅\\phi\n",
       "──────────────────────────────────────────────────────────────────────────────\n",
       "                                                                          2   \n",
       "\n",
       "         2                                                                    \n",
       "̇_L + ẏ)  + (l⋅sin(\\phi_L)⋅cos(θ_L)⋅\\phi̇_L + l⋅sin(θ_L)⋅cos(\\phi_L)⋅θ_̇L + z\n",
       "──────────────────────────────────────────────────────────────────────────────\n",
       "                                                                              \n",
       "\n",
       "  2⎞\n",
       "̇) ⎠\n",
       "────\n",
       "    "
      ]
     },
     "execution_count": 75,
     "metadata": {},
     "output_type": "execute_result"
    }
   ],
   "source": [
    "T = M/2*(diff(x)**2+diff(y)**2+diff(z)**2) + m/2*(diff(xL,t)**2+diff(yL,t)**2+diff(zL,t)**2)\n",
    "V = M*g*z + m*g*zL\n",
    "L = T-V\n",
    "L"
   ]
  },
  {
   "cell_type": "code",
   "execution_count": 69,
   "metadata": {},
   "outputs": [
    {
     "data": {
      "image/png": "[encoded data removed]",
      "text/latex": [
       "$$l m \\left(\\operatorname{sin}\\left(\\theta_{L}\\right) \\dot{\\theta}_{L}^{2} - \\operatorname{cos}\\left(\\theta_{L}\\right) \\ddot{\\theta}_{L}\\right) - u u_{x} + \\left(M + m\\right) \\ddot{x}$$"
      ],
      "text/plain": [
       "    ⎛             2                ⎞                    \n",
       "l⋅m⋅⎝sin(θ_L)⋅θ_̇L  - cos(θ_L)⋅θ_̈L⎠ - u⋅uₓ + (M + m)⋅ẍ"
      ]
     },
     "execution_count": 69,
     "metadata": {},
     "output_type": "execute_result"
    }
   ],
   "source": [
    "eqX = expand(diff(diff(L,diff(x)),t) - diff(L,x)-ux*u)\n",
    "eqX = collect(collect(eqX,diff(x,t,2)),m*l)\n",
    "eqX"
   ]
  },
  {
   "cell_type": "code",
   "execution_count": 80,
   "metadata": {},
   "outputs": [
    {
     "data": {
      "image/png": "[encoded data removed]",
      "text/latex": [
       "$$l m \\left(- \\operatorname{sin}\\left(\\phi_{L}\\right) \\operatorname{sin}\\left(\\theta_{L}\\right) \\ddot{\\theta}_{L} - \\operatorname{sin}\\left(\\phi_{L}\\right) \\operatorname{cos}\\left(\\theta_{L}\\right) \\dot{\\phi}_{L}^{2} - \\operatorname{sin}\\left(\\phi_{L}\\right) \\operatorname{cos}\\left(\\theta_{L}\\right) \\dot{\\theta}_{L}^{2} - 2 \\operatorname{sin}\\left(\\theta_{L}\\right) \\operatorname{cos}\\left(\\phi_{L}\\right) \\dot{\\phi}_{L} \\dot{\\theta}_{L} + \\operatorname{cos}\\left(\\phi_{L}\\right) \\operatorname{cos}\\left(\\theta_{L}\\right) \\ddot{\\phi}_{L}\\right) - u u_{y} + \\left(M + m\\right) \\ddot{y}$$"
      ],
      "text/plain": [
       "    ⎛                                                         2               \n",
       "l⋅m⋅⎝-sin(\\phi_L)⋅sin(θ_L)⋅θ_̈L - sin(\\phi_L)⋅cos(θ_L)⋅\\phi̇_L  - sin(\\phi_L)⋅\n",
       "\n",
       "             2                                                                \n",
       "cos(θ_L)⋅θ_̇L  - 2⋅sin(θ_L)⋅cos(\\phi_L)⋅\\phi̇_L⋅θ_̇L + cos(\\phi_L)⋅cos(θ_L)⋅\\p\n",
       "\n",
       "     ⎞                     \n",
       "hï_L⎠ - u⋅u_y + (M + m)⋅ÿ"
      ]
     },
     "execution_count": 80,
     "metadata": {},
     "output_type": "execute_result"
    }
   ],
   "source": [
    "eqY = expand(diff(diff(L,diff(y)),t) - diff(L,y)-uy*u)\n",
    "eqY = collect(collect(eqY,diff(y,t,2)),m*l)\n",
    "eqY"
   ]
  },
  {
   "cell_type": "code",
   "execution_count": 81,
   "metadata": {},
   "outputs": [
    {
     "data": {
      "image/png": "[encoded data removed]",
      "text/latex": [
       "$$g \\left(M + m\\right) + l m \\left(- 2 \\operatorname{sin}\\left(\\phi_{L}\\right) \\operatorname{sin}\\left(\\theta_{L}\\right) \\dot{\\phi}_{L} \\dot{\\theta}_{L} + \\operatorname{sin}\\left(\\phi_{L}\\right) \\operatorname{cos}\\left(\\theta_{L}\\right) \\ddot{\\phi}_{L} + \\operatorname{sin}\\left(\\theta_{L}\\right) \\operatorname{cos}\\left(\\phi_{L}\\right) \\ddot{\\theta}_{L} + \\operatorname{cos}\\left(\\phi_{L}\\right) \\operatorname{cos}\\left(\\theta_{L}\\right) \\dot{\\phi}_{L}^{2} + \\operatorname{cos}\\left(\\phi_{L}\\right) \\operatorname{cos}\\left(\\theta_{L}\\right) \\dot{\\theta}_{L}^{2}\\right) - u u_{z} + \\left(M + m\\right) \\ddot{z}$$"
      ],
      "text/plain": [
       "                ⎛                                                             \n",
       "g⋅(M + m) + l⋅m⋅⎝-2⋅sin(\\phi_L)⋅sin(θ_L)⋅\\phi̇_L⋅θ_̇L + sin(\\phi_L)⋅cos(θ_L)⋅\\\n",
       "\n",
       "                                                                 2            \n",
       "phï_L + sin(θ_L)⋅cos(\\phi_L)⋅θ_̈L + cos(\\phi_L)⋅cos(θ_L)⋅\\phi̇_L  + cos(\\phi_\n",
       "\n",
       "                2⎞                     \n",
       "L)⋅cos(θ_L)⋅θ_̇L ⎠ - u⋅u_z + (M + m)⋅z̈"
      ]
     },
     "execution_count": 81,
     "metadata": {},
     "output_type": "execute_result"
    }
   ],
   "source": [
    "eqZ = expand(diff(diff(L,diff(z)),t) - diff(L,z)-uz*u)\n",
    "eqZ = collect(collect(collect(eqZ,diff(z,t,2)),g),m*l)\n",
    "eqZ"
   ]
  },
  {
   "cell_type": "code",
   "execution_count": 83,
   "metadata": {},
   "outputs": [
    {
     "data": {
      "image/png": "[encoded data removed]",
      "text/latex": [
       "$$l m \\left(g \\operatorname{sin}\\left(\\phi_{L}\\right) - 2 l \\operatorname{sin}\\left(\\theta_{L}\\right) \\dot{\\phi}_{L} \\dot{\\theta}_{L} + l \\operatorname{cos}\\left(\\theta_{L}\\right) \\ddot{\\phi}_{L} + \\operatorname{sin}\\left(\\phi_{L}\\right) \\ddot{z} + \\operatorname{cos}\\left(\\phi_{L}\\right) \\ddot{y}\\right) \\operatorname{cos}\\left(\\theta_{L}\\right)$$"
      ],
      "text/plain": [
       "l⋅m⋅(g⋅sin(\\phi_L) - 2⋅l⋅sin(θ_L)⋅\\phi̇_L⋅θ_̇L + l⋅cos(θ_L)⋅\\phï_L + sin(\\phi\n",
       "_L)⋅z̈ + cos(\\phi_L)⋅ÿ)⋅cos(θ_L)"
      ]
     },
     "execution_count": 83,
     "metadata": {},
     "output_type": "execute_result"
    }
   ],
   "source": [
    "eqPhiL = simplify(diff(diff(L,diff(phiL)),t) - diff(L,phiL))\n",
    "eqPhiL"
   ]
  },
  {
   "cell_type": "code",
   "execution_count": 101,
   "metadata": {},
   "outputs": [
    {
     "data": {
      "image/png": "[encoded data removed]",
      "text/latex": [
       "$$l m \\left(g \\operatorname{sin}\\left(\\theta_{L}\\right) \\operatorname{cos}\\left(\\phi_{L}\\right) + l \\operatorname{sin}\\left(\\theta_{L}\\right) \\operatorname{cos}\\left(\\theta_{L}\\right) \\dot{\\phi}_{L}^{2} + l \\ddot{\\theta}_{L} - \\operatorname{sin}\\left(\\phi_{L}\\right) \\operatorname{sin}\\left(\\theta_{L}\\right) \\ddot{y} + \\operatorname{sin}\\left(\\theta_{L}\\right) \\operatorname{cos}\\left(\\phi_{L}\\right) \\ddot{z} - \\operatorname{cos}\\left(\\theta_{L}\\right) \\ddot{x}\\right)$$"
      ],
      "text/plain": [
       "    ⎛                                                    2                    \n",
       "l⋅m⋅⎝g⋅sin(θ_L)⋅cos(\\phi_L) + l⋅sin(θ_L)⋅cos(θ_L)⋅\\phi̇_L  + l⋅θ_̈L - sin(\\phi\n",
       "\n",
       "                                                       ⎞\n",
       "_L)⋅sin(θ_L)⋅ÿ + sin(θ_L)⋅cos(\\phi_L)⋅z̈ - cos(θ_L)⋅ẍ⎠"
      ]
     },
     "execution_count": 101,
     "metadata": {},
     "output_type": "execute_result"
    }
   ],
   "source": [
    "eqThetaL = simplify(diff(diff(L,diff(thetaL)),t) - diff(L,thetaL))\n",
    "eqThetaL = collect(eqThetaL,diff(z,t,2))\n",
    "eqThetaL = collect(eqThetaL,diff(y,t,2))\n",
    "eqThetaL = collect(eqThetaL,g)\n",
    "eqThetaL = expand_trig(eqThetaL)\n",
    "eqThetaL"
   ]
  },
  {
   "cell_type": "code",
   "execution_count": 119,
   "metadata": {},
   "outputs": [],
   "source": [
    "res = solve([eqX,eqY,eqZ,eqPhiL,eqThetaL],[diff(x,t,2),diff(y,t,2),diff(z,t,2),diff(phiL,t,2),diff(thetaL,t,2)])"
   ]
  },
  {
   "cell_type": "code",
   "execution_count": 117,
   "metadata": {},
   "outputs": [
    {
     "data": {
      "image/png": "[encoded data removed]",
      "text/latex": [
       "$$\\left \\{ \\ddot{\\phi}_{L} : \\frac{1}{M l \\operatorname{cos}\\left(\\theta_{L}\\right)} \\left(2 M l \\operatorname{sin}\\left(\\theta_{L}\\right) \\dot{\\phi}_{L} \\dot{\\theta}_{L} - u u_{y} \\operatorname{cos}\\left(\\phi_{L}\\right) - u u_{z} \\operatorname{sin}\\left(\\phi_{L}\\right)\\right), \\quad \\ddot{\\theta}_{L} : \\frac{1}{M l} \\left(- \\frac{M l}{2} \\operatorname{sin}\\left(2 \\theta_{L}\\right) \\dot{\\phi}_{L}^{2} + u u_{x} \\operatorname{cos}\\left(\\theta_{L}\\right) + \\frac{u u_{y}}{2} \\operatorname{cos}\\left(\\phi_{L} - \\theta_{L}\\right) - \\frac{u u_{y}}{2} \\operatorname{cos}\\left(\\phi_{L} + \\theta_{L}\\right) + \\frac{u u_{z}}{2} \\operatorname{sin}\\left(\\phi_{L} - \\theta_{L}\\right) - \\frac{u u_{z}}{2} \\operatorname{sin}\\left(\\phi_{L} + \\theta_{L}\\right)\\right), \\quad \\ddot{x} : \\frac{1}{M \\left(M + m\\right)} \\left(- \\frac{M l}{4} m \\operatorname{sin}\\left(\\theta_{L}\\right) \\dot{\\phi}_{L}^{2} - M l m \\operatorname{sin}\\left(\\theta_{L}\\right) \\dot{\\theta}_{L}^{2} - \\frac{M l}{4} m \\operatorname{sin}\\left(3 \\theta_{L}\\right) \\dot{\\phi}_{L}^{2} + M u u_{x} + \\frac{m u}{2} u_{x} \\operatorname{cos}\\left(2 \\theta_{L}\\right) + \\frac{m u}{2} u_{x} + \\frac{m u}{4} u_{y} \\operatorname{cos}\\left(\\phi_{L} - 2 \\theta_{L}\\right) - \\frac{m u}{4} u_{y} \\operatorname{cos}\\left(\\phi_{L} + 2 \\theta_{L}\\right) + \\frac{m u}{4} u_{z} \\operatorname{sin}\\left(\\phi_{L} - 2 \\theta_{L}\\right) - \\frac{m u}{4} u_{z} \\operatorname{sin}\\left(\\phi_{L} + 2 \\theta_{L}\\right)\\right), \\quad \\ddot{y} : \\frac{1}{M \\left(M + m\\right)} \\left(M l m \\operatorname{sin}\\left(\\phi_{L}\\right) \\operatorname{cos}^{3}\\left(\\theta_{L}\\right) \\dot{\\phi}_{L}^{2} + M l m \\operatorname{sin}\\left(\\phi_{L}\\right) \\operatorname{cos}\\left(\\theta_{L}\\right) \\dot{\\theta}_{L}^{2} + M u u_{y} + m u u_{x} \\operatorname{sin}\\left(\\phi_{L}\\right) \\operatorname{sin}\\left(\\theta_{L}\\right) \\operatorname{cos}\\left(\\theta_{L}\\right) + m u u_{y} \\operatorname{cos}^{2}\\left(\\phi_{L}\\right) \\operatorname{cos}^{2}\\left(\\theta_{L}\\right) - m u u_{y} \\operatorname{cos}^{2}\\left(\\theta_{L}\\right) + m u u_{y} + m u u_{z} \\operatorname{sin}\\left(\\phi_{L}\\right) \\operatorname{cos}\\left(\\phi_{L}\\right) \\operatorname{cos}^{2}\\left(\\theta_{L}\\right)\\right), \\quad \\ddot{z} : \\frac{1}{M \\left(M + m\\right)} \\left(- M^{2} g - M g m - M l m \\operatorname{cos}\\left(\\phi_{L}\\right) \\operatorname{cos}^{3}\\left(\\theta_{L}\\right) \\dot{\\phi}_{L}^{2} - M l m \\operatorname{cos}\\left(\\phi_{L}\\right) \\operatorname{cos}\\left(\\theta_{L}\\right) \\dot{\\theta}_{L}^{2} + M u u_{z} - m u u_{x} \\operatorname{sin}\\left(\\theta_{L}\\right) \\operatorname{cos}\\left(\\phi_{L}\\right) \\operatorname{cos}\\left(\\theta_{L}\\right) + m u u_{y} \\operatorname{sin}\\left(\\phi_{L}\\right) \\operatorname{cos}\\left(\\phi_{L}\\right) \\operatorname{cos}^{2}\\left(\\theta_{L}\\right) - m u u_{z} \\operatorname{cos}^{2}\\left(\\phi_{L}\\right) \\operatorname{cos}^{2}\\left(\\theta_{L}\\right) + m u u_{z}\\right)\\right \\}$$"
      ],
      "text/plain": [
       "⎧                                                                             \n",
       "⎪                                                                             \n",
       "⎪                                                                             \n",
       "⎨         2⋅M⋅l⋅sin(θ_L)⋅\\phi̇_L⋅θ_̇L - u⋅u_y⋅cos(\\phi_L) - u⋅u_z⋅sin(\\phi_L) \n",
       "⎪\\phï_L: ───────────────────────────────────────────────────────────────────,\n",
       "⎪                                     M⋅l⋅cos(θ_L)                            \n",
       "⎩                                                                             \n",
       "\n",
       "                               2                                              \n",
       "         M⋅l⋅sin(2⋅θ_L)⋅\\phi̇_L                    u⋅u_y⋅cos(\\phi_L - θ_L)   u\n",
       "       - ─────────────────────── + u⋅uₓ⋅cos(θ_L) + ─────────────────────── - ─\n",
       "                    2                                         2               \n",
       " θ_̈L: ───────────────────────────────────────────────────────────────────────\n",
       "                                                                              \n",
       "                                                                              \n",
       "\n",
       "                                                                              \n",
       "⋅u_y⋅cos(\\phi_L + θ_L)   u⋅u_z⋅sin(\\phi_L - θ_L)   u⋅u_z⋅sin(\\phi_L + θ_L)    \n",
       "────────────────────── + ─────────────────────── - ───────────────────────    \n",
       "          2                         2                         2               \n",
       "──────────────────────────────────────────────────────────────────────────, ẍ\n",
       "M⋅l                                                                           \n",
       "                                                                              \n",
       "\n",
       "                          2                                                  2\n",
       "    M⋅l⋅m⋅sin(θ_L)⋅\\phi̇_L                       2   M⋅l⋅m⋅sin(3⋅θ_L)⋅\\phi̇_L \n",
       "  - ─────────────────────── - M⋅l⋅m⋅sin(θ_L)⋅θ_̇L  - ─────────────────────────\n",
       "               4                                                 4            \n",
       ": ────────────────────────────────────────────────────────────────────────────\n",
       "                                                                              \n",
       "                                                                              \n",
       "\n",
       "                                                                              \n",
       "            m⋅u⋅uₓ⋅cos(2⋅θ_L)   m⋅u⋅uₓ   m⋅u⋅u_y⋅cos(\\phi_L - 2⋅θ_L)   m⋅u⋅u_y\n",
       " + M⋅u⋅uₓ + ───────────────── + ────── + ─────────────────────────── - ───────\n",
       "                    2             2                   4                       \n",
       "──────────────────────────────────────────────────────────────────────────────\n",
       "                                    M⋅(M + m)                                 \n",
       "                                                                              \n",
       "\n",
       "                                                                              \n",
       "⋅cos(\\phi_L + 2⋅θ_L)   m⋅u⋅u_z⋅sin(\\phi_L - 2⋅θ_L)   m⋅u⋅u_z⋅sin(\\phi_L + 2⋅θ_\n",
       "──────────────────── + ─────────────────────────── - ─────────────────────────\n",
       "      4                             4                             4           \n",
       "──────────────────────────────────────────────────────────────────────────────\n",
       "                                                                              \n",
       "                                                                              \n",
       "\n",
       "                                                                              \n",
       "L)                                                                            \n",
       "──                           3             2                                  \n",
       "        M⋅l⋅m⋅sin(\\phi_L)⋅cos (θ_L)⋅\\phi̇_L  + M⋅l⋅m⋅sin(\\phi_L)⋅cos(θ_L)⋅θ_̇L\n",
       "──, ÿ: ──────────────────────────────────────────────────────────────────────\n",
       "                                                                              \n",
       "                                                                              \n",
       "\n",
       "                                                                              \n",
       "                                                                              \n",
       "2                                                               2            2\n",
       "  + M⋅u⋅u_y + m⋅u⋅uₓ⋅sin(\\phi_L)⋅sin(θ_L)⋅cos(θ_L) + m⋅u⋅u_y⋅cos (\\phi_L)⋅cos \n",
       "──────────────────────────────────────────────────────────────────────────────\n",
       "                                       M⋅(M + m)                              \n",
       "                                                                              \n",
       "\n",
       "                                                                              \n",
       "                                                                              \n",
       "                   2                                                     2    \n",
       "(θ_L) - m⋅u⋅u_y⋅cos (θ_L) + m⋅u⋅u_y + m⋅u⋅u_z⋅sin(\\phi_L)⋅cos(\\phi_L)⋅cos (θ_L\n",
       "──────────────────────────────────────────────────────────────────────────────\n",
       "                                                                              \n",
       "                                                                              \n",
       "\n",
       "                                                                              \n",
       "                                                                              \n",
       "          2                                  3             2                  \n",
       ")      - M ⋅g - M⋅g⋅m - M⋅l⋅m⋅cos(\\phi_L)⋅cos (θ_L)⋅\\phi̇_L  - M⋅l⋅m⋅cos(\\phi_\n",
       "─, z̈: ───────────────────────────────────────────────────────────────────────\n",
       "                                                                              \n",
       "                                                                              \n",
       "\n",
       "                                                                              \n",
       "                                                                              \n",
       "                2                                                             \n",
       "L)⋅cos(θ_L)⋅θ_̇L  + M⋅u⋅u_z - m⋅u⋅uₓ⋅sin(θ_L)⋅cos(\\phi_L)⋅cos(θ_L) + m⋅u⋅u_y⋅s\n",
       "──────────────────────────────────────────────────────────────────────────────\n",
       "                                    M⋅(M + m)                                 \n",
       "                                                                              \n",
       "\n",
       "                                                                           ⎫\n",
       "                                                                           ⎪\n",
       "                          2                   2            2               ⎪\n",
       "in(\\phi_L)⋅cos(\\phi_L)⋅cos (θ_L) - m⋅u⋅u_z⋅cos (\\phi_L)⋅cos (θ_L) + m⋅u⋅u_z⎬\n",
       "───────────────────────────────────────────────────────────────────────────⎪\n",
       "                                                                           ⎪\n",
       "                                                                           ⎭"
      ]
     },
     "execution_count": 117,
     "metadata": {},
     "output_type": "execute_result"
    }
   ],
   "source": [
    "res"
   ]
  },
  {
   "cell_type": "code",
   "execution_count": 137,
   "metadata": {},
   "outputs": [
    {
     "data": {
      "image/png": "[encoded data removed]",
      "text/latex": [
       "$$\\frac{1}{M l \\operatorname{cos}\\left(\\theta_{L}\\right)} \\left(2 M l \\operatorname{sin}\\left(\\theta_{L}\\right) \\dot{\\phi}_{L} \\dot{\\theta}_{L} + u \\left(\\left(\\operatorname{sin}\\left(\\phi\\right) \\operatorname{cos}\\left(\\psi\\right) - \\operatorname{sin}\\left(\\psi\\right) \\operatorname{sin}\\left(\\theta\\right) \\operatorname{cos}\\left(\\phi\\right)\\right) \\operatorname{cos}\\left(\\phi_{L}\\right) - \\operatorname{sin}\\left(\\phi_{L}\\right) \\operatorname{cos}\\left(\\phi\\right) \\operatorname{cos}\\left(\\theta\\right)\\right)\\right)$$"
      ],
      "text/plain": [
       "2⋅M⋅l⋅sin(θ_L)⋅\\phi̇_L⋅θ_̇L + u⋅((sin(\\phi)⋅cos(\\psi) - sin(\\psi)⋅sin(θ)⋅cos(\\\n",
       "──────────────────────────────────────────────────────────────────────────────\n",
       "                                                          M⋅l⋅cos(θ_L)        \n",
       "\n",
       "phi))⋅cos(\\phi_L) - sin(\\phi_L)⋅cos(\\phi)⋅cos(θ))\n",
       "─────────────────────────────────────────────────\n",
       "                                                 "
      ]
     },
     "execution_count": 137,
     "metadata": {},
     "output_type": "execute_result"
    }
   ],
   "source": [
    "phiLddot = res[diff(phiL,t,2)]\n",
    "phiLddot = phiLddot.subs([(uy,cos(phi)*sin(theta)*sin(psi)-sin(phi)*cos(psi)),(uz,cos(phi)*cos(theta))])\n",
    "phiLddot = simplify(phiLddot)\n",
    "phiLddot = collect(phiLddot,u)\n",
    "phiLddot"
   ]
  },
  {
   "cell_type": "code",
   "execution_count": 146,
   "metadata": {},
   "outputs": [
    {
     "data": {
      "image/png": "[encoded data removed]",
      "text/latex": [
       "$$\\frac{1}{M l} \\left(- \\frac{M l}{2} \\operatorname{sin}\\left(2 \\theta_{L}\\right) \\dot{\\phi}_{L}^{2} + u u_{x} \\operatorname{cos}\\left(\\theta_{L}\\right) + u u_{y} \\operatorname{sin}\\left(\\phi_{L}\\right) \\operatorname{sin}\\left(\\theta_{L}\\right) - u u_{z} \\operatorname{sin}\\left(\\theta_{L}\\right) \\operatorname{cos}\\left(\\phi_{L}\\right)\\right)$$"
      ],
      "text/plain": [
       "                        2                                                     \n",
       "  M⋅l⋅sin(2⋅θ_L)⋅\\phi̇_L                                                      \n",
       "- ─────────────────────── + u⋅uₓ⋅cos(θ_L) + u⋅u_y⋅sin(\\phi_L)⋅sin(θ_L) - u⋅u_z\n",
       "             2                                                                \n",
       "──────────────────────────────────────────────────────────────────────────────\n",
       "                                                M⋅l                           \n",
       "\n",
       "                     \n",
       "                     \n",
       "⋅sin(θ_L)⋅cos(\\phi_L)\n",
       "                     \n",
       "─────────────────────\n",
       "                     "
      ]
     },
     "execution_count": 146,
     "metadata": {},
     "output_type": "execute_result"
    }
   ],
   "source": [
    "thetaLddot = res[diff(thetaL,t,2)]\n",
    "thetaLddot = simplify(expand_trig(thetaLddot))\n",
    "thetaLddot"
   ]
  },
  {
   "cell_type": "code",
   "execution_count": 156,
   "metadata": {},
   "outputs": [
    {
     "data": {
      "image/png": "[encoded data removed]",
      "text/latex": [
       "$$\\frac{1}{M l} \\left(- \\frac{M l}{2} \\operatorname{sin}\\left(2 \\theta_{L}\\right) \\dot{\\phi}_{L}^{2} + u \\left(\\left(\\operatorname{sin}\\left(\\phi\\right) \\operatorname{sin}\\left(\\psi\\right) + \\operatorname{sin}\\left(\\theta\\right) \\operatorname{cos}\\left(\\phi\\right) \\operatorname{cos}\\left(\\psi\\right)\\right) \\operatorname{cos}\\left(\\theta_{L}\\right) - \\left(\\operatorname{sin}\\left(\\phi\\right) \\operatorname{cos}\\left(\\psi\\right) - \\operatorname{sin}\\left(\\psi\\right) \\operatorname{sin}\\left(\\theta\\right) \\operatorname{cos}\\left(\\phi\\right)\\right) \\operatorname{sin}\\left(\\phi_{L}\\right) \\operatorname{sin}\\left(\\theta_{L}\\right) - \\operatorname{sin}\\left(\\theta_{L}\\right) \\operatorname{cos}\\left(\\phi\\right) \\operatorname{cos}\\left(\\phi_{L}\\right) \\operatorname{cos}\\left(\\theta\\right)\\right)\\right)$$"
      ],
      "text/plain": [
       "                        2                                                     \n",
       "  M⋅l⋅sin(2⋅θ_L)⋅\\phi̇_L                                                      \n",
       "- ─────────────────────── + u⋅((sin(\\phi)⋅sin(\\psi) + sin(θ)⋅cos(\\phi)⋅cos(\\ps\n",
       "             2                                                                \n",
       "──────────────────────────────────────────────────────────────────────────────\n",
       "                                                                              \n",
       "\n",
       "                                                                              \n",
       "                                                                              \n",
       "i))⋅cos(θ_L) - (sin(\\phi)⋅cos(\\psi) - sin(\\psi)⋅sin(θ)⋅cos(\\phi))⋅sin(\\phi_L)⋅\n",
       "                                                                              \n",
       "──────────────────────────────────────────────────────────────────────────────\n",
       "                       M⋅l                                                    \n",
       "\n",
       "                                                 \n",
       "                                                 \n",
       "sin(θ_L) - sin(θ_L)⋅cos(\\phi)⋅cos(\\phi_L)⋅cos(θ))\n",
       "                                                 \n",
       "─────────────────────────────────────────────────\n",
       "                                                 "
      ]
     },
     "execution_count": 156,
     "metadata": {},
     "output_type": "execute_result"
    }
   ],
   "source": [
    "thetaLddot = res[diff(thetaL,t,2)]\n",
    "thetaLddot = simplify(expand_trig(thetaLddot))\n",
    "thetaLddot = thetaLddot.subs([(ux,cos(phi)*sin(theta)*cos(psi)+sin(phi)*sin(psi)), (uy,cos(phi)*sin(theta)*sin(psi)-sin(phi)*cos(psi)),(uz,cos(phi)*cos(theta))])\n",
    "thetaLddot = simplify(collect(thetaLddot,u))\n",
    "thetaLddot"
   ]
  },
  {
   "cell_type": "code",
   "execution_count": 197,
   "metadata": {},
   "outputs": [
    {
     "data": {
      "image/png": "[encoded data removed]",
      "text/latex": [
       "$$\\frac{1}{4 M \\left(M + m\\right)} \\left(- M l m \\left(\\operatorname{sin}\\left(\\theta_{L}\\right) + \\operatorname{sin}\\left(3 \\theta_{L}\\right)\\right) \\dot{\\phi}_{L}^{2} - 4 M l m \\operatorname{sin}\\left(\\theta_{L}\\right) \\dot{\\theta}_{L}^{2} + m u u_{y} \\left(\\operatorname{cos}\\left(\\phi_{L} - 2 \\theta_{L}\\right) - \\operatorname{cos}\\left(\\phi_{L} + 2 \\theta_{L}\\right)\\right) + m u u_{z} \\left(\\operatorname{sin}\\left(\\phi_{L} - 2 \\theta_{L}\\right) - \\operatorname{sin}\\left(\\phi_{L} + 2 \\theta_{L}\\right)\\right) + 4 u u_{x} \\left(M + m \\operatorname{cos}^{2}\\left(\\theta_{L}\\right)\\right)\\right)$$"
      ],
      "text/plain": [
       "                                       2                        2             \n",
       "- M⋅l⋅m⋅(sin(θ_L) + sin(3⋅θ_L))⋅\\phi̇_L  - 4⋅M⋅l⋅m⋅sin(θ_L)⋅θ_̇L  + m⋅u⋅u_y⋅(c\n",
       "──────────────────────────────────────────────────────────────────────────────\n",
       "                                                                              \n",
       "\n",
       "                                                                              \n",
       "os(\\phi_L - 2⋅θ_L) - cos(\\phi_L + 2⋅θ_L)) + m⋅u⋅u_z⋅(sin(\\phi_L - 2⋅θ_L) - sin\n",
       "──────────────────────────────────────────────────────────────────────────────\n",
       "                4⋅M⋅(M + m)                                                   \n",
       "\n",
       "                           ⎛         2     ⎞\n",
       "(\\phi_L + 2⋅θ_L)) + 4⋅u⋅uₓ⋅⎝M + m⋅cos (θ_L)⎠\n",
       "────────────────────────────────────────────\n",
       "                                            "
      ]
     },
     "execution_count": 197,
     "metadata": {},
     "output_type": "execute_result"
    }
   ],
   "source": [
    "xddot = res[diff(x,t,2)]\n",
    "xddot = collect(xddot,diff(phiL,t)**2)\n",
    "xddot = collect(xddot,u*ux)\n",
    "xddot = collect(xddot,u*uy)\n",
    "xddot = collect(xddot,u*uz)\n",
    "xddot = simplify(xddot)\n",
    "xddot"
   ]
  },
  {
   "cell_type": "code",
   "execution_count": 233,
   "metadata": {},
   "outputs": [
    {
     "data": {
      "image/png": "[encoded data removed]",
      "text/latex": [
       "$$4 \\operatorname{sin}\\left(\\theta\\right) \\operatorname{cos}^{2}\\left(\\theta\\right)$$"
      ],
      "text/plain": [
       "            2   \n",
       "4⋅sin(θ)⋅cos (θ)"
      ]
     },
     "execution_count": 233,
     "metadata": {},
     "output_type": "execute_result"
    }
   ],
   "source": [
    "simplify(expand_trig(sin(theta)+sin(3*theta)))"
   ]
  },
  {
   "cell_type": "code",
   "execution_count": 202,
   "metadata": {},
   "outputs": [
    {
     "data": {
      "image/png": "[encoded data removed]",
      "text/latex": [
       "$$4 \\operatorname{sin}\\left(\\phi\\right) \\operatorname{sin}\\left(\\theta\\right) \\operatorname{cos}\\left(\\theta\\right)$$"
      ],
      "text/plain": [
       "4⋅sin(\\phi)⋅sin(θ)⋅cos(θ)"
      ]
     },
     "execution_count": 202,
     "metadata": {},
     "output_type": "execute_result"
    }
   ],
   "source": [
    "expand_trig(cos(phi-2*theta)-cos(phi+2*theta))"
   ]
  },
  {
   "cell_type": "code",
   "execution_count": 203,
   "metadata": {},
   "outputs": [
    {
     "data": {
      "image/png": "[encoded data removed]",
      "text/latex": [
       "$$- 4 \\operatorname{sin}\\left(\\theta\\right) \\operatorname{cos}\\left(\\phi\\right) \\operatorname{cos}\\left(\\theta\\right)$$"
      ],
      "text/plain": [
       "-4⋅sin(θ)⋅cos(\\phi)⋅cos(θ)"
      ]
     },
     "execution_count": 203,
     "metadata": {},
     "output_type": "execute_result"
    }
   ],
   "source": [
    "expand_trig(sin(phi-2*theta)-sin(phi+2*theta))"
   ]
  },
  {
   "cell_type": "code",
   "execution_count": 231,
   "metadata": {},
   "outputs": [
    {
     "data": {
      "image/png": "[encoded data removed]",
      "text/latex": [
       "$$\\frac{1}{M \\left(M + m\\right)} \\left(M l m \\operatorname{sin}\\left(\\phi_{L}\\right) \\operatorname{cos}^{3}\\left(\\theta_{L}\\right) \\dot{\\phi}_{L}^{2} + M l m \\operatorname{sin}\\left(\\phi_{L}\\right) \\operatorname{cos}\\left(\\theta_{L}\\right) \\dot{\\theta}_{L}^{2} + u \\left(m u_{x} \\operatorname{sin}\\left(\\phi_{L}\\right) \\operatorname{sin}\\left(\\theta_{L}\\right) \\operatorname{cos}\\left(\\theta_{L}\\right) + m u_{z} \\operatorname{sin}\\left(\\phi_{L}\\right) \\operatorname{cos}\\left(\\phi_{L}\\right) \\operatorname{cos}^{2}\\left(\\theta_{L}\\right) + u_{y} \\left(M + m \\operatorname{cos}^{2}\\left(\\phi_{L}\\right) \\operatorname{cos}^{2}\\left(\\theta_{L}\\right) - m \\operatorname{cos}^{2}\\left(\\theta_{L}\\right) + m\\right)\\right)\\right)$$"
      ],
      "text/plain": [
       "                     3             2                                  2     ⎛ \n",
       "M⋅l⋅m⋅sin(\\phi_L)⋅cos (θ_L)⋅\\phi̇_L  + M⋅l⋅m⋅sin(\\phi_L)⋅cos(θ_L)⋅θ_̇L  + u⋅⎝m\n",
       "──────────────────────────────────────────────────────────────────────────────\n",
       "                                                                              \n",
       "\n",
       "                                                                     2        \n",
       "⋅uₓ⋅sin(\\phi_L)⋅sin(θ_L)⋅cos(θ_L) + m⋅u_z⋅sin(\\phi_L)⋅cos(\\phi_L)⋅cos (θ_L) + \n",
       "──────────────────────────────────────────────────────────────────────────────\n",
       "                      M⋅(M + m)                                               \n",
       "\n",
       "    ⎛         2            2             2         ⎞⎞\n",
       "u_y⋅⎝M + m⋅cos (\\phi_L)⋅cos (θ_L) - m⋅cos (θ_L) + m⎠⎠\n",
       "─────────────────────────────────────────────────────\n",
       "                                                     "
      ]
     },
     "execution_count": 231,
     "metadata": {},
     "output_type": "execute_result"
    }
   ],
   "source": [
    "yddot = res[diff(y,t,2)]\n",
    "yddot = collect(yddot,u*ux)\n",
    "yddot = collect(yddot,u*uy)\n",
    "yddot = collect(yddot,u*uz)\n",
    "yddot = collect(yddot,u)\n",
    "yddot"
   ]
  },
  {
   "cell_type": "code",
   "execution_count": 221,
   "metadata": {},
   "outputs": [
    {
     "data": {
      "image/png": "[encoded data removed]",
      "text/latex": [
       "$$- \\operatorname{sin}^{2}\\left(\\phi\\right) \\operatorname{cos}^{2}\\left(\\theta\\right)$$"
      ],
      "text/plain": [
       "    2          2   \n",
       "-sin (\\phi)⋅cos (θ)"
      ]
     },
     "execution_count": 221,
     "metadata": {},
     "output_type": "execute_result"
    }
   ],
   "source": [
    "trigsimp(cos(phi)**2*cos(theta)**2-cos(theta)**2)"
   ]
  },
  {
   "cell_type": "code",
   "execution_count": 232,
   "metadata": {},
   "outputs": [
    {
     "data": {
      "image/png": "[encoded data removed]",
      "text/latex": [
       "$$\\frac{1}{M \\left(M + m\\right)} \\left(- M l m \\operatorname{cos}\\left(\\phi_{L}\\right) \\operatorname{cos}^{3}\\left(\\theta_{L}\\right) \\dot{\\phi}_{L}^{2} - M l m \\operatorname{cos}\\left(\\phi_{L}\\right) \\operatorname{cos}\\left(\\theta_{L}\\right) \\dot{\\theta}_{L}^{2} + g \\left(- M^{2} - M m\\right) + u \\left(- m u_{x} \\operatorname{sin}\\left(\\theta_{L}\\right) \\operatorname{cos}\\left(\\phi_{L}\\right) \\operatorname{cos}\\left(\\theta_{L}\\right) + m u_{y} \\operatorname{sin}\\left(\\phi_{L}\\right) \\operatorname{cos}\\left(\\phi_{L}\\right) \\operatorname{cos}^{2}\\left(\\theta_{L}\\right) + u_{z} \\left(M - m \\operatorname{cos}^{2}\\left(\\phi_{L}\\right) \\operatorname{cos}^{2}\\left(\\theta_{L}\\right) + m\\right)\\right)\\right)$$"
      ],
      "text/plain": [
       "                       3             2                                  2     \n",
       "- M⋅l⋅m⋅cos(\\phi_L)⋅cos (θ_L)⋅\\phi̇_L  - M⋅l⋅m⋅cos(\\phi_L)⋅cos(θ_L)⋅θ_̇L  + g⋅\n",
       "──────────────────────────────────────────────────────────────────────────────\n",
       "                                                                              \n",
       "\n",
       "⎛   2      ⎞     ⎛                                                            \n",
       "⎝- M  - M⋅m⎠ + u⋅⎝-m⋅uₓ⋅sin(θ_L)⋅cos(\\phi_L)⋅cos(θ_L) + m⋅u_y⋅sin(\\phi_L)⋅cos(\n",
       "──────────────────────────────────────────────────────────────────────────────\n",
       "                         M⋅(M + m)                                            \n",
       "\n",
       "           2            ⎛         2            2         ⎞⎞\n",
       "\\phi_L)⋅cos (θ_L) + u_z⋅⎝M - m⋅cos (\\phi_L)⋅cos (θ_L) + m⎠⎠\n",
       "───────────────────────────────────────────────────────────\n",
       "                                                           "
      ]
     },
     "execution_count": 232,
     "metadata": {},
     "output_type": "execute_result"
    }
   ],
   "source": [
    "zddot = res[diff(z,t,2)]\n",
    "zddot = collect(zddot,g)\n",
    "zddot = collect(zddot,u*ux)\n",
    "zddot = collect(zddot,u*uy)\n",
    "zddot = collect(zddot,u*uz)\n",
    "zddot = collect(zddot,u)\n",
    "zddot"
   ]
  },
  {
   "cell_type": "code",
   "execution_count": 229,
   "metadata": {},
   "outputs": [
    {
     "data": {
      "image/png": "[encoded data removed]",
      "text/latex": [
       "$$\\frac{1}{M \\left(M + m\\right)} \\left(- M l m \\operatorname{cos}\\left(\\phi_{L}\\right) \\operatorname{cos}^{3}\\left(\\theta_{L}\\right) \\dot{\\phi}_{L}^{2} - M l m \\operatorname{cos}\\left(\\phi_{L}\\right) \\operatorname{cos}\\left(\\theta_{L}\\right) \\dot{\\theta}_{L}^{2} + g \\left(- M^{2} - M m\\right) + m u \\left(- u_{x} \\operatorname{sin}\\left(\\theta_{L}\\right) \\operatorname{cos}\\left(\\phi_{L}\\right) \\operatorname{cos}\\left(\\theta_{L}\\right) + u_{y} \\operatorname{sin}\\left(\\phi_{L}\\right) \\operatorname{cos}\\left(\\phi_{L}\\right) \\operatorname{cos}^{2}\\left(\\theta_{L}\\right)\\right) + u u_{z} \\left(M - m \\operatorname{cos}^{2}\\left(\\phi_{L}\\right) \\operatorname{cos}^{2}\\left(\\theta_{L}\\right) + m\\right)\\right)$$"
      ],
      "text/plain": [
       "                       3             2                                  2     \n",
       "- M⋅l⋅m⋅cos(\\phi_L)⋅cos (θ_L)⋅\\phi̇_L  - M⋅l⋅m⋅cos(\\phi_L)⋅cos(θ_L)⋅θ_̇L  + g⋅\n",
       "──────────────────────────────────────────────────────────────────────────────\n",
       "                                                                              \n",
       "\n",
       "⎛   2      ⎞       ⎛                                                          \n",
       "⎝- M  - M⋅m⎠ + m⋅u⋅⎝-uₓ⋅sin(θ_L)⋅cos(\\phi_L)⋅cos(θ_L) + u_y⋅sin(\\phi_L)⋅cos(\\p\n",
       "──────────────────────────────────────────────────────────────────────────────\n",
       "                         M⋅(M + m)                                            \n",
       "\n",
       "         2     ⎞         ⎛         2            2         ⎞\n",
       "hi_L)⋅cos (θ_L)⎠ + u⋅u_z⋅⎝M - m⋅cos (\\phi_L)⋅cos (θ_L) + m⎠\n",
       "───────────────────────────────────────────────────────────\n",
       "                                                           "
      ]
     },
     "execution_count": 229,
     "metadata": {},
     "output_type": "execute_result"
    }
   ],
   "source": [
    "collect(zddot,m*u)"
   ]
  },
  {
   "cell_type": "code",
   "execution_count": 239,
   "metadata": {},
   "outputs": [
    {
     "data": {
      "image/png": "[encoded data removed]",
      "text/latex": [
       "$$- \\operatorname{cos}^{2}\\left(\\phi\\right) \\operatorname{cos}^{2}\\left(\\theta\\right)$$"
      ],
      "text/plain": [
       "    2          2   \n",
       "-cos (\\phi)⋅cos (θ)"
      ]
     },
     "execution_count": 239,
     "metadata": {},
     "output_type": "execute_result"
    }
   ],
   "source": [
    "trigsimp(-cos(phi)**2*cos(theta)**2)"
   ]
  },
  {
   "cell_type": "code",
   "execution_count": 237,
   "metadata": {},
   "outputs": [
    {
     "data": {
      "image/png": "[encoded data removed]",
      "text/latex": [
       "$$\\operatorname{cos}^{2}\\left(\\theta\\right) + 1$$"
      ],
      "text/plain": [
       "   2       \n",
       "cos (θ) + 1"
      ]
     },
     "execution_count": 237,
     "metadata": {},
     "output_type": "execute_result"
    }
   ],
   "source": [
    "expand_trig(cos(theta)**2+1)"
   ]
  },
  {
   "cell_type": "code",
   "execution_count": 5,
   "metadata": {},
   "outputs": [
    {
     "data": {
      "image/png": "[encoded data removed]",
      "text/latex": [
       "$$\\left(2 \\operatorname{tan}\\left(\\theta\\right) \\dot{\\theta}^{2} + \\ddot{\\theta}\\right) \\left(\\operatorname{tan}^{2}\\left(\\theta\\right) + 1\\right)$$"
      ],
      "text/plain": [
       "⎛           2     ⎞ ⎛   2       ⎞\n",
       "⎝2⋅tan(θ)⋅θ̇  + θ̈⎠⋅⎝tan (θ) + 1⎠"
      ]
     },
     "execution_count": 5,
     "metadata": {},
     "output_type": "execute_result"
    }
   ],
   "source": [
    "diff(tan(theta),t,2)"
   ]
  },
  {
   "cell_type": "code",
   "execution_count": null,
   "metadata": {},
   "outputs": [],
   "source": []
  }
 ],
 "metadata": {
  "kernelspec": {
   "display_name": "Python 3",
   "language": "python",
   "name": "python3"
  },
  "language_info": {
   "codemirror_mode": {
    "name": "ipython",
    "version": 3
   },
   "file_extension": ".py",
   "mimetype": "text/x-python",
   "name": "python",
   "nbconvert_exporter": "python",
   "pygments_lexer": "ipython3",
   "version": "3.6.4"
  }
 },
 "nbformat": 4,
 "nbformat_minor": 2
}
